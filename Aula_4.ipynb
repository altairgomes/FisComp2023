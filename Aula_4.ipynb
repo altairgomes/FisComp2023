{
 "cells": [
  {
   "cell_type": "markdown",
   "id": "25f21de4-8758-48a5-b994-332af33d1546",
   "metadata": {},
   "source": [
    "# Aula 4\n",
    "\n",
    "Hoje vamos aprender sobre funções em python\n",
    "\n",
    "## Funções\n",
    "\n",
    "Uma função é um grupo de comandos que tipicamente realizam uma tarefa específica. Elas são definidas em um lugar e chamadas em outro. Com funções, o código fica mais modular e mais fácil de entender.\n",
    "\n",
    "Uma função em python nomalmente possui a seguinte forma:\n",
    "\n",
    "```python\n",
    "def function():\n",
    "    \"\"\" Documentação da função \"\"\"\n",
    "    comando1\n",
    "    comando2\n",
    "    ...\n",
    "    \n",
    "# Em outra parte do código, a função é chamada.\n",
    "function()\n",
    "```"
   ]
  },
  {
   "cell_type": "code",
   "execution_count": null,
   "id": "9ac5a195-a351-44a2-a7f2-83e136674ef5",
   "metadata": {
    "tags": []
   },
   "outputs": [],
   "source": [
    "def soma():\n",
    "    a = 1 + 1\n",
    "    print(a)"
   ]
  },
  {
   "cell_type": "code",
   "execution_count": null,
   "id": "a71e9e83-69f1-4c55-995d-d448a16629ba",
   "metadata": {
    "tags": []
   },
   "outputs": [],
   "source": [
    "soma()"
   ]
  },
  {
   "cell_type": "markdown",
   "id": "0ceea522-7d3a-4985-bb4f-330c719ca9d4",
   "metadata": {},
   "source": [
    "### Return\n",
    "\n",
    "Em alguns casos precisamos que a função calcule algum valor e retorne para o usuário este valor"
   ]
  },
  {
   "cell_type": "code",
   "execution_count": null,
   "id": "c6f8e34b-e2ae-4aa8-902b-73fe540b206e",
   "metadata": {
    "tags": []
   },
   "outputs": [],
   "source": [
    "def square():\n",
    "    a = 3*3\n",
    "    return a"
   ]
  },
  {
   "cell_type": "code",
   "execution_count": null,
   "id": "34ab4d0f-a6e4-49e4-9a81-effc34113d21",
   "metadata": {
    "tags": []
   },
   "outputs": [],
   "source": [
    "valor = square()\n",
    "print(valor)"
   ]
  },
  {
   "cell_type": "markdown",
   "id": "8fdda764-833e-4afb-9da0-eb682f7eaf80",
   "metadata": {},
   "source": [
    "Uma função que não possui return no seu interior, retorna **None**"
   ]
  },
  {
   "cell_type": "code",
   "execution_count": null,
   "id": "8b306d59-7179-4715-9b11-165044836a96",
   "metadata": {
    "tags": []
   },
   "outputs": [],
   "source": [
    "valor = soma()\n",
    "print(valor)"
   ]
  },
  {
   "cell_type": "markdown",
   "id": "cb42fc16-3c67-476c-a3f6-dc688a13f6f1",
   "metadata": {},
   "source": [
    "É possível retornar mais de um valor simultaneamente, basta separar por vírgulas."
   ]
  },
  {
   "cell_type": "code",
   "execution_count": null,
   "id": "ab4ac41d-3b58-4229-950b-f41b8c3f4883",
   "metadata": {
    "tags": []
   },
   "outputs": [],
   "source": [
    "def coordenadas():\n",
    "    x = 2\n",
    "    y = 3\n",
    "    return x, y"
   ]
  },
  {
   "cell_type": "code",
   "execution_count": null,
   "id": "2d912a49-6b5d-4b5b-8f68-f4bd5c41f0e6",
   "metadata": {
    "tags": []
   },
   "outputs": [],
   "source": [
    "# ao receber os resultados, é possível separá-los em variáveis diferentes.\n",
    "a, b = coordenadas()\n",
    "print(a, b)"
   ]
  },
  {
   "cell_type": "code",
   "execution_count": null,
   "id": "807c5e94-d352-424d-bcff-6507884776bb",
   "metadata": {
    "tags": []
   },
   "outputs": [],
   "source": [
    "# se não separar os resultados, a variável final é uma tupla com todos os resultados.\n",
    "a = coordenadas()\n",
    "print(a)"
   ]
  },
  {
   "cell_type": "markdown",
   "id": "aa7fd20a-0841-4f8b-908f-77d20f9c69d1",
   "metadata": {},
   "source": [
    "### Parâmetros e argumentos de uma função\n",
    "\n",
    "Uma função aceita receber informações dos usuários. Os comandos dentro da função vão ser aplicados em cima destes parâmetros.\n",
    "\n",
    "- **parâmetro** é uma variável definida como parte do cabeçalho da função e é usada para fazer os dados disponível para o usuário.\n",
    "- **argumento** é o valor real ou o dado passado para a função quando é chamada, Os dados serão mantidos pelos parâmetros."
   ]
  },
  {
   "cell_type": "code",
   "execution_count": null,
   "id": "01ec0104-b04c-4132-8bce-aac4bd070b25",
   "metadata": {
    "tags": []
   },
   "outputs": [],
   "source": [
    "# n é um parâmetro da função, que é utilizada dentro da função\n",
    "def square(n):\n",
    "    a = n*n\n",
    "    return a"
   ]
  },
  {
   "cell_type": "code",
   "execution_count": null,
   "id": "6a4ff36b-acd5-49b6-8ac0-db2e968e9908",
   "metadata": {
    "tags": []
   },
   "outputs": [],
   "source": [
    "# 4.5 é o argumento passado para a função. O parâmetro n conterá o argumento 4.5 dentro dele.\n",
    "valor = square(4.5)\n",
    "print(valor)"
   ]
  },
  {
   "cell_type": "markdown",
   "id": "db0334fc-efc2-4055-a01f-df7d43ae0a13",
   "metadata": {},
   "source": [
    "É possível definir uma função com múltiplos parâmetros"
   ]
  },
  {
   "cell_type": "code",
   "execution_count": null,
   "id": "6f7bd8d2-e224-44d7-8400-b89bf9a01361",
   "metadata": {
    "tags": []
   },
   "outputs": [],
   "source": [
    "def soma(a, b):\n",
    "    return a + b"
   ]
  },
  {
   "cell_type": "code",
   "execution_count": null,
   "id": "364466ed-ed83-44dc-b3fb-567689418041",
   "metadata": {
    "tags": []
   },
   "outputs": [],
   "source": [
    "valor = soma(24, 35)\n",
    "print(valor)"
   ]
  },
  {
   "cell_type": "markdown",
   "id": "83e84e61-a6ae-4f8b-b0f3-7dcb1004ffd9",
   "metadata": {},
   "source": [
    "Um parâmetro pode ter um argumento default que será utilizado caso o usuário não forneça algum.\n",
    "\n",
    "**parâmetros obrigatórios devem sempre ser os primeiros parâmetros da função**"
   ]
  },
  {
   "cell_type": "code",
   "execution_count": null,
   "id": "3bc225ef-81d8-4b3b-9f48-c53d04cd7d51",
   "metadata": {
    "tags": []
   },
   "outputs": [],
   "source": [
    "# o parâmetro a é \"obrigatório\", o parâmetro b é \"opcional\"\n",
    "def soma(a, b=55):\n",
    "    return a + b"
   ]
  },
  {
   "cell_type": "code",
   "execution_count": null,
   "id": "26323e53-6d6f-4e1a-8058-85560f95de72",
   "metadata": {
    "tags": []
   },
   "outputs": [],
   "source": [
    "soma(14)"
   ]
  },
  {
   "cell_type": "code",
   "execution_count": null,
   "id": "574cd51f-92f1-4348-b000-0f3ab489a218",
   "metadata": {
    "tags": []
   },
   "outputs": [],
   "source": [
    "soma(14, 86)"
   ]
  },
  {
   "cell_type": "markdown",
   "id": "a6c82ccc-bc3f-4646-ab4c-612e453423d7",
   "metadata": {},
   "source": [
    "A ordem dos argumentos devem estar na mesma ordem dos parâmetros, caso eles sejam fornecidos diretamente, mas é possível utilizar o nome dos parâmetros para passar os argumentos sem depender da ordem."
   ]
  },
  {
   "cell_type": "code",
   "execution_count": null,
   "id": "2227acc5-7e24-41ef-90ca-3dcedb8ec896",
   "metadata": {
    "tags": []
   },
   "outputs": [],
   "source": [
    "soma(b=10, a=15)"
   ]
  },
  {
   "cell_type": "markdown",
   "id": "25bb97fb-6f6b-4834-8f76-e0849abd7ba3",
   "metadata": {},
   "source": [
    "### Args e Kwargs\n",
    "\n",
    "Em alguns casos não sabemos quantos argumentos serão fornecidos para a função. Neste caso, podemos criar um parâmetros que permita a entrada de diversos argumentos ao mesmo tempo."
   ]
  },
  {
   "cell_type": "code",
   "execution_count": null,
   "id": "e16345e3-c688-4c6c-a682-37dcf5e4357b",
   "metadata": {
    "tags": []
   },
   "outputs": [],
   "source": [
    "def soma(*args):\n",
    "    print(args)"
   ]
  },
  {
   "cell_type": "code",
   "execution_count": null,
   "id": "bdfb525e-d917-4d51-acad-a65d9995b60c",
   "metadata": {
    "tags": []
   },
   "outputs": [],
   "source": [
    "soma(3, 5, 6)"
   ]
  },
  {
   "cell_type": "code",
   "execution_count": null,
   "id": "74f61db5-78dd-4585-893b-87997680196a",
   "metadata": {
    "tags": []
   },
   "outputs": [],
   "source": [
    "def agradece_nomes(*args):\n",
    "    for nome in args:\n",
    "        print('Obrigado', nome)"
   ]
  },
  {
   "cell_type": "code",
   "execution_count": null,
   "id": "35157099-8914-41db-947b-f99498edfc91",
   "metadata": {
    "tags": []
   },
   "outputs": [],
   "source": [
    "agradece_nomes('Altair', 'Carla', 'Sirius', 'Minerva')"
   ]
  },
  {
   "cell_type": "markdown",
   "id": "92225021-6438-4f19-b971-4e8cd362bdbb",
   "metadata": {},
   "source": [
    "Em alguns casos, pode ser importante que os argumentos passados à função possuam parâmetros com nomes bem definidos. Neste caso, utilizamos:"
   ]
  },
  {
   "cell_type": "code",
   "execution_count": null,
   "id": "046ac6d3-e246-42e1-8c13-3baa50e6d87a",
   "metadata": {
    "tags": []
   },
   "outputs": [],
   "source": [
    "def uso_kwargs(**kwargs):\n",
    "    print(kwargs)"
   ]
  },
  {
   "cell_type": "code",
   "execution_count": null,
   "id": "3805bf31-a2ac-462f-b4a4-a09e5bcffc0c",
   "metadata": {
    "tags": []
   },
   "outputs": [],
   "source": [
    "uso_kwargs(a=1, b=2, c=3)"
   ]
  },
  {
   "cell_type": "code",
   "execution_count": null,
   "id": "fddf942b-78af-412e-8907-a2dc792674be",
   "metadata": {
    "tags": []
   },
   "outputs": [],
   "source": [
    "def uso_kwargs(**kwargs):\n",
    "    print(kwargs['a'])\n",
    "    print(kwargs['b'])"
   ]
  },
  {
   "cell_type": "code",
   "execution_count": null,
   "id": "2baffa56-863f-451d-8cf8-0aa05f36bd43",
   "metadata": {
    "tags": []
   },
   "outputs": [],
   "source": [
    "uso_kwargs(a=1, b=2, c=3)"
   ]
  },
  {
   "cell_type": "markdown",
   "id": "0f47d600-c4ea-40e5-84e1-33b3b09b0d97",
   "metadata": {},
   "source": [
    "### Variáveis Globais e Variáveis Locais\n",
    "\n",
    "Variáveis locais são as variáveis que só existem dentro de uma função, e mesmo que tenham nomes iguais, não alteram os valores de uma variável externa."
   ]
  },
  {
   "cell_type": "code",
   "execution_count": null,
   "id": "0f7adc10-cfb7-4568-8b4e-1088a187716b",
   "metadata": {
    "tags": []
   },
   "outputs": [],
   "source": [
    "def teste():\n",
    "    var = 3  # variável que só existe dentro da função"
   ]
  },
  {
   "cell_type": "code",
   "execution_count": null,
   "id": "be1dc8c0-8725-427f-a0dc-b856a4f81c03",
   "metadata": {
    "tags": []
   },
   "outputs": [],
   "source": [
    "teste()\n",
    "print(var)"
   ]
  },
  {
   "cell_type": "code",
   "execution_count": null,
   "id": "9f2feedc-8197-4e9a-ae94-11a3bb8fc9c3",
   "metadata": {
    "tags": []
   },
   "outputs": [],
   "source": [
    "def muda_valor(a):\n",
    "    a = 3\n",
    "    print(a)"
   ]
  },
  {
   "cell_type": "code",
   "execution_count": null,
   "id": "d10337c4-5378-448c-aa7b-6eb3b63d3312",
   "metadata": {
    "tags": []
   },
   "outputs": [],
   "source": [
    "a = 2\n",
    "muda_valor(a)\n",
    "print(a)"
   ]
  },
  {
   "cell_type": "markdown",
   "id": "bfbd394b-05ee-4292-968d-cafb7619cc57",
   "metadata": {},
   "source": [
    "Variáveis globais são variáveis que existem fora do escopo da função mais podem ser usadas pela função."
   ]
  },
  {
   "cell_type": "code",
   "execution_count": null,
   "id": "43981c9e-e250-4576-8ff6-f27348b9fbb2",
   "metadata": {
    "tags": []
   },
   "outputs": [],
   "source": [
    "def soma(a):\n",
    "    print(a + b)"
   ]
  },
  {
   "cell_type": "code",
   "execution_count": null,
   "id": "cda17258-2505-4e8f-b06f-29567460b396",
   "metadata": {
    "tags": []
   },
   "outputs": [],
   "source": [
    "b=10\n",
    "soma(5)"
   ]
  },
  {
   "cell_type": "markdown",
   "id": "35894829-ccaf-4888-bfdf-8e7148802092",
   "metadata": {},
   "source": [
    "Ao se passar listas e dicionários (sequências mutáveis), invés de uma cópia, é utilizado um ponteiro, e a variáveis global pode ser modificada."
   ]
  },
  {
   "cell_type": "code",
   "execution_count": null,
   "id": "888714fc-4dd8-4d20-ba18-6a047582fc8f",
   "metadata": {
    "tags": []
   },
   "outputs": [],
   "source": [
    "def muda_lista(lista):\n",
    "    lista[1] = 3"
   ]
  },
  {
   "cell_type": "code",
   "execution_count": null,
   "id": "331551a4-84b1-4761-acbe-4486e6c69443",
   "metadata": {
    "tags": []
   },
   "outputs": [],
   "source": [
    "lista = [0, 1, 6, 8]\n",
    "muda_lista(lista)\n",
    "print(lista)"
   ]
  },
  {
   "cell_type": "markdown",
   "id": "919cd8a0-5dbe-4613-8949-ffe354b0ec60",
   "metadata": {},
   "source": [
    "### Docstring\n",
    "\n",
    "A documentação de uma função é uma parte essencial dela, onde ela descreve o que a função faz, quais parâmetros ela aceita, e que valores ela retorna."
   ]
  },
  {
   "cell_type": "code",
   "execution_count": null,
   "id": "8295cb9e-7435-40b8-bc0c-625e231ef4c8",
   "metadata": {
    "tags": []
   },
   "outputs": [],
   "source": [
    "def soma(a, b):\n",
    "    \"\"\" Soma dois valores e retorna o resultado\n",
    "    \n",
    "    Parameters\n",
    "    ----------\n",
    "    a : int, float\n",
    "        Primeiro número a ser somado\n",
    "    b : int, float\n",
    "        Segundo número a ser somado\n",
    "    \n",
    "    Returns\n",
    "    -------\n",
    "    float\n",
    "        Resultado da soma\n",
    "    \"\"\"\n",
    "    return a + b"
   ]
  },
  {
   "cell_type": "code",
   "execution_count": null,
   "id": "eb63a940-f5da-45d0-ab05-70803a9e1e4b",
   "metadata": {
    "tags": []
   },
   "outputs": [],
   "source": [
    "soma?"
   ]
  },
  {
   "cell_type": "code",
   "execution_count": null,
   "id": "0215bd21-e0ec-48e0-a8bc-ab6229c9e19a",
   "metadata": {
    "tags": []
   },
   "outputs": [],
   "source": [
    "print(soma)"
   ]
  }
 ],
 "metadata": {
  "kernelspec": {
   "display_name": "Python 3 (ipykernel)",
   "language": "python",
   "name": "python3"
  },
  "language_info": {
   "codemirror_mode": {
    "name": "ipython",
    "version": 3
   },
   "file_extension": ".py",
   "mimetype": "text/x-python",
   "name": "python",
   "nbconvert_exporter": "python",
   "pygments_lexer": "ipython3",
   "version": "3.10.10"
  }
 },
 "nbformat": 4,
 "nbformat_minor": 5
}
