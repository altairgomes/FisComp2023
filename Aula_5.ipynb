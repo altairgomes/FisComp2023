{
 "cells": [
  {
   "cell_type": "markdown",
   "id": "89125dd1-13a1-422e-83b5-a0023e43ab6a",
   "metadata": {},
   "source": [
    "# Aula 5\n",
    "\n",
    "Hoje vamos aprender sobre numpy e matplotlib"
   ]
  },
  {
   "cell_type": "markdown",
   "id": "980bc8c7-1c05-40e0-8d43-bc30af1e6b59",
   "metadata": {},
   "source": [
    "## Importar pacotes\n",
    "\n",
    "Como dito em aula, o python é bastante dinâmico pois existe uma infinidade de pacotes que foram desenvolvidos por usuários e compartilhados na comunidade python. Se utilizarmos estes pacotes, não precisamos desenvolver tudo nós mesmos. Porém, é importante ficar ciente que cada um possui uma documentação independente, funciona de maneira independente, e cabe a nós termos este controle.\n",
    "\n",
    "Para instalar pacotes, existem alguns repositórios. Os mais comuns são o pypi e o conda. Para instalar os pacotes do pypi, basta utilizar o comando:\n",
    "\n",
    "```sh\n",
    "pip install nome_do_pacote\n",
    "```"
   ]
  },
  {
   "cell_type": "code",
   "execution_count": null,
   "id": "f0aa31ed-42d7-413f-ab27-8126ae78bb68",
   "metadata": {
    "tags": []
   },
   "outputs": [],
   "source": [
    "pip install numpy matplotlib astropy"
   ]
  },
  {
   "cell_type": "markdown",
   "id": "cf4f6b1c-0b37-4fcc-b477-726e0fef2070",
   "metadata": {},
   "source": [
    "Uma vez instalado o pacote, ele precisa ser importado no código para ser utilizado.\n",
    "\n",
    "Para importar o pacote inteiro, utilizar, por exemplo:\n",
    "\n",
    "```python\n",
    "import numpy\n",
    "```\n",
    "\n",
    "Uma vez importado, o nome \"numpy\" estará disponível, juntamento com as suas funções. Caso quiséssemos importar apenas uma função específica do pacote, utilizamos a seguinte estrutura.\n",
    "\n",
    "```python\n",
    "from numpy import sqrt\n",
    "```\n",
    "\n",
    "Normalmente, pacotes que são utilizados corriqueiramente são importados e renomeados para um nome mais simples de ser repetido:\n",
    "\n",
    "```python\n",
    "import numpy as np\n",
    "```"
   ]
  },
  {
   "cell_type": "markdown",
   "id": "f03cc3f8-ac0b-4845-b3d6-924075ca6c87",
   "metadata": {},
   "source": [
    "### Numpy\n",
    "\n",
    "O numpy é um pacote python fundamental para computação científica. O numpy permite a chamada vetorização dos dados, de forma que o processamento de suas funções seja mais rápido.\n",
    "\n",
    "**O que é vetorização?**\n",
    "\n",
    "A vetorização é usada para acelerar o código Python sem usar loop. O uso de tal função pode ajudar a minimizar o tempo de execução do código de forma eficiente."
   ]
  },
  {
   "cell_type": "code",
   "execution_count": null,
   "id": "c1222d2d-dead-4db5-bb76-87c2c1cf2e5f",
   "metadata": {
    "tags": []
   },
   "outputs": [],
   "source": [
    "import numpy as np"
   ]
  },
  {
   "cell_type": "code",
   "execution_count": null,
   "id": "2889c0d6-854e-4b5d-9583-bd93ef5fa9b9",
   "metadata": {
    "tags": []
   },
   "outputs": [],
   "source": [
    "%%time\n",
    "a = 0\n",
    "for i in range(100_000_000):\n",
    "    a = a + i\n",
    "print(a)"
   ]
  },
  {
   "cell_type": "code",
   "execution_count": null,
   "id": "83b9f25b-4088-4108-8ad9-cf26adf2e5aa",
   "metadata": {
    "tags": []
   },
   "outputs": [],
   "source": [
    "%%time\n",
    "a = np.arange(100_000_000)\n",
    "print(np.sum(a))"
   ]
  },
  {
   "cell_type": "markdown",
   "id": "6864ab73-9205-4cba-93bf-7dbf3b6fd36c",
   "metadata": {},
   "source": [
    "Existe uma grande quantidade de funções no numpy. Nem todas poderão ser vistas em aula. Sugiro olhar a documentação do pacote:\n",
    "\n",
    "https://numpy.org/doc/stable/index.html"
   ]
  },
  {
   "cell_type": "code",
   "execution_count": null,
   "id": "01c6b252-52ec-43c3-8a4b-ded9c64575d4",
   "metadata": {
    "tags": []
   },
   "outputs": [],
   "source": [
    "# np.arange -> Gera um array numpy que vai de um certo valor até outro, em sequência\n",
    "a = np.arange(100)\n",
    "print(a)"
   ]
  },
  {
   "cell_type": "code",
   "execution_count": null,
   "id": "e851e0ed-f35a-4643-bbd6-1860145a1a3d",
   "metadata": {
    "tags": []
   },
   "outputs": [],
   "source": [
    "type(a)"
   ]
  },
  {
   "cell_type": "code",
   "execution_count": null,
   "id": "0e31c924-9668-42f3-b7fa-9366b496fb04",
   "metadata": {
    "tags": []
   },
   "outputs": [],
   "source": [
    "b = np.array([1, 5, 7, 6, 10, 15])\n",
    "print(b)\n",
    "print(type(b))"
   ]
  },
  {
   "cell_type": "code",
   "execution_count": null,
   "id": "46063358-a0f7-4bb2-b8cd-4ec523f4adb4",
   "metadata": {
    "tags": []
   },
   "outputs": [],
   "source": [
    "data = np.arange(0.5,10.5,0.5)\n",
    "print(data)"
   ]
  },
  {
   "cell_type": "code",
   "execution_count": null,
   "id": "fc29fd06-ff9c-4857-a5f0-963928893a7b",
   "metadata": {
    "tags": []
   },
   "outputs": [],
   "source": [
    "# vetorização\n",
    "print(data*5)"
   ]
  },
  {
   "cell_type": "code",
   "execution_count": null,
   "id": "3ea5f666-f26b-4129-a629-a5c2b32603ce",
   "metadata": {
    "tags": []
   },
   "outputs": [],
   "source": [
    "# Programação funcional\n",
    "print(np.sum(data))"
   ]
  },
  {
   "cell_type": "code",
   "execution_count": null,
   "id": "0893481b-1a10-4cbf-bfdd-df96584e67b9",
   "metadata": {
    "tags": []
   },
   "outputs": [],
   "source": [
    "# Programação orientada a objetos\n",
    "print(data.sum())"
   ]
  },
  {
   "cell_type": "markdown",
   "id": "c5ca5a35-a451-4a11-9315-58df0a856c25",
   "metadata": {},
   "source": [
    "O numpy possui várias funções e variáveis que facilitam a definição de operações matemáticas\n",
    "\n",
    "Por exemplo:\n",
    "\n",
    "$$ f(x) = {1 \\over \\sigma \\sqrt{2\\pi}} e^{-{1 \\over 2} ({x - \\mu \\over \\sigma})^2} $$"
   ]
  },
  {
   "cell_type": "code",
   "execution_count": null,
   "id": "806da4c1-7f3a-4d82-8cdf-2fdb481cb441",
   "metadata": {
    "tags": []
   },
   "outputs": [],
   "source": [
    "def gaussian(x, mu=1, sigma=2):\n",
    "    a = sigma*np.sqrt(2*np.pi)\n",
    "    b = np.square((x-mu)/sigma)\n",
    "    fx = (1/a)*np.exp(-0.5*b)\n",
    "    return fx"
   ]
  },
  {
   "cell_type": "code",
   "execution_count": null,
   "id": "2c29c0e4-951a-4a72-8c71-dd8b1fb4bc4e",
   "metadata": {
    "tags": []
   },
   "outputs": [],
   "source": [
    "gaussian(0.5)"
   ]
  },
  {
   "cell_type": "code",
   "execution_count": null,
   "id": "afa3d1e4-abd1-472b-a697-626f572952b2",
   "metadata": {
    "tags": []
   },
   "outputs": [],
   "source": [
    "array = np.arange(-5,5,0.1)\n",
    "print(array)"
   ]
  },
  {
   "cell_type": "code",
   "execution_count": null,
   "id": "9a34aeb8-efe2-4b4b-968c-a2e24adce735",
   "metadata": {
    "tags": []
   },
   "outputs": [],
   "source": [
    "gaussian(array)"
   ]
  },
  {
   "cell_type": "markdown",
   "id": "cbb9a37d-4a3d-4958-b037-f3c0be42d517",
   "metadata": {
    "tags": []
   },
   "source": [
    "### Matplotlib\n",
    "\n",
    "Matplotlib é uma bilblioteca para criar visualizações em python. Existem diversas ferramentas de plotagem, mas vamos ficar com o matplotlib durante o curso"
   ]
  },
  {
   "cell_type": "code",
   "execution_count": null,
   "id": "be19cf6c-30e5-40b8-b180-37628d5e91ad",
   "metadata": {
    "tags": []
   },
   "outputs": [],
   "source": [
    "import matplotlib.pyplot as plt"
   ]
  },
  {
   "cell_type": "markdown",
   "id": "beb17cd0-afda-4a06-be29-d6cc575048b5",
   "metadata": {},
   "source": [
    "Para fazer plots utilizamos as diversas ferramentas do pyplot, cujos tutoriaias podem ser encontrados no link\n",
    "\n",
    "https://matplotlib.org/stable/tutorials/index"
   ]
  },
  {
   "cell_type": "code",
   "execution_count": null,
   "id": "206c679e-1bf7-4d0f-a9e8-933b97a32947",
   "metadata": {
    "tags": []
   },
   "outputs": [],
   "source": [
    "t = np.arange(100)\n",
    "y = 1 + 1000*t - 9.8*(t**2)\n",
    "print(t)\n",
    "print(x)"
   ]
  },
  {
   "cell_type": "code",
   "execution_count": null,
   "id": "1e7bd59a-5d81-40b7-82ae-ea1bf20a6c0c",
   "metadata": {
    "tags": []
   },
   "outputs": [],
   "source": [
    "plt.plot(t, y)\n",
    "plt.show()"
   ]
  },
  {
   "cell_type": "code",
   "execution_count": null,
   "id": "5223b451-2778-4854-9cd7-f4711a35a27b",
   "metadata": {
    "tags": []
   },
   "outputs": [],
   "source": [
    "plt.plot(t, y, 'o')\n",
    "plt.plot(t, y)\n",
    "plt.show()"
   ]
  },
  {
   "cell_type": "code",
   "execution_count": null,
   "id": "d8358d72-85f9-4645-9d0c-3fc979721357",
   "metadata": {
    "tags": []
   },
   "outputs": [],
   "source": [
    "plt.plot(t, y)\n",
    "plt.xlabel('Tempo (s)')\n",
    "plt.ylabel('Altura (m)')\n",
    "plt.show()"
   ]
  },
  {
   "cell_type": "markdown",
   "id": "48343474-7d59-472e-b145-e06eab67af3e",
   "metadata": {},
   "source": [
    "## Unidades\n",
    "\n",
    "Quando trabalhamos com física em códigos de programação, precisamos nos atentar às unidades das variáveis que são criadas. Como o python não sabe quais são as unidades, nós precisamos ficar ciente disso o tempo todo para não cometer erros.\n",
    "\n",
    "Um exemplo simples de como lidar com isso é documentar muito bem o código."
   ]
  },
  {
   "cell_type": "code",
   "execution_count": null,
   "id": "63b4cff3-1f77-4fe8-ac15-a78b6fb2d34c",
   "metadata": {
    "tags": []
   },
   "outputs": [],
   "source": [
    "def densidade_esfera(raio, massa):\n",
    "    \"\"\" Calcula a densidade da esfera\n",
    "    \n",
    "    Parameters\n",
    "    ----------\n",
    "    raio : float\n",
    "        Raio da esfera. Deve estar em metros\n",
    "    massa : float\n",
    "        Massa da esfera. Deve estar em kg.\n",
    "    \n",
    "    Returns\n",
    "    -------\n",
    "    densidade : float\n",
    "        Densidade da esfera em kg/m^3\n",
    "    \"\"\"\n",
    "    volume = (4/3)*np.pi*(raio**3)\n",
    "    densidade = massa / volume\n",
    "    return densidade"
   ]
  },
  {
   "cell_type": "code",
   "execution_count": null,
   "id": "0758db38-f9d3-4d43-aae1-6ad0c40d7119",
   "metadata": {
    "tags": []
   },
   "outputs": [],
   "source": [
    "r = 5 # raio da esfera em metros\n",
    "m = 125 # massa da esfera em kg\n",
    "\n",
    "d = densidade_esfera(r, m)\n",
    "print(d)"
   ]
  },
  {
   "cell_type": "markdown",
   "id": "d9266c0a-21d6-45de-8929-b3fa2d9b9fa9",
   "metadata": {},
   "source": [
    "De toda forma, estamos sujeitos a bugs de difícil averiguação. Por exemplo, somar valores de unidades diferentes não tem sentido físico, mas o python não gera mensagens de erro"
   ]
  },
  {
   "cell_type": "code",
   "execution_count": null,
   "id": "b19742d3-6d2b-485e-aa5b-7eef4c97d286",
   "metadata": {
    "tags": []
   },
   "outputs": [],
   "source": [
    "# somando distância e massa\n",
    "print(r + m)"
   ]
  },
  {
   "cell_type": "markdown",
   "id": "14242754-7d0f-450c-b203-6bf741b10d13",
   "metadata": {},
   "source": [
    "### Astropy Units\n",
    "\n",
    "Felizmente, existe uma ferramenta que permite a definição física das unidades junto com as variáveis. Isso nos dá mais confiança ao utilizar as variáveis.\n",
    "\n",
    "https://docs.astropy.org/en/stable/units/\n",
    "\n",
    "Vamos repetir o exercício anterior utilizando agora o Units do Astropy"
   ]
  },
  {
   "cell_type": "code",
   "execution_count": null,
   "id": "bd2ac66c-1c85-48ca-bcf8-028ca3620630",
   "metadata": {
    "tags": []
   },
   "outputs": [],
   "source": [
    "# Sugiro importar o units da seguinte forma para facilitar a utilização.\n",
    "# Porém é importante não definir nenhuma outra variável como u\n",
    "import astropy.units as u"
   ]
  },
  {
   "cell_type": "code",
   "execution_count": null,
   "id": "43a28b4b-f69d-4e20-886e-f6b5e62523b1",
   "metadata": {
    "tags": []
   },
   "outputs": [],
   "source": [
    "def densidade_esfera(raio, massa):\n",
    "    \"\"\" Calcula a densidade da esfera\n",
    "    \n",
    "    Parameters\n",
    "    ----------\n",
    "    raio : float\n",
    "        Raio da esfera. Default: metros\n",
    "    massa : float\n",
    "        Massa da esfera. Default: kg.\n",
    "    \n",
    "    Returns\n",
    "    -------\n",
    "    densidade : float\n",
    "        Densidade da esfera\n",
    "    \"\"\"\n",
    "    raio = u.Quantity(raio, 'm') # u.Quantity permite definir um float com uma certa unidade, ou verificar se ele está com uma unidade compatível (m, cm, km, etc).\n",
    "    massa = u.Quantity(massa, 'kg')\n",
    "    volume = (4/3)*np.pi*(raio**3)\n",
    "    densidade = massa / volume\n",
    "    \n",
    "    # O método \"to\" permite converter de uma certa unidade para outra compatível.\n",
    "    return densidade.to(u.kg/u.m**3)"
   ]
  },
  {
   "cell_type": "code",
   "execution_count": null,
   "id": "08387c22-2b04-46c1-ae5f-1a3f6d3e4e50",
   "metadata": {
    "tags": []
   },
   "outputs": [],
   "source": [
    "# para definir uma variável que possui uma unidade definida, fazemos como mostrado abaixo.\n",
    "r = 5*u.m\n",
    "m = 125*u.kg\n",
    "\n",
    "d = densidade_esfera(r, m)\n",
    "print(d)"
   ]
  },
  {
   "cell_type": "code",
   "execution_count": null,
   "id": "6705837d-7ac7-4d17-b097-83e1296d81f0",
   "metadata": {
    "tags": []
   },
   "outputs": [],
   "source": [
    "# Se eu definir unidades diferentes, o código saberá lidar com isso.\n",
    "r = 500*u.cm\n",
    "m = 125000*u.g\n",
    "\n",
    "d = densidade_esfera(r, m)\n",
    "print(d)"
   ]
  },
  {
   "cell_type": "code",
   "execution_count": null,
   "id": "4205726f-a578-41fa-aed0-848641abc533",
   "metadata": {
    "tags": []
   },
   "outputs": [],
   "source": [
    "# sCom essas definições, se eu tentar somar valores de unidades diferentes, ele gera um erro.\n",
    "print(r + m)"
   ]
  },
  {
   "cell_type": "code",
   "execution_count": null,
   "id": "46f51d0a-afc2-4a0c-a8ad-a6a57b5a597a",
   "metadata": {
    "tags": []
   },
   "outputs": [],
   "source": [
    "print(m)\n",
    "print(m.to(u.kg))"
   ]
  },
  {
   "cell_type": "markdown",
   "id": "3e83c8be-ce5c-4272-9b65-3f096f0a3789",
   "metadata": {},
   "source": [
    "# Exercício\n",
    "\n",
    "Como podemos utilizar o numpy, e a visualização no matplotlib para fazer a integração de uma função?\n",
    "\n",
    "$$ g(x) = \\int_{x_1}^{x_2} f(x) dx $$\n",
    "\n",
    "Vamos supor uma função simples a ser integrada de $x_1 = 1$ até $x_2=8$:\n",
    "\n",
    "$$ f(x) = 3 + 6x - x^2 $$"
   ]
  }
 ],
 "metadata": {
  "kernelspec": {
   "display_name": "Python 3 (ipykernel)",
   "language": "python",
   "name": "python3"
  },
  "language_info": {
   "codemirror_mode": {
    "name": "ipython",
    "version": 3
   },
   "file_extension": ".py",
   "mimetype": "text/x-python",
   "name": "python",
   "nbconvert_exporter": "python",
   "pygments_lexer": "ipython3",
   "version": "3.10.10"
  }
 },
 "nbformat": 4,
 "nbformat_minor": 5
}
