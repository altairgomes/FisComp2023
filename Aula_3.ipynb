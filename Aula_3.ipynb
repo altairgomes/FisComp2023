{
 "cells": [
  {
   "cell_type": "markdown",
   "id": "d367fec5-e654-4a7e-b759-9380c9903e46",
   "metadata": {},
   "source": [
    "# Aula 3\n",
    "\n",
    "Hoje vamos aprender sobre controle de fluxo (if, else) e loops (while, for, iterators, generators)."
   ]
  },
  {
   "cell_type": "markdown",
   "id": "b697c4a7-6f81-4417-a400-2ce47e3c637e",
   "metadata": {},
   "source": [
    "## Controle de Fluxo (If - Elif - Else)\n",
    "\n",
    "\"if\" é utilizado para controlar o fluxo de uma operação. Sua execução está relacionada a testar uma condição. Estas condições devem retornar **True** ou **False**. Caso **True**, um bloco de código será executado.\n",
    "\n",
    "```python\n",
    "if (condition):\n",
    "    # bloco caso a condição seja verdadeira\n",
    "    print('verdadeiro')\n",
    "```"
   ]
  },
  {
   "cell_type": "code",
   "execution_count": null,
   "id": "1effe44e-e77d-42af-99a9-e46746c4a35b",
   "metadata": {
    "tags": []
   },
   "outputs": [],
   "source": [
    "if True:\n",
    "    # O texto dentro deste bloco só será executado caso a condição seja verdadeira.\n",
    "    # Note a identação (espaços) antes dos comandos abaixo do if.\n",
    "    # Todos os comandos com a mesma identação estão dentro do mesmo bloco.\n",
    "    print('Teste verdadeiro')"
   ]
  },
  {
   "cell_type": "code",
   "execution_count": null,
   "id": "bd8af11a-8220-4691-9ec2-f0f5899375ad",
   "metadata": {
    "tags": []
   },
   "outputs": [],
   "source": [
    "if False:\n",
    "    print('Teste verdadeiro')"
   ]
  },
  {
   "cell_type": "markdown",
   "id": "93a9447a-e803-4122-891c-dcf164e57713",
   "metadata": {},
   "source": [
    "### Operadores de comparação\n",
    "\n",
    "Existem 6 operadores de comparação. Eles são responsáveis por comparar os valores de duas variáveis."
   ]
  },
  {
   "cell_type": "code",
   "execution_count": null,
   "id": "275f3cd5-c5c4-4eaf-8b05-a2931259998a",
   "metadata": {
    "tags": []
   },
   "outputs": [],
   "source": [
    "# Testar se duas variáveis são iguais\n",
    "a = 3\n",
    "b = 3\n",
    "if a==b:\n",
    "    print('variáveis iguais')"
   ]
  },
  {
   "cell_type": "code",
   "execution_count": null,
   "id": "c052f5c6-3468-43a0-90f5-295f5573f810",
   "metadata": {
    "tags": []
   },
   "outputs": [],
   "source": [
    "# Testar se duas variáveis são diferentes:\n",
    "a = 3\n",
    "b = 4\n",
    "if a!=b:\n",
    "    print('variáveis diferentes')"
   ]
  },
  {
   "cell_type": "code",
   "execution_count": null,
   "id": "d79633fb-8ec9-4abb-9c63-a8e0f6612481",
   "metadata": {
    "tags": []
   },
   "outputs": [],
   "source": [
    "a = 3\n",
    "b = 3\n",
    "print(a < b)  # Se a é menor que b\n",
    "print(a > b)  # Se a é maior que b\n",
    "print(a <= b)  # Se a é menor ou igual a b\n",
    "print(a >= b)  # Se a é maior ou igual a b"
   ]
  },
  {
   "cell_type": "markdown",
   "id": "c09263b0-3db6-466c-9796-30b73d194a19",
   "metadata": {},
   "source": [
    "### Operadores lógicos\n",
    "\n",
    "Operadores lógicos são utilizados para comparar booleanos. Portanto é utilizado para criar testes mais complexos"
   ]
  },
  {
   "cell_type": "code",
   "execution_count": null,
   "id": "ab11c9b1-76d8-414d-a9d9-40e19f3746a7",
   "metadata": {
    "tags": []
   },
   "outputs": [],
   "source": [
    "print(3 < 4)\n",
    "print(5 > 4)\n",
    "# O operador \"and\" resulta verdadeiro se as duas comparações forem verdadeiras\n",
    "print((3 < 4) and (5 > 4))"
   ]
  },
  {
   "cell_type": "code",
   "execution_count": null,
   "id": "bffe5037-66d7-447d-9ea4-2064f4f74132",
   "metadata": {
    "tags": []
   },
   "outputs": [],
   "source": [
    "print(3 < 4)\n",
    "print(3 > 5)\n",
    "# O operador \"or\" resulta verdadeiro se pelo menos uma das comparações for verdadeira\n",
    "print((3 < 4) or (3 > 5))"
   ]
  },
  {
   "cell_type": "code",
   "execution_count": null,
   "id": "843fce3c-1657-4c55-9ff5-21b5eb14be78",
   "metadata": {
    "tags": []
   },
   "outputs": [],
   "source": [
    "print(3 > 4)\n",
    "# O operador \"not\" inverte o resultado da comparação\n",
    "print(not (3 > 4))"
   ]
  },
  {
   "cell_type": "markdown",
   "id": "62259a98-b751-46c8-957b-9e6528252493",
   "metadata": {},
   "source": [
    "O operador \"&\" faz comparação bit-by-bit"
   ]
  },
  {
   "cell_type": "code",
   "execution_count": 2,
   "id": "c925f403-9ccb-4af0-9972-c197bf2df334",
   "metadata": {
    "tags": []
   },
   "outputs": [
    {
     "name": "stdout",
     "output_type": "stream",
     "text": [
      "5\n",
      "4\n"
     ]
    }
   ],
   "source": [
    "a = 5\n",
    "b = 6\n",
    "print(b and a)\n",
    "print(a & b)"
   ]
  },
  {
   "cell_type": "markdown",
   "id": "0efc68d2-c125-4582-b217-58737d0ca2cb",
   "metadata": {},
   "source": [
    "### O operador \"is\"\n",
    "\n",
    "\"is\" é usado para identificar se as variáveis apontam para o mesmo objeto, i.e., são correspondentes à mesma locação de memória"
   ]
  },
  {
   "cell_type": "code",
   "execution_count": null,
   "id": "1d73c817-ef20-476b-9e9a-67a33b83dc29",
   "metadata": {
    "tags": []
   },
   "outputs": [],
   "source": [
    "a = 5\n",
    "b = 5\n",
    "print(a is b)"
   ]
  },
  {
   "cell_type": "code",
   "execution_count": null,
   "id": "91cfe967-97fb-4735-b5ba-d1bb9e82d222",
   "metadata": {
    "tags": []
   },
   "outputs": [],
   "source": [
    "a = 500\n",
    "b = 500\n",
    "print(a is b)"
   ]
  },
  {
   "cell_type": "markdown",
   "id": "6dae99c4-1f0a-402d-a0c6-f8c331874ca3",
   "metadata": {},
   "source": [
    "### O operador \"in\"\n",
    "\n",
    "O operador \"in\" é utilizado para testar se um valor pertence a uma sequência"
   ]
  },
  {
   "cell_type": "code",
   "execution_count": null,
   "id": "5ff53aa5-2c28-4c10-9c72-0512e6142876",
   "metadata": {
    "tags": []
   },
   "outputs": [],
   "source": [
    "lista = [1, 6, 'casa', True]\n",
    "print(2 in lista)\n",
    "print('casa' in lista)"
   ]
  },
  {
   "cell_type": "markdown",
   "id": "7372fd26-db31-4585-b738-a7189ee763d0",
   "metadata": {},
   "source": [
    "### Else - Elif\n",
    "\n",
    "Caso exista um bloco que deva ser rodado quando uma condição for verdadeira e outro bloco quando a condição for falsa, pode-se utilizar o comando \"else\":\n",
    "\n",
    "```python\n",
    "if (condition):\n",
    "    # bloco caso a condição seja verdadeira\n",
    "    print('verdadeiro')\n",
    "else:\n",
    "    # bloco caso a condição seja falsa\n",
    "    print('falso')\n",
    "```"
   ]
  },
  {
   "cell_type": "code",
   "execution_count": null,
   "id": "6416f910-efaf-4ec0-be42-5c324d79177a",
   "metadata": {
    "tags": []
   },
   "outputs": [],
   "source": [
    "a = 2\n",
    "b = 1\n",
    "if (a > b):\n",
    "    print('Verdadeiro')\n",
    "else:\n",
    "    print('falso')"
   ]
  },
  {
   "cell_type": "code",
   "execution_count": null,
   "id": "f0aa541b-43e3-4f18-9a6e-8a88b60764cd",
   "metadata": {
    "tags": []
   },
   "outputs": [],
   "source": [
    "a = 1\n",
    "b = 2\n",
    "if (a > b):\n",
    "    print('Verdadeiro')\n",
    "else:\n",
    "    print('falso')"
   ]
  },
  {
   "cell_type": "markdown",
   "id": "9eb45b7d-a675-4d01-b8f2-c5bf1a0c241a",
   "metadata": {},
   "source": [
    "Caso mais de dois blocos sejam necessários, é necessário usar o comando elif:\n",
    "\n",
    "```python\n",
    "if (condition1):\n",
    "    # bloco caso a condição 1 seja verdadeira\n",
    "    print('1')\n",
    "elif (condition2):\n",
    "    # bloco caso a condição 2 seja verdadeira\n",
    "    print('2')\n",
    "else:\n",
    "    # bloco caso nenhuma das condições acima sejam verdadeiras\n",
    "    print('3')\n",
    "```"
   ]
  },
  {
   "cell_type": "code",
   "execution_count": null,
   "id": "8efadd60-dc97-4a5b-a18d-d26cb05b21ad",
   "metadata": {
    "tags": []
   },
   "outputs": [],
   "source": [
    "a = 1\n",
    "b = 2\n",
    "if (a > b):\n",
    "    print('a é maior que b')\n",
    "elif (a < b):\n",
    "    print('a é menor que b')\n",
    "else:\n",
    "    print('a e b são iguais')"
   ]
  },
  {
   "cell_type": "markdown",
   "id": "ab6cb432-d385-4404-863e-5e2231ff1d18",
   "metadata": {},
   "source": [
    "### Exemplo"
   ]
  },
  {
   "cell_type": "code",
   "execution_count": null,
   "id": "9113a9a6-0dc3-426d-86bf-5375e58abb56",
   "metadata": {
    "tags": []
   },
   "outputs": [],
   "source": [
    "idade = int(input('Digite a sua idade'))\n",
    "if (idade <= 12):\n",
    "    print('Você é uma criança')\n",
    "elif (idade > 12) and (idade < 18):\n",
    "    print('Você é um adolescente')\n",
    "else:\n",
    "    print('Você é um adulto')"
   ]
  },
  {
   "cell_type": "markdown",
   "id": "08587ab5-c5f9-46d5-a193-15a2ed4c0c49",
   "metadata": {},
   "source": [
    "### Cuidado\n",
    "\n",
    "0, '', None são equivalentes a False\n",
    "\n",
    "Números diferentes de zero, variáveis não vazias e qualquer objeto são equivalentes a True."
   ]
  },
  {
   "cell_type": "code",
   "execution_count": null,
   "id": "7741743f-81b9-4d68-873f-1fceb84d947a",
   "metadata": {
    "tags": []
   },
   "outputs": [],
   "source": [
    "a = 'texto'\n",
    "if a:\n",
    "    print('verdadeiro')\n",
    "else:\n",
    "    print('falso')"
   ]
  },
  {
   "cell_type": "markdown",
   "id": "3f86ccef-c937-432d-9000-c1d12607c1d6",
   "metadata": {},
   "source": [
    "# Loops\n",
    "\n",
    "## While\n",
    "\n",
    "O \"while\" é uma estrutura de loop que irá rodar enquanto uma condição ou expressão for verdadeira. Veja a ilustração abaixo\n",
    "\n",
    "![While Flow](figuras/while.png)"
   ]
  },
  {
   "cell_type": "code",
   "execution_count": null,
   "id": "6bb2e2f1-d3ff-4093-9d90-d3b92ac9f318",
   "metadata": {
    "tags": []
   },
   "outputs": [],
   "source": [
    "i = 0\n",
    "# O bloco abaixo irá rodar repetidamente enquanto o valor de i for menor que 10\n",
    "while (i < 10):\n",
    "    print('loop', i)\n",
    "    i = i + 1\n",
    "print('final', i)"
   ]
  },
  {
   "cell_type": "markdown",
   "id": "c020e410-151d-4f96-8f7e-3346134bd01d",
   "metadata": {},
   "source": [
    "## For\n",
    "\n",
    "Quando sabemos quantas vezes o loop deve ser rodado, ou quando queremos iterar sobre uma lista, utilizamos o \"for\"\n",
    "\n",
    "![For Flow](figuras/for.png)"
   ]
  },
  {
   "cell_type": "code",
   "execution_count": null,
   "id": "0418e10e-5d68-41d4-8c1f-116c7e6ec36d",
   "metadata": {
    "tags": []
   },
   "outputs": [],
   "source": [
    "for i in range(10):\n",
    "    print(i)"
   ]
  },
  {
   "cell_type": "code",
   "execution_count": null,
   "id": "8194d0e9-9d36-4bb2-a779-cf78d2979048",
   "metadata": {
    "tags": []
   },
   "outputs": [],
   "source": [
    "lista = [1, True, 'casa', 1 + 2j]\n",
    "for i in lista:\n",
    "    print(i)"
   ]
  },
  {
   "cell_type": "markdown",
   "id": "7e384fd9-e9ac-4bf3-931b-4155a0f1d593",
   "metadata": {},
   "source": [
    "### Break\n",
    "\n",
    "Utilizamos o comando \"break\" se quisermos sair de um loop antes de seu fim.\n",
    "\n",
    "![Break Flow](figuras/break.png)"
   ]
  },
  {
   "cell_type": "code",
   "execution_count": null,
   "id": "387d428a-8fe6-4a1c-ac6d-7a8fd4a34b79",
   "metadata": {
    "tags": []
   },
   "outputs": [],
   "source": [
    "for i in range(10):\n",
    "    print('antes do break ', i)\n",
    "    if i == 7:\n",
    "        break\n",
    "    print('depois do break', i)"
   ]
  },
  {
   "cell_type": "markdown",
   "id": "ef497e2b-1788-441c-a311-791e3b99b20a",
   "metadata": {},
   "source": [
    "### Continue\n",
    "\n",
    "O \"continue\" é um comando que também afeta o \"for\" ou o \"while\". Ele interrompe a interação atual e inicia a seguinte.\n",
    "\n",
    "![Continue Flow](figuras/continue.png)"
   ]
  },
  {
   "cell_type": "code",
   "execution_count": null,
   "id": "9d956004-36d0-4520-baac-3c517ec79386",
   "metadata": {
    "tags": []
   },
   "outputs": [],
   "source": [
    "for i in range(10):\n",
    "    print('antes do continue ', i)\n",
    "    if i == 7:\n",
    "        continue\n",
    "    print('depois do continue', i)"
   ]
  },
  {
   "cell_type": "markdown",
   "id": "dae92e0d-b41c-4697-9a4e-e828f5270820",
   "metadata": {},
   "source": [
    "### Range, Enumerate, Zip"
   ]
  },
  {
   "cell_type": "code",
   "execution_count": null,
   "id": "d38b5663-3fd9-4052-8137-2909e1562754",
   "metadata": {
    "tags": []
   },
   "outputs": [],
   "source": [
    "# range é um gerador que fornece um número a cada loop sem ocupar memória.\n",
    "for i in range(10):\n",
    "    print(i)"
   ]
  },
  {
   "cell_type": "code",
   "execution_count": null,
   "id": "7091d7f5-0cf6-451f-98f1-9abe088d0ab5",
   "metadata": {
    "tags": []
   },
   "outputs": [],
   "source": [
    "# o enumerate permite retornar um valor de uma lista, assim como o seu índice quando necessário.\n",
    "lista_cores = ['verde', 'vermelho', 'azul', 'rosa', 'preto']\n",
    "for i, cor in enumerate(lista_cores):\n",
    "    print(i, cor)"
   ]
  },
  {
   "cell_type": "code",
   "execution_count": null,
   "id": "f86e0012-68c7-474b-8584-06692cec92e5",
   "metadata": {
    "tags": []
   },
   "outputs": [],
   "source": [
    "# o zip serve para retornar valores de combinações de listas 1 a 1:\n",
    "lista_nomes = ['Altair', 'Carla', 'Sirius', 'Minerva', 'Capitu']\n",
    "lista_cores = ['cinza', 'azul', 'laranja', 'preta', 'cinza']\n",
    "for nome, cor in zip(lista_nomes, lista_cores):\n",
    "    print(nome, '->', cor)"
   ]
  },
  {
   "cell_type": "markdown",
   "id": "59e702d5-82dc-4193-b05e-294c7a8c40f1",
   "metadata": {},
   "source": [
    "### Exemplo\n",
    "\n",
    "Calculando um fatorial"
   ]
  },
  {
   "cell_type": "code",
   "execution_count": null,
   "id": "b4a7ffe4-1b16-4e00-aa90-afab7aeec4b7",
   "metadata": {
    "tags": []
   },
   "outputs": [],
   "source": [
    "number = int(input('Digite o número do fatorial'))\n",
    "value = 1\n",
    "for i in range(1, number+1):\n",
    "    value = value*i\n",
    "print('O valor de ', number, 'fatorial é ', value)"
   ]
  },
  {
   "cell_type": "markdown",
   "id": "bb8b8a63-27e7-475d-ba06-ad7b697231de",
   "metadata": {},
   "source": [
    "## Number Guess Game\n",
    "\n",
    "Criar um código onde um número inteiro aleatório entre 0 e 10 é escolhido, e o usuário tem 3 chances de acertar. Mostrar uma mensagem seo número sorteado é maior ou menor que o fornecido.\n",
    "\n",
    "![Number Guess Game](figuras/NumberGuessGame.png)"
   ]
  },
  {
   "cell_type": "markdown",
   "id": "16b6493a-f8bc-4d79-91ac-eb029bad5bde",
   "metadata": {},
   "source": [
    "Para gerar um número aleatório usamos a função abaixo:"
   ]
  },
  {
   "cell_type": "code",
   "execution_count": null,
   "id": "f26da121-726f-4319-93a0-a975d128e05c",
   "metadata": {
    "tags": []
   },
   "outputs": [],
   "source": [
    "import random\n",
    "number = random.randint(1,10)"
   ]
  }
 ],
 "metadata": {
  "kernelspec": {
   "display_name": "Python 3 (ipykernel)",
   "language": "python",
   "name": "python3"
  },
  "language_info": {
   "codemirror_mode": {
    "name": "ipython",
    "version": 3
   },
   "file_extension": ".py",
   "mimetype": "text/x-python",
   "name": "python",
   "nbconvert_exporter": "python",
   "pygments_lexer": "ipython3",
   "version": "3.10.10"
  }
 },
 "nbformat": 4,
 "nbformat_minor": 5
}
