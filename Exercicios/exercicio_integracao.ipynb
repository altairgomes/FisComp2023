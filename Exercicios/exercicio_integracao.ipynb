{
 "cells": [
  {
   "cell_type": "markdown",
   "id": "ebe7bef7-249c-4596-8197-b4ffb7e4c707",
   "metadata": {},
   "source": [
    "# Exercício de Integração Numérica e FFT\n",
    "\n",
    "Uma partícula com carga $Q$ e massa $m_p$ se movendo com velocidade $\\vec{v}$ em um campo magnético constante $\\vec{B}$ sofre uma força conhecida como Força de Lorentz:\n",
    "\n",
    "$$\\vec{F}_{mag} = Q(\\vec{v}\\times\\vec{B})$$\n",
    "\n",
    "Sendo esta a única força atuando no sistema, a aceleração da partícula pode ser determinada utilizando a Segunda Lei de Newton. Assim:\n",
    "\n",
    "$$m_p\\frac{d^2\\vec{x}}{dt^2} = Q\\left(\\frac{d\\vec{x}}{dt}\\times\\vec{B}\\right)$$\n",
    "\n",
    "ou \n",
    "$$\\frac{d^2\\vec{x}}{dt^2} = \\frac{Q}{m_p}\\left(\\frac{d\\vec{x}}{dt}\\times\\vec{B}\\right)$$"
   ]
  },
  {
   "cell_type": "markdown",
   "id": "97b5a300-d5cb-4b17-abaa-07fd9c113b3d",
   "metadata": {
    "tags": []
   },
   "source": [
    "## Realizando a integração\n",
    "\n",
    "Pontuação: 100\n",
    "\n",
    "Utilizando a função **solve_ivp** do scipy, realize a integração do movimento desta partícula no espaço 3D durante um intervalo de 2s, considerando:\n",
    "\n",
    "$\\vec{x}_0 = [0, 0, 0] m$\n",
    "\n",
    "$\\vec{v}_0 = [0, 10, 0] m/s$\n",
    "\n",
    "$\\vec{B} = [10, 0, 0] T$\n",
    "\n",
    "$Q = 1 C$\n",
    "\n",
    "$m_p = 0.1 kg$"
   ]
  },
  {
   "cell_type": "code",
   "execution_count": null,
   "id": "8f35da28-2a57-425f-815b-5c8d55a0f31c",
   "metadata": {},
   "outputs": [],
   "source": []
  },
  {
   "cell_type": "markdown",
   "id": "60027807-ae2f-417e-89b2-699991cd8cb4",
   "metadata": {},
   "source": [
    "## Visualização\n",
    "\n",
    "Pontuação: 20\n",
    "\n",
    "Faça os plots de cada coordenada da partícula em função do tempo."
   ]
  },
  {
   "cell_type": "code",
   "execution_count": null,
   "id": "5c3a1965-b85d-4731-8e12-967b9712dd25",
   "metadata": {},
   "outputs": [],
   "source": []
  },
  {
   "cell_type": "markdown",
   "id": "0a3a708c-874d-4541-acaa-ddab0e2f52c8",
   "metadata": {},
   "source": [
    "## Energia Cinética\n",
    "\n",
    "Pontuação: 30\n",
    "\n",
    "Como a força magnética é sempre perpendicular à direção de velocidade, ela não irá alterar o módulo da velocidade. Dada esta condição, a Energia Cinética será conservada neste problema.\n",
    "\n",
    "Verifique se a Variação de Energia Cinética resultante da integração numérica está abaixo de 0.01%."
   ]
  },
  {
   "cell_type": "code",
   "execution_count": null,
   "id": "cc346a0b-767e-4db8-99c2-17f274743731",
   "metadata": {},
   "outputs": [],
   "source": []
  },
  {
   "cell_type": "markdown",
   "id": "42abc002-2f9b-46d0-a41f-615c893ed744",
   "metadata": {},
   "source": [
    "## Frequência de Oscilação\n",
    "\n",
    "Pontuação: 50\n",
    "\n",
    "Note que na figura gerada a partir do movimento da partícula ela oscila nas coordenadas y e z. Utilizando Fast Fourier Transform, determine a frequência de oscilação em ciclos por segundo.\n",
    "\n",
    "**Nota1**: Só é necessário utilizar uma das coordenadas.\n",
    "\n",
    "**Nota2**: Na integração, o intervalo entre os pontos não será um $\\Delta t$ constante. Porém, ele varia muito pouco ao redor de um intervalo médio. Portanto, podemos utilizar o valor médio ou mediana do $\\Delta t$ como se fosse uma constante."
   ]
  },
  {
   "cell_type": "code",
   "execution_count": null,
   "id": "fe1be5f0-2e14-4bd9-942e-94827a0493c1",
   "metadata": {},
   "outputs": [],
   "source": []
  }
 ],
 "metadata": {
  "kernelspec": {
   "display_name": "Python 3 (ipykernel)",
   "language": "python",
   "name": "python3"
  },
  "language_info": {
   "codemirror_mode": {
    "name": "ipython",
    "version": 3
   },
   "file_extension": ".py",
   "mimetype": "text/x-python",
   "name": "python",
   "nbconvert_exporter": "python",
   "pygments_lexer": "ipython3",
   "version": "3.10.10"
  }
 },
 "nbformat": 4,
 "nbformat_minor": 5
}
