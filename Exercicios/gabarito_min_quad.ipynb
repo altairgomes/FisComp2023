{
 "cells": [
  {
   "cell_type": "markdown",
   "id": "483ca1b7-f4bf-49a5-bd09-2b96640651ce",
   "metadata": {},
   "source": [
    "# Exercício 2: Mínimos Quadrados\n",
    "\n",
    "O calor específico de um material é uma quantidade que informa a quantidade de energia necessária para que um material com uma unidade de matéria aumente a temperatura em uma unidade. Por exemplo, o calor específico da água a uma temperatura de 18 °C (~291 K), com pressão constante é de $C=4180 J/(kg.K)$. Ou seja, para aumentar em 1 K, um volume de 1 kg de água seriam necessário fornecer 4180 J de energia.\n",
    "\n",
    "Para um metal, quando a temperatura está muito baixa, próximo do 0 absoluto, a equação para o calor específico, em função da temperatura, é dada por:\n",
    "\n",
    "\\begin{equation}\n",
    "C = aT + bT^3\n",
    "\\label{eq:calor_especifico} \\tag{1}\n",
    "\\end{equation}\n",
    "\n",
    "onde a e b são constantes que dependem do material.\n",
    "\n",
    "O arquivo \"dados2.txt\" contém dados simulados de um experimento de calor específico para o cobre em baixas temperaturas. A primeira coluna é a temperatura em Kelvins, a segunda coluna é o calor específico em Joules, e a terceira coluna é a incerteza do calor específico, em Joules."
   ]
  },
  {
   "cell_type": "markdown",
   "id": "20bab8d3-fb10-4cf8-87bb-5cd9e16ce829",
   "metadata": {},
   "source": [
    "## Solução do Exercício de Mínimos Quadrados\n",
    "\n",
    "O objetivo de mínimos quadrados é obter os melhores parâmetros de uma específica função de forma que a curva mais se aproxime dos dados.\n",
    "\n",
    "Supomos um conjunto de dados ($x_i$, $y_i$) que queremos ajustar por uma função linear qualquer $f(x)$\n",
    "\n",
    "Definimos como erro do experimento $i$, $e_i$, a diferença entre o valor determinado pelo experimento $y_i$ e pelo valor aplicado na função $f(x_i)$\n",
    "\n",
    "\\begin{equation}\n",
    "e_i = f(x_i) - y_i \\tag{2}\n",
    "\\end{equation}\n",
    "\n",
    "Ao escolher o melhor conjunto de parâmetros, queremos que o erro total seja o menor possível. Para isso precisamos minimizar o erro total. Infelizmente, a simples soma dos erros não fornece a melhor função para ser minimizada, pois ela gera um conjunto grande de possíveis soluções. O módulo do erro também não é uma função boa para ser ajustada porque não é uma função contínua. Portanto, a função a ser minimizada será a soma dos quadrados dos erros:\n",
    "\n",
    "\\begin{equation}\n",
    "E = \\sum_i e_i^2 \\tag{3}\n",
    "\\end{equation}"
   ]
  },
  {
   "cell_type": "markdown",
   "id": "afff2dc4-ea60-4d46-aa3e-9a9e708a84a5",
   "metadata": {},
   "source": [
    "## Exemplo de ajuste por uma linha\n",
    "\n",
    "A função a ser ajustada está apresentada na função (1). Logo, os parâmetros a serem determinados são os parâmetros $a$ e $b$.\n",
    "\n",
    "Para obter os valores mínimos derivamos a equação (3) em relação aos parâmetros de ajuste $a$ e $b$.\n",
    "\n",
    "$$\\frac{\\partial E}{\\partial a} = 0 \\tag{4}$$\n",
    "$$\\frac{\\partial E}{\\partial b} = 0 \\tag{5}$$\n",
    "\n",
    "Vamos primeiramente realizar a derivada da equação (4)\n",
    "\n",
    "$$\\frac{\\partial E}{\\partial a} = \\sum_{i}\\frac{\\partial (e_i^2)}{\\partial a} = \\sum_{i}2e_i\\frac{\\partial e_i}{\\partial a} = \\sum_{i}2e_i\\frac{\\partial f(T_i)}{\\partial a} = \\sum_{i}2e_iT_i = \\sum_{i}2[f(T_i) - y_i]T_i = \\sum_{i}2(aT_i^2 + bT^4 - y_iT_i) \\tag{6}$$\n",
    "\n",
    "Em seguida derivamos a equação (5)\n",
    "\n",
    "$$\\frac{\\partial E}{\\partial b} = \\sum_{i}\\frac{\\partial (e_i^2)}{\\partial b} = \\sum_{i}2e_i\\frac{\\partial e_i}{\\partial b} = \\sum_{i}2e_i\\frac{\\partial f(T_i)}{\\partial b} = \\sum_{i}2e_iT_i^3 = \\sum_{i}2[f(T_i) - y_i]T_i^3 = \\sum_{i}2(aT_i^4 + bT^6 - y_iT_i^3) \\tag{7}$$\n",
    "\n",
    "Agora igualamos as derivadas obtidas nas equações (6) e (7) por zero, como mostrado nas equações (4) e (5)\n",
    "\n",
    "\\begin{equation}\n",
    "\\begin{matrix}\n",
    "\\sum_{i}2(aT_i^2 + bT^4 - y_iT_i) = 0\\\\\n",
    "\\sum_{i}2(aT_i^4 + bT^6 - y_iT_i^3) = 0\n",
    "\\end{matrix}\n",
    "\\end{equation}\n",
    "\n",
    "que simplificamos para:\n",
    "\n",
    "\\begin{equation}\n",
    "\\begin{matrix}\n",
    "a\\sum_{i}T_i^2 + b\\sum_{i}T^4 = \\sum_{i}y_iT_i\\\\\n",
    "a\\sum_{i}T_i^4 + b\\sum_{i}T^6 = \\sum_{i}y_iT_i^3\n",
    "\\end{matrix} \\tag{8}\n",
    "\\end{equation}\n",
    "\n",
    "Para simplificar a notação, vamos substituir os somatórios por:\n",
    "\n",
    "$$S_{T2} = \\sum_{i}T_i^2$$\n",
    "$$S_{T4} = \\sum_{i}T^4$$\n",
    "$$S_{T6} = \\sum_{i}T^6$$\n",
    "$$S_{yT} = \\sum_{i}y_iT_i$$\n",
    "$$S_{yT3} = \\sum_{i}y_iT_i^3 \\tag{9}$$\n",
    "\n",
    "Assim a equação 8 fica:\n",
    "\n",
    "\\begin{equation}\n",
    "\\begin{matrix}\n",
    "aS_{T2} + bS_{T4} = S_{yT}\\\\\n",
    "aS_{T4} + bS_{T6} = S_{yT3}\n",
    "\\end{matrix} \\tag{10}\n",
    "\\end{equation}"
   ]
  },
  {
   "cell_type": "markdown",
   "id": "07afce7c-22a8-4244-aa95-2a278d9c3b05",
   "metadata": {},
   "source": [
    "## Parâmetros do melhor ajuste\n",
    "\n",
    "Finalmente, para obter os melhores parâmetros basta obter os valores de $a$ e $b$ no sistema de equações lineares dado na equação (10).\n",
    "\n",
    "Para obter $a$ vamos eliminar $b$ multiplicando a primeira equação de (10) por $S_{T6}$ e a segunda equação por $-S_{T4}$.\n",
    "\n",
    "\\begin{equation}\n",
    "\\begin{matrix}\n",
    "aS_{T2}S_{T6} + bS_{T4}S_{T6} = S_{yT}S_{T6}\\\\\n",
    "-aS_{T4}^2 - bS_{T6}S_{T4} = -S_{yT3}S_{T4}\n",
    "\\end{matrix} \\tag{11}\n",
    "\\end{equation}\n",
    "\n",
    "Agora somamos as duas equações de (11) e separamos $a$\n",
    "\n",
    "$$aS_{T2}S_{T6} - aS_{T4}^2 = S_{yT}S_{T6} - S_{yT3}S_{T4}$$\n",
    "$$a = \\frac{S_{yT}S_{T6} - S_{yT3}S_{T4}}{S_{T2}S_{T6} - S_{T4}^2} \\tag{12}$$\n",
    "\n",
    "Fazendo procedimento semelhante obtemos o valor de $b$:\n",
    "\n",
    "$$b = \\frac{S_{yT3}S_{T2} - S_{yT}S_{T4}}{S_{T2}S_{T6} - S_{T4}^2} \\tag{13}$$"
   ]
  },
  {
   "cell_type": "markdown",
   "id": "bd096fd0-6ac6-44d4-951d-6afb93c6b74e",
   "metadata": {},
   "source": [
    "## Considerando a incerteza dos parâmetros\n",
    "\n",
    "As medidas de um experimento possuem incertezas. Quando fazemos um ajuste, queremos que a curva passe mais próxima dos pontos com menor incerteza. Para considerar esta incerteza defnimos o chamado chi-quadrado $\\chi^2$, que nada mais é do que a equação (3) onde cada erro ao quadrado é dividido pela incerteza ao quadrado.\n",
    "\n",
    "$$\\chi^2 = \\sum_i\\frac{e_i^2}{\\sigma_i^2} \\tag{14}$$\n",
    "\n",
    "Ao derivarmos a equação (14) pelos parâmetros como feito acima, obtemos o mesmo resultado, porém a equação (9) vira:\n",
    "\n",
    "$$S_{T2} = \\sum_i\\frac{T_i^2}{\\sigma^2}$$\n",
    "$$S_{T4} = \\sum_i\\frac{T_i^4}{\\sigma_i^2}$$\n",
    "$$S_{T6} = \\sum_i\\frac{T_i^6}{\\sigma_i^2}$$\n",
    "$$S_{yT} = \\sum_i\\frac{y_iT_i}{\\sigma_i^2}$$\n",
    "$$S_{yT3} = \\sum_i\\frac{y_iT_i^3}{\\sigma_i^2} \\tag{15}$$\n",
    "\n",
    "E o resultado final é a mesma equação:\n",
    "\n",
    "$$a = \\frac{S_{yT}S_{T6} - S_{yT3}S_{T4}}{S_{T2}S_{T6} - S_{T4}^2}$$\n",
    "\n",
    "$$b = \\frac{S_{yT3}S_{T2} - S_{yT}S_{T4}}{S_{T2}S_{T6} - S_{T4}^2}$$"
   ]
  },
  {
   "cell_type": "markdown",
   "id": "f4193835-43fa-4d06-a379-c263ec366de1",
   "metadata": {},
   "source": [
    "## Obtendo as incertezas dos parâmetros ajustados\n",
    "\n",
    "Para terminar, sabemos que as medidas possuem incertezas associadas aos experimentos e queremos saber como essas incertezas podem ser propagadas para os parâmetros ajustados. Infelizmente, é extremamente complicado considerar as barras de erro nas duas variáveis, não existindo uma solução pré-determinada. Porém, se considerarmos a incerteza apenas na variável dependente, o procedimento se torna mais simples.\n",
    "\n",
    "Devemos lembrar que a equação de propagação de erro é:\n",
    "\n",
    "$$\\sigma_f^2 = \\left(\\frac{\\partial f}{\\partial a_1} \\right)^2\\sigma_{a_1}^2 + \\left(\\frac{\\partial f}{\\partial a_2} \\right)^2\\sigma_{a_2}^2 + \\cdot\\cdot\\cdot + \\left(\\frac{\\partial f}{\\partial a_n} \\right)^2\\sigma_{a_n}^2 = \\sum_i\\left(\\frac{\\partial f}{\\partial a_i} \\right)^2\\sigma_{a_i}^2$$\n",
    "\n",
    "Aplicando essa equação para $a$ e para $b$ supondo que os erros ocorrem apenas em $y$, temos que:\n",
    "\n",
    "$$\\sigma_a^2 = \\sum_i\\left(\\frac{\\partial a}{\\partial y_i} \\right)^2\\sigma_i^2 \\tag{16}$$\n",
    "$$\\sigma_b^2 = \\sum_i\\left(\\frac{\\partial b}{\\partial y_i} \\right)^2\\sigma_i^2 \\tag{17}$$\n",
    "\n",
    "Primeiramente, vamos obter a derivada de $a$ em relação a $y_i$:\n",
    "\n",
    "$$\\frac{\\partial a}{\\partial y_i} = \\frac{\\partial}{\\partial y_i}\\left(\\frac{S_{yT}S_{T6} - S_{yT3}S_{T4}}{S_{T2}S_{T6} - S_{T4}^2} \\right)$$\n",
    "$$\\frac{\\partial a}{\\partial y_i} = \\frac{1}{S_{T2}S_{T6} - S_{T4}^2}\\frac{\\partial}{\\partial y_i}\\left(S_{yT}S_{T6} - S_{yT3}S_{T4}\\right)$$\n",
    "$$\\frac{\\partial a}{\\partial y_i} = \\frac{1}{S_{T2}S_{T6} - S_{T4}^2}\\left(S_{T6}\\frac{\\partial S_{yT}}{\\partial y_i} - S_{T4}\\frac{\\partial S_{yT3}}{\\partial y_i}\\right) \\tag{18}$$\n",
    "\n",
    "Substituindo na equação (18) os valores de $S_{yT}$ e $S_{yT3}$ dados na equação (15) obtemos o resultado da derivada\n",
    "\n",
    "$$\\frac{\\partial a}{\\partial y_i} = \\frac{1}{S_{T2}S_{T6} - S_{T4}^2}\\left(\\frac{S_{T6}T_i}{\\sigma_i^2} - \\frac{S_{T4}T_i^3}{\\sigma_i^2}\\right)$$\n",
    "$$\\frac{\\partial a}{\\partial y_i} = \\frac{1}{\\sigma_i^2}\\left(\\frac{S_{T6}T_i - S_{T4}T_i^3}{S_{T2}S_{T6} - S_{T4}^2}\\right) \\tag{19}$$\n",
    "\n",
    "Substituindo a equação (19) na equação (16) obtemos:\n",
    "\n",
    "$$\\sigma_a^2 = \\sum_i\\left[\\frac{1}{\\sigma_i^2}\\left(\\frac{S_{T6}T_i - S_{T4}T_i^3}{S_{T2}S_{T6} - S_{T4}^2}\\right) \\right]^2\\sigma_i^2$$\n",
    "$$\\sigma_a^2 = \\sum_i\\frac{1}{\\sigma_i^2}\\frac{(S_{T6}T_i - S_{T4}T_i^3)^2}{(S_{T2}S_{T6} - S_{T4}^2)^2}$$\n",
    "$$\\sigma_a^2 = \\frac{1}{(S_{T2}S_{T6} - S_{T4}^2)^2}\\sum_i\\frac{1}{\\sigma_i^2}(S_{T6}^2T_i^2 - 2S_{T6}T_iS_{T4}T_i^3 + S_{T4}^2T_i^6)$$\n",
    "$$\\sigma_a^2 = \\frac{1}{(S_{T2}S_{T6} - S_{T4}^2)^2}\\left(S_{T6}^2 \\sum_i\\frac{T_i^2}{\\sigma_i^2}- 2S_{T6}S_{T4}\\sum_i\\frac{T_i^4}{\\sigma_i^2} + S_{T4}^2\\sum_i\\frac{T_i^6}{\\sigma_i^2}\\right)$$\n",
    "$$\\sigma_a^2 = \\frac{1}{(S_{T2}S_{T6} - S_{T4}^2)^2}\\left(S_{T6}^2 S_{T2} - 2S_{T6}S_{T4}^2 + S_{T4}^2S_{T6}\\right)$$\n",
    "$$\\sigma_a^2 = \\frac{1}{(S_{T2}S_{T6} - S_{T4}^2)^2}\\left(S_{T6}^2 S_{T2} - S_{T4}^2S_{T6}\\right)$$\n",
    "$$\\sigma_a^2 = \\frac{1}{(S_{T2}S_{T6} - S_{T4}^2)^2}S_{T6}\\left(S_{T6} S_{T2} - S_{T4}^2\\right)$$\n",
    "$$\\sigma_a^2 = \\frac{S_{T6}}{(S_{T2}S_{T6} - S_{T4}^2)} \\tag{20}$$\n",
    "\n",
    "Fazendo o mesmo procedimento para (b) temos:\n",
    "\n",
    "$$\\sigma_b^2 = \\frac{S_{T2}}{(S_{T2}S_{T6} - S_{T4}^2)} \\tag{21}$$"
   ]
  },
  {
   "cell_type": "code",
   "execution_count": 1,
   "id": "90d44da7-bbda-4f3a-92b3-a1a044a7df51",
   "metadata": {},
   "outputs": [],
   "source": [
    "import numpy as np\n",
    "import matplotlib.pyplot as plt"
   ]
  },
  {
   "cell_type": "code",
   "execution_count": 2,
   "id": "f8bfd5fe-de74-4115-a132-3c6ceb57c551",
   "metadata": {
    "tags": []
   },
   "outputs": [],
   "source": [
    "t, y, sigmay = np.loadtxt('dados2.txt', unpack=True)"
   ]
  },
  {
   "cell_type": "code",
   "execution_count": 3,
   "id": "2d7c449f-cf58-43a6-be71-6cfac8c3bf7c",
   "metadata": {
    "tags": []
   },
   "outputs": [],
   "source": [
    "st2 = np.sum(t**2/(sigmay**2))\n",
    "st4 = np.sum(t**4/(sigmay**2))\n",
    "st6 = np.sum(t**6/(sigmay**2))\n",
    "syt = np.sum(y*t/(sigmay**2))\n",
    "syt3 = np.sum(y*(t**3)/(sigmay**2))"
   ]
  },
  {
   "cell_type": "code",
   "execution_count": 4,
   "id": "8c227b39-fc7d-4d07-af4c-7b11697bdc4f",
   "metadata": {
    "tags": []
   },
   "outputs": [],
   "source": [
    "delta = st6*st2 - st4**2"
   ]
  },
  {
   "cell_type": "code",
   "execution_count": 5,
   "id": "63db5534-4518-467c-a5a6-92ef6a0bf863",
   "metadata": {
    "tags": []
   },
   "outputs": [],
   "source": [
    "a = (syt*st6 - syt3*st4)/delta\n",
    "b = (syt3*st2 - syt*st4)/delta"
   ]
  },
  {
   "cell_type": "code",
   "execution_count": 6,
   "id": "56d2298f-7b3b-4b63-8392-c68df24b26fd",
   "metadata": {
    "tags": []
   },
   "outputs": [],
   "source": [
    "sa = np.sqrt(st6/delta)\n",
    "sb = np.sqrt(st2/delta)"
   ]
  },
  {
   "cell_type": "code",
   "execution_count": 7,
   "id": "2c60ac00-7857-423d-b25f-b26337a7d649",
   "metadata": {
    "tags": []
   },
   "outputs": [
    {
     "name": "stdout",
     "output_type": "stream",
     "text": [
      "0.01084694046197205 0.0008595358028786201\n"
     ]
    }
   ],
   "source": [
    "print(a, b)"
   ]
  },
  {
   "cell_type": "code",
   "execution_count": 8,
   "id": "9472a80b-ea95-4a56-a157-51f795dcb777",
   "metadata": {
    "tags": []
   },
   "outputs": [
    {
     "name": "stdout",
     "output_type": "stream",
     "text": [
      "0.0007249594043212005 5.470784756661708e-05\n"
     ]
    }
   ],
   "source": [
    "print(sa, sb)"
   ]
  },
  {
   "cell_type": "code",
   "execution_count": 9,
   "id": "8ff7e3ee-94d4-4889-a27b-cf566097139b",
   "metadata": {
    "tags": []
   },
   "outputs": [],
   "source": [
    "T = np.linspace(0.5, 7, 100)\n",
    "C = a*T + b*(T**3)"
   ]
  },
  {
   "cell_type": "code",
   "execution_count": 10,
   "id": "d06c62e1-9bb9-4c66-8210-f672399c0102",
   "metadata": {
    "tags": []
   },
   "outputs": [
    {
     "data": {
      "text/plain": [
       "Text(0, 0.5, 'Calor específico J/(kg.K)')"
      ]
     },
     "execution_count": 10,
     "metadata": {},
     "output_type": "execute_result"
    },
    {
     "data": {
      "image/png": "[encoded data removed]",
      "text/plain": [
       "<Figure size 640x480 with 1 Axes>"
      ]
     },
     "metadata": {},
     "output_type": "display_data"
    }
   ],
   "source": [
    "plt.errorbar(t, y, yerr=sigmay, fmt='o')\n",
    "plt.plot(T, C)\n",
    "plt.xlabel('Temperatura (K)')\n",
    "plt.ylabel('Calor específico J/(kg.K)')"
   ]
  },
  {
   "cell_type": "markdown",
   "id": "2d65a98a-c9df-4cd0-a5af-bdf8f2fb86be",
   "metadata": {},
   "source": [
    "Os valores finais são:\n",
    "\n",
    "$$a = 0.0108 \\pm 0.0007~J/(kg.K^2)$$\n",
    "$$b = 0.00086 \\pm 0.00005~J/(kg.K^4)$$"
   ]
  },
  {
   "cell_type": "code",
   "execution_count": null,
   "id": "60c5c788-9ce3-47e0-a809-46190f76f633",
   "metadata": {},
   "outputs": [],
   "source": []
  }
 ],
 "metadata": {
  "kernelspec": {
   "display_name": "Python 3 (ipykernel)",
   "language": "python",
   "name": "python3"
  },
  "language_info": {
   "codemirror_mode": {
    "name": "ipython",
    "version": 3
   },
   "file_extension": ".py",
   "mimetype": "text/x-python",
   "name": "python",
   "nbconvert_exporter": "python",
   "pygments_lexer": "ipython3",
   "version": "3.10.10"
  }
 },
 "nbformat": 4,
 "nbformat_minor": 5
}
