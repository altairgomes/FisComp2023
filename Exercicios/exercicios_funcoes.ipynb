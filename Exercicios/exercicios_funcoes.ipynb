{
 "cells": [
  {
   "cell_type": "markdown",
   "id": "d296de86-7762-4e2b-9671-67a01d01845f",
   "metadata": {},
   "source": [
    "# Definindo os testes\n",
    "\n",
    "Rodar as células abaixo para instalar pacotes de teste e definir as funções de teste"
   ]
  },
  {
   "cell_type": "code",
   "execution_count": null,
   "id": "d78057ef-4343-4f40-b66d-9adf46504695",
   "metadata": {
    "tags": []
   },
   "outputs": [],
   "source": [
    "pip install pytest ipytest"
   ]
  },
  {
   "cell_type": "code",
   "execution_count": null,
   "id": "fb3bfa29-e8c7-49b7-b32f-177272c7ab1e",
   "metadata": {
    "tags": []
   },
   "outputs": [],
   "source": [
    "import pytest\n",
    "import ipytest\n",
    "\n",
    "@pytest.mark.parametrize(\"input, expected, min, max\",[\n",
    "    (10, 6.2137119, 6.2137, 6.2138), \n",
    "    (15, 9.3205679, 9.3205, 9.3206),\n",
    "    (46, 28.583075, 28.5830, 28.5831)\n",
    "])\n",
    "def test_km2mile(input, expected, min, max):\n",
    "    value = km2mile(input)\n",
    "    assert min < value < max, f\"resultado: {value}, {input} km deveria ser: {expected}\"\n",
    "\n",
    "@pytest.mark.parametrize(\"input, expected, min, max\", [\n",
    "    (-21, -5.8, -5.9, -5.7),\n",
    "    (6, 42.8, 42.7, 42.9),\n",
    "    (40, 104, 103.9, 104.1),\n",
    "    (77, 170.6, 170.5, 170.7),\n",
    "])\n",
    "def test_celsius2fahrenheit(input, expected, min, max):\n",
    "    fah = celsius2fahrenheit(input)\n",
    "    assert min < fah < max, f\"Celsius = {input}, resultado: {fah}, deveria ser: {expected}\"\n",
    "\n",
    "@pytest.mark.parametrize(\"input, deg, minute, sec, min, max\", [\n",
    "    (0.01, 0, 34, 22.6480, 22, 23),\n",
    "    (2, 114, 35, 29.6124, 29, 30),\n",
    "    (2.5, 143, 14, 22.0156, 22, 23),\n",
    "    \n",
    "])\n",
    "def test_rad2deg(input, deg, minute, sec, min, max):\n",
    "    d, m, s = rad2deg(input)\n",
    "    assert d == deg, f\"grau = {d}, deveria ser: {deg}\"\n",
    "    assert m == minute, f\"minuto = {m}, deveria ser: {minute}\"\n",
    "    assert min < s < max, f\"segundo = {s}, deveria ser: {sec}\""
   ]
  },
  {
   "cell_type": "markdown",
   "id": "aeb465b9-e962-4030-9245-763633f37025",
   "metadata": {},
   "source": [
    "-------------------------------------------------------------------------\n",
    "# Criando as funções\n",
    "\n",
    "Abaixo, edite as células para criar as funções pedidas. Vocês podem alterar as funções como desejarem, mas mantenham os nomes das funções. Crie o número de células necessárias para executar e testar o código você mesmo antes de rodar os testes finais.\n",
    "\n",
    "**Não se esqueçam de documentar as funções**"
   ]
  },
  {
   "cell_type": "markdown",
   "id": "d62b3765-31ff-45b9-a72a-4c42aac39e63",
   "metadata": {},
   "source": [
    "## Exercício 1\n",
    "\n",
    "Defina uma função que recebe um número em quilômetros e retorna o valor em milhas. Precisão mínima da quarta casa decimal."
   ]
  },
  {
   "cell_type": "code",
   "execution_count": null,
   "id": "8c8f4df3-2f7f-46d3-b31b-fcde69415dd1",
   "metadata": {
    "tags": []
   },
   "outputs": [],
   "source": [
    "def km2mile():"
   ]
  },
  {
   "cell_type": "markdown",
   "id": "397e6a32-8eda-4dcd-92af-8e9f50316315",
   "metadata": {},
   "source": [
    "## Exercício 2\n",
    "\n",
    "Defina uma função que recebe um valor de temperatura em graus Celsius e retorna o valor em Fahrenheit"
   ]
  },
  {
   "cell_type": "code",
   "execution_count": null,
   "id": "50e134a0-0b15-4ad4-9904-9fab884bb5c2",
   "metadata": {},
   "outputs": [],
   "source": [
    "def celsius2fahrenheit():"
   ]
  },
  {
   "cell_type": "markdown",
   "id": "f3d360c9-1779-4351-99ae-f6f5053c60de",
   "metadata": {},
   "source": [
    "## Exercício 3\n",
    "\n",
    "Defina uma função  que recebe um valor em radianos e retorna três valores, o grau (inteiro), o minuto (inteiro) e o segundo (float). Precisão na unidade do segundo.\n",
    "\n",
    "Por exemplo: 2 rad = 114º 35' 29.6''."
   ]
  },
  {
   "cell_type": "code",
   "execution_count": null,
   "id": "e4c4940f-8bdb-480d-8a9f-1c240ebd770e",
   "metadata": {
    "tags": []
   },
   "outputs": [],
   "source": [
    "def rad2deg():"
   ]
  },
  {
   "cell_type": "markdown",
   "id": "4bc78454-4bbd-446a-9a7e-ac175f60ad11",
   "metadata": {
    "tags": []
   },
   "source": [
    "---------------------\n",
    "fim dos códigos\n",
    "# Rodar os testes\n",
    "\n",
    "Execute a célula abaixo para rodar os testes das funções desenvolvidas.\n",
    "\n",
    "São 10 testes numéricos realizados, 3 da função \"km2mile\", 4 da função \"celsius2fahrenheit\" e 3 da função \"rad2deg\"\n",
    "\n",
    "Caso apareça \"Failures\", dê uma boa olhada nas mensagens que aparecem. Elas dizem o que aconteceu."
   ]
  },
  {
   "cell_type": "code",
   "execution_count": null,
   "id": "140de76a-904c-4737-a35d-82179a2c89e9",
   "metadata": {
    "tags": []
   },
   "outputs": [],
   "source": [
    "ipytest.run()"
   ]
  }
 ],
 "metadata": {
  "kernelspec": {
   "display_name": "Python 3 (ipykernel)",
   "language": "python",
   "name": "python3"
  },
  "language_info": {
   "codemirror_mode": {
    "name": "ipython",
    "version": 3
   },
   "file_extension": ".py",
   "mimetype": "text/x-python",
   "name": "python",
   "nbconvert_exporter": "python",
   "pygments_lexer": "ipython3",
   "version": "3.10.10"
  }
 },
 "nbformat": 4,
 "nbformat_minor": 5
}
