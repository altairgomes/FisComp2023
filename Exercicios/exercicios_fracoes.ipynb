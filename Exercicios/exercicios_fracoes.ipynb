{
 "cells": [
  {
   "cell_type": "markdown",
   "id": "a09ff874-d299-48b1-bd37-3702f24d86cb",
   "metadata": {},
   "source": [
    "# Definindo os testes\n",
    "\n",
    "Rodar as células abaixo para instalar pacotes de teste e definir as funções de teste"
   ]
  },
  {
   "cell_type": "code",
   "execution_count": null,
   "id": "5f4e8952-5fbb-4cbe-93a7-f08a87f344c3",
   "metadata": {
    "tags": []
   },
   "outputs": [],
   "source": [
    "# Caso não tenha instalado os pacotes abaixo, descomentar a linha abaixo e executar a célular\n",
    "#pip install pytest ipytest"
   ]
  },
  {
   "cell_type": "code",
   "execution_count": null,
   "id": "fac31d56-d286-41e2-a48e-06b60ff49bc5",
   "metadata": {
    "tags": []
   },
   "outputs": [],
   "source": [
    "import pytest\n",
    "import ipytest\n",
    "from fractions import Fraction\n",
    "\n",
    "def test_erro_definicao(den=0):\n",
    "    with pytest.raises(ZeroDivisionError):\n",
    "        Fracao(2, 0)\n",
    "\n",
    "@pytest.mark.parametrize(\"num, den\",[\n",
    "    (8, 5), \n",
    "    (0, 9),\n",
    "    (4, 1),\n",
    "    (-10, 3),\n",
    "    (3, -4)\n",
    "])\n",
    "def test_definicao_escrita(num, den):\n",
    "    a = Fracao(num, den)\n",
    "    b = Fraction(num, den)\n",
    "    assert a.__str__() == b.__str__(), f\"resultado: {num}/{den}, deveria ser: {b.__str__()}\"\n",
    "\n",
    "@pytest.mark.parametrize(\"num1, den1, num2, den2\",[\n",
    "    (2, 5, 1, 5),\n",
    "    (8, 5, 5, 8), \n",
    "    (1, 4, 1, 2),\n",
    "    (5, 3, -11, 4)\n",
    "])\n",
    "def test_soma(num1, den1, num2, den2):\n",
    "    a1 = Fracao(num1, den1)\n",
    "    a2 = Fracao(num2, den2)\n",
    "    b1 = Fraction(num1, den1)\n",
    "    b2 = Fraction(num2, den2)\n",
    "    ra = a1 + a2\n",
    "    rb = b1 + b2\n",
    "    assert ra.__str__() == rb.__str__(), f\"resultado: ({num1}/{den1}) + ({num2}/{den2}) => {ra.__str__()}, deveria ser: {rb.__str__()}\"\n",
    "    \n",
    "@pytest.mark.parametrize(\"num1, den1, num2, den2\",[\n",
    "    (3, 5, 1, 5),\n",
    "    (8, 5, 5, 8), \n",
    "    (1, 3, 1, 6),\n",
    "    (5, 7, 9, 5),\n",
    "    (-2, 1, -10, 3)\n",
    "])\n",
    "def test_sub(num1, den1, num2, den2):\n",
    "    a1 = Fracao(num1, den1)\n",
    "    a2 = Fracao(num2, den2)\n",
    "    b1 = Fraction(num1, den1)\n",
    "    b2 = Fraction(num2, den2)\n",
    "    ra = a1 - a2\n",
    "    rb = b1 - b2\n",
    "    assert ra.__str__() == rb.__str__(), f\"resultado: ({num1}/{den1}) - ({num2}/{den2}) => {ra.__str__()}, deveria ser: {rb.__str__()}\"\n",
    "    \n",
    "@pytest.mark.parametrize(\"num1, den1, num2, den2\",[\n",
    "    (1, 4, 3, 5),\n",
    "    (1, 3, 3, 1), \n",
    "    (2, 3, -3, 4)\n",
    "])\n",
    "def test_mul(num1, den1, num2, den2):\n",
    "    a1 = Fracao(num1, den1)\n",
    "    a2 = Fracao(num2, den2)\n",
    "    b1 = Fraction(num1, den1)\n",
    "    b2 = Fraction(num2, den2)\n",
    "    ra = a1 * a2\n",
    "    rb = b1 * b2\n",
    "    assert ra.__str__() == rb.__str__(), f\"resultado: ({num1}/{den1}) * ({num2}/{den2}) => {ra.__str__()}, deveria ser: {rb.__str__()}\"\n",
    "    \n",
    "@pytest.mark.parametrize(\"num1, den1, num2, den2\",[\n",
    "    (1, 4, 3, 5),\n",
    "    (2, 3, 4, 3), \n",
    "    (2, 3, -3, 4)\n",
    "])\n",
    "def test_div(num1, den1, num2, den2):\n",
    "    a1 = Fracao(num1, den1)\n",
    "    a2 = Fracao(num2, den2)\n",
    "    b1 = Fraction(num1, den1)\n",
    "    b2 = Fraction(num2, den2)\n",
    "    ra = a1 / a2\n",
    "    rb = b1 / b2\n",
    "    assert ra.__str__() == rb.__str__(), f\"resultado: ({num1}/{den1}) / ({num2}/{den2}) => {ra.__str__()}, deveria ser: {rb.__str__()}\"\n",
    "    \n",
    "def test_div_zero():\n",
    "    with pytest.raises(ZeroDivisionError):\n",
    "        Fracao(1, 5) / Fracao(0, 8)\n",
    "    \n",
    "@pytest.mark.parametrize(\"num1, den1, num2, den2\",[\n",
    "    (1, 4, 2, 8),\n",
    "    (2, 3, 4, 3), \n",
    "    (2, -3, -2, 3)\n",
    "])\n",
    "def test_igualdade(num1, den1, num2, den2):\n",
    "    a1 = Fracao(num1, den1)\n",
    "    a2 = Fracao(num2, den2)\n",
    "    b1 = Fraction(num1, den1)\n",
    "    b2 = Fraction(num2, den2)\n",
    "    ra = (a1 == a2)\n",
    "    rb = (b1 == b2)\n",
    "    assert ra == rb, f\"resultado: ({num1}/{den1}) == ({num2}/{den2}) => {ra}, deveria ser: {rb}\""
   ]
  },
  {
   "cell_type": "markdown",
   "id": "9f665495-f6e2-4268-8064-279c054cee05",
   "metadata": {},
   "source": [
    "-------------------------------------------------------------------------\n",
    "# Criando a class Fracao\n",
    "\n",
    "Abaixo, edite as células para criar a classe pedida. Vocês podem alterar a classe como desejar, mas mantenham o nome da classe. Crie o número de células necessárias para executar e testar o código você mesmo antes de rodar os testes finais.\n",
    "\n",
    "**Não se esqueçam de documentar as funções**"
   ]
  },
  {
   "cell_type": "code",
   "execution_count": null,
   "id": "0e8bb9d8-c793-45da-9482-fd6837d23cab",
   "metadata": {
    "tags": []
   },
   "outputs": [],
   "source": [
    "class Fracao:\n",
    "    pass"
   ]
  },
  {
   "cell_type": "markdown",
   "id": "70ba1849-5978-43db-8db6-a78cd81c2ce7",
   "metadata": {},
   "source": [
    "--------------------\n",
    "fim do código\n",
    "# Rodar os testes\n",
    "\n",
    "Execute a célula abaixo para rodar os testes da classe desenvolvida.\n",
    "\n",
    "Testes a serem executados:\n",
    "- Erro:\n",
    "  - Fracao(2, 0) deve gerar erro \"ZeroDivisionError\"\n",
    "- \\_\\_str\\_\\_()\n",
    "  - Fracao(8, 5) deve gerar \"8/5\"\n",
    "  - Fracao(0, 9) deve gerar \"0\"\n",
    "  - Fracao(4, 1) deve gerar \"4\"\n",
    "  - Fracao(-10, 3) deve gerar \"-10/3\"\n",
    "  - Fracao(3, -4) deve gerar \"-3/4\"\n",
    "- soma\n",
    "  - Fracao(2, 5) + Fracao(1, 5) deve gerar Fracao(3, 5)\n",
    "  - Fracao(8, 5) + Fracao(5, 8) deve gerar Fracao(89, 40)\n",
    "  - Fracao(1, 4) + Fracao(1, 2) deve gerar Fracao(3, 4)\n",
    "  - Fracao(5, 3) + Fracao(-11, 4) deve gerar Fracao(-13, 12)\n",
    "- subtração\n",
    "  - Fracao(3, 5) - Fracao(1, 5) deve gerar Fracao(2, 5)\n",
    "  - Fracao(8, 5) - Fracao(5, 8) deve gerar Fracao(39, 40)\n",
    "  - Fracao(1, 3) - Fracao(1, 6) deve gerar Fracao(1, 6)\n",
    "  - Fracao(5, 7) - Fracao(9, 5) deve gerar Fracao(-38, 35)\n",
    "  - Fracao(-2, 1) - Fracao(-10, 3) deve gerar Fracao(4, 3)\n",
    "- multiplicação\n",
    "  - Fracao(1, 4) * Fracao(3, 5) deve gerar Fracao(3, 20)\n",
    "  - Fracao(1, 3) * Fracao(3, 1) deve gerar Fracao(1, 1)\n",
    "  - Fracao(2, 3) * Fracao(-3, 4) deve gerar Fracao(-1, 2)\n",
    "- divisão\n",
    "  - Fracao(1, 4) / Fracao(3, 5) deve gerar Fracao(5, 12)\n",
    "  - Fracao(2, 3) / Fracao(4, 3) deve gerar Fracao(1, 2)\n",
    "  - Fracao(2, 3) / Fracao(-3, 4) deve gerar Fracao(-8, 9)\n",
    "  - Fracao(1, 5) / Fracao(0, 8) deve gerar erro \"ZeroDivisionError\"\n",
    "- igualdade\n",
    "  - Fracao(1, 4) == Fracao(2, 8) deve gerar True\n",
    "  - Fracao(2, 3) == Fracao(4, 3) deve gerar False\n",
    "  - Fracao(2, -3) == Fracao(-2, 3) deve gerar True\n",
    "\n",
    "\n",
    "Caso apareça \"Failures\", dê uma boa olhada nas mensagens que aparecem. Elas dizem o que aconteceu."
   ]
  },
  {
   "cell_type": "code",
   "execution_count": null,
   "id": "a7f1fad6-b7e5-44b5-bd2a-a6b96a858295",
   "metadata": {
    "tags": []
   },
   "outputs": [],
   "source": [
    "ipytest.run()"
   ]
  },
  {
   "cell_type": "code",
   "execution_count": null,
   "id": "bef4ea11-b12c-472c-8906-88c267866c38",
   "metadata": {},
   "outputs": [],
   "source": []
  }
 ],
 "metadata": {
  "kernelspec": {
   "display_name": "Python 3 (ipykernel)",
   "language": "python",
   "name": "python3"
  },
  "language_info": {
   "codemirror_mode": {
    "name": "ipython",
    "version": 3
   },
   "file_extension": ".py",
   "mimetype": "text/x-python",
   "name": "python",
   "nbconvert_exporter": "python",
   "pygments_lexer": "ipython3",
   "version": "3.10.10"
  }
 },
 "nbformat": 4,
 "nbformat_minor": 5
}
