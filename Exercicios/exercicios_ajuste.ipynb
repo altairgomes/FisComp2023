{
 "cells": [
  {
   "cell_type": "markdown",
   "id": "b059f27c-853f-4fa0-b46a-e537d133de31",
   "metadata": {},
   "source": [
    "# Exercício 2: Mínimos Quadrados\n",
    "\n",
    "O calor específico de um material é uma quantidade que informa a quantidade de energia necessária para que um material com uma unidade de matéria aumente a temperatura em uma unidade. Por exemplo, o calor específico da água a uma temperatura de 18 °C (~291 K), com pressão constante é de $C=4180 J/(kg.K)$. Ou seja, para aumentar em 1 K, um volume de 1 kg de água seriam necessário fornecer 4180 J de energia.\n",
    "\n",
    "Para um metal, quando a temperatura está muito baixa, próximo do 0 absoluto, a equação para o calor específico, em função da temperatura, é dada por:\n",
    "\n",
    "\\begin{equation}\n",
    "C = aT + bT^3\n",
    "\\label{eq:calor_especifico} \\tag{1}\n",
    "\\end{equation}\n",
    "\n",
    "onde a e b são constantes que dependem do material.\n",
    "\n",
    "O arquivo \"dados2.txt\" contém dados simulados de um experimento de calor específico para o cobre em baixas temperaturas. A primeira coluna é a temperatura em Kelvins, a segunda coluna é o calor específico em Joules, e a terceira coluna é a incerteza do calor específico, em Joules."
   ]
  },
  {
   "cell_type": "markdown",
   "id": "626997dd-91a1-438b-99f5-2332826779f1",
   "metadata": {},
   "source": [
    "## Visualização dos dados\n",
    "\n",
    "Pontuação: 10\n",
    "\n",
    "Faça a leitura da tabela e o plot dos dados, tendo o eixo x como a temperatura e o eixo y como o calor específico (considere as barras de erro). Não se esqueça de fornecer no plot as informações pertinentes, como por exemplo os nomes dos eixos, e não plotar informações fisicamente irrelevantes, como por exemplo a linha que une todos os pontos."
   ]
  },
  {
   "cell_type": "code",
   "execution_count": null,
   "id": "c7cabd64-4b91-48b0-8125-8236c8ef7009",
   "metadata": {},
   "outputs": [],
   "source": []
  },
  {
   "cell_type": "markdown",
   "id": "e192b58e-aa7d-4494-a82a-d494011b765d",
   "metadata": {},
   "source": [
    "## Ajuste dos dados\n",
    "\n",
    "Pontuação: 70\n",
    "\n",
    "- (40pt) Utilizando mínimos quadrados, faça o ajuste dos dados para obter os valores de $a$ e $b$ da equação (1). Considere as incertezas de cada ponto.\n",
    "- (30pt) Obtenha as barras de erro $\\sigma_a$ e $\\sigma_b$."
   ]
  },
  {
   "cell_type": "code",
   "execution_count": null,
   "id": "8b5468f9-a422-48df-b89d-1f82283e352b",
   "metadata": {},
   "outputs": [],
   "source": []
  },
  {
   "cell_type": "markdown",
   "id": "8f9c78e7-5c47-49f0-90d3-e68a5bb37239",
   "metadata": {},
   "source": [
    "## Apresentação dos resultados\n",
    "\n",
    "Pontuação: 20\n",
    "\n",
    "- (10pt) Faça o plot similar ao primeiro, porém inclua a curva com o melhor ajuste.\n",
    "- (10pt) Escreva uma célula de markdown apresentando os resultados. Não se esqueçam das unidades e de considerar os algarismos significativos."
   ]
  },
  {
   "cell_type": "code",
   "execution_count": null,
   "id": "e84af4c8-eb7d-4dbb-9637-1e3e66659479",
   "metadata": {},
   "outputs": [],
   "source": []
  }
 ],
 "metadata": {
  "kernelspec": {
   "display_name": "Python 3 (ipykernel)",
   "language": "python",
   "name": "python3"
  },
  "language_info": {
   "codemirror_mode": {
    "name": "ipython",
    "version": 3
   },
   "file_extension": ".py",
   "mimetype": "text/x-python",
   "name": "python",
   "nbconvert_exporter": "python",
   "pygments_lexer": "ipython3",
   "version": "3.10.10"
  }
 },
 "nbformat": 4,
 "nbformat_minor": 5
}
