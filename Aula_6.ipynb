{
 "cells": [
  {
   "cell_type": "markdown",
   "id": "89125dd1-13a1-422e-83b5-a0023e43ab6a",
   "metadata": {},
   "source": [
    "# Aula 6\n",
    "\n",
    "Hoje vamos aprender sobre integrais e iniciar Programação Orientada a Objetos"
   ]
  },
  {
   "cell_type": "markdown",
   "id": "3e83c8be-ce5c-4272-9b65-3f096f0a3789",
   "metadata": {
    "tags": []
   },
   "source": [
    "# Integração\n",
    "\n",
    "Como podemos utilizar o numpy, e a visualização no matplotlib para fazer a integração de uma função?\n",
    "\n",
    "$$ g(x) = \\int_{x_1}^{x_2} f(x) dx $$\n",
    "\n",
    "Vamos supor uma função simples a ser integrada de $x_1 = 1$ até $x_2=8$:\n",
    "\n",
    "$$ f(x) = 3 + 6x - x^2 $$"
   ]
  },
  {
   "cell_type": "code",
   "execution_count": null,
   "id": "24796bbe-b16e-4fcd-8bd3-3197b06db0f4",
   "metadata": {
    "tags": []
   },
   "outputs": [],
   "source": [
    "import numpy as np\n",
    "import matplotlib.pyplot as plt"
   ]
  },
  {
   "cell_type": "code",
   "execution_count": null,
   "id": "622326c4-62ae-47dc-a02a-96a90a935f6b",
   "metadata": {
    "tags": []
   },
   "outputs": [],
   "source": [
    "def polinomio(x):\n",
    "    return 3 + 6*x - x**2"
   ]
  },
  {
   "cell_type": "code",
   "execution_count": null,
   "id": "bdbaf82b-4d21-4fd3-a3fe-d59ef7a8817a",
   "metadata": {
    "tags": []
   },
   "outputs": [],
   "source": [
    "# A função pode ser visualizada fazendo:\n",
    "x = np.linspace(1,8,20)\n",
    "y = polinomio(x)\n",
    "plt.plot(x, y)\n",
    "plt.xlabel('X')\n",
    "plt.ylabel('Y')\n",
    "plt.show()"
   ]
  },
  {
   "cell_type": "markdown",
   "id": "b1dcbe13-140e-48ae-afe1-04d09e465c4c",
   "metadata": {},
   "source": [
    "Sabemos do cálculo que o resultado da integral deve ser:\n",
    "\n",
    "$$  g(x) = \\int(3 + 6x - x^2) dx $$\n",
    "$$  g(x) = (C + 3x + 3x^2 - {1 \\over 3} x^3) $$\n",
    "\n",
    "$$ g = g(x_2) - g(x_1) = (C + 3x_2 + 3x_2^2 - {1 \\over 3} x_2^3) - (C + 3x_1 + 3x_1^2 - {1 \\over 3} x_1^3) = 39.666$$"
   ]
  },
  {
   "cell_type": "markdown",
   "id": "a9fc5ec7-818b-4607-8043-ca41819cdc4b",
   "metadata": {
    "tags": []
   },
   "source": [
    "No cálculo, uma integral é definida como:\n",
    "\n",
    "$$g(x) = \\int_{x_1}^{x_2} f(x) dx = \\lim_{\\Delta x \\to 0} \\sum_{x=x_i}^{x_2} f(x) \\Delta x$$\n",
    "\n",
    "ou visualizada como a área abaixo da curva."
   ]
  },
  {
   "cell_type": "code",
   "execution_count": null,
   "id": "77139f43-1364-40cd-8d1d-d84864c022f4",
   "metadata": {
    "tags": []
   },
   "outputs": [],
   "source": [
    "start = 1\n",
    "end = 8\n",
    "step = 0.01\n",
    "x1 = np.arange(start, end, 0.01)\n",
    "x = np.arange(start, end, step) + step/2\n",
    "#print(x)\n",
    "plt.bar(x, polinomio(x), step, color='red')\n",
    "plt.plot(x1, polinomio(x1))\n",
    "plt.show()"
   ]
  },
  {
   "cell_type": "code",
   "execution_count": null,
   "id": "daa654ae-b87b-488b-853c-8ab780960c27",
   "metadata": {
    "tags": []
   },
   "outputs": [],
   "source": [
    "# Realizando a integral\n",
    "start = 1\n",
    "end = 8\n",
    "step = 0.001\n",
    "x = np.arange(start, end, step) + step/2\n",
    "y = polinomio(x)\n",
    "res = np.sum(y*step)\n",
    "print(res)"
   ]
  },
  {
   "cell_type": "code",
   "execution_count": null,
   "id": "f603e5cc-1466-4d60-b0c5-4f8f979184c5",
   "metadata": {
    "tags": []
   },
   "outputs": [],
   "source": [
    "# Integração por trapézio\n",
    "x = np.arange(start, end+step, step)\n",
    "y = polinomio(x)\n",
    "res = np.sum((y[1:] + y[:-1])*step/2)\n",
    "print(res)"
   ]
  },
  {
   "cell_type": "markdown",
   "id": "7e43b162-62bb-4c76-b166-5be71b30b605",
   "metadata": {},
   "source": [
    "### Exercício\n",
    "\n",
    "Faça a integração das funções abaixo e mostre graficamente\n",
    "\n",
    "$$ \\int_{0}^{\\pi/2} \\cos^4x dx $$\n",
    "$$ \\int_{0}^{1} \\sqrt{x^3 +1}dx $$\n",
    "$$ \\int_{1}^{5} x^2e^{-x}dx $$\n",
    "$$ \\int_{0}^{\\pi} x\\sin^2x dx $$"
   ]
  },
  {
   "cell_type": "markdown",
   "id": "422e03a6-6ace-4b88-8e70-1830da86a9f2",
   "metadata": {},
   "source": [
    "# Programação Orientada a Objetos\n",
    "\n",
    "Programação Orientada a Objetos é uma forma de criar programas estruturados onde os dados mantidos e as operações realizadas sobre os dados são juntadas em classes e acessadas via objetos.\n",
    "\n",
    "## Classes e Objetos\n",
    "\n",
    "- Classes são as regras que definem o comportamento de um objeto\n",
    "- Objetos (ou instâncias) são as variáveis que contém dados e seguem as regras definidas por uma classe.\n",
    "\n",
    "## Classes\n",
    "\n",
    "Classes são utilizados para representar tipos de dados mais complexos usando uma combinação de atributos e comportamentos. Uma classe deve capturar apenas uma ideia.\n",
    "\n",
    "Vamos tomar como exemplo uma classe que define uma pessoa, chamada Person. Essa pessoa possui características ou atributos que são representados por um parâmetro e ações ou métodos que são as funções que essa pessoa realiza.\n",
    "\n",
    "Atributos:\n",
    "- Nome\n",
    "- Idade\n",
    "- E-mail\n",
    "\n",
    "Métodos:\n",
    "- Andar\n",
    "- Comer\n",
    "- Dormir\n",
    "- Fazer aniversário: altera o valor da idade\n",
    "\n",
    "Antes de escrever o código, é importante imaginar como gostaríamos de utilizá-la. Por exemplo:\n",
    "\n",
    "```python\n",
    "altair = Person(nome='Altair', idade=32)\n",
    "print(altair.idade)  # 32\n",
    "altair.aniversario()\n",
    "print(altair.idade)  # 33\n",
    "```\n",
    "\n",
    "### Definindo uma classe"
   ]
  },
  {
   "cell_type": "code",
   "execution_count": null,
   "id": "7112d39c-9090-4385-a267-4ad9397b6c2f",
   "metadata": {
    "tags": []
   },
   "outputs": [],
   "source": [
    "class Person:\n",
    "    \"\"\" Exemplo de classe que mantém nome e idade de uma pessoa\n",
    "    \"\"\"\n",
    "    def __init__(self, nome, idade):\n",
    "        \"\"\" Documentação do método\n",
    "        \"\"\"\n",
    "        self.nome = nome\n",
    "        self.idade = idade"
   ]
  },
  {
   "cell_type": "markdown",
   "id": "ac4d197a-1916-4fe3-9dc1-e2d8627857bb",
   "metadata": {},
   "source": [
    "Na definição acima, temos algums regras a seguir:\n",
    "- O nome da classe deve sempre começar com a primeira letra maiúscula. Se várias palavras são utilizadas, colocar a primeira letra de cada palavra como maiúscula e não utilizar '\\_'. Por exemplo: \"NameOfClass\".\n",
    "- Deve ser definida a função \"\\_\\_init\\_\\_\" que a função que será executada quando a classe for chamada. Ela é chamada de função especial por causa dos dois underscores antes e depois do nome da função. Veremos mais dessas função nas próximas aulas.\n",
    "- \"self\" deve sempre ser usado como primeiro parâmetro das funções da classe e utilizadas para salvar os atributos da classe. É uma variável especial que aponta para si própria.\n",
    "- No caso acima, a classe Person possui dois atributos: nome e idade"
   ]
  },
  {
   "cell_type": "code",
   "execution_count": null,
   "id": "c898c4f7-7ac5-4930-957f-b430a0ce9963",
   "metadata": {},
   "outputs": [],
   "source": [
    "# Para utilizar a classe, devemos criar um objeto que irá utilizar a classe como regra.\n",
    "altair = Person(nome='Altair', idade=32)\n",
    "# Note que não precisamos passar nada para o parâmetro self."
   ]
  },
  {
   "cell_type": "code",
   "execution_count": null,
   "id": "93666b92-f155-444a-9512-a16a911de7b8",
   "metadata": {
    "tags": []
   },
   "outputs": [],
   "source": [
    "print(altair)"
   ]
  },
  {
   "cell_type": "code",
   "execution_count": null,
   "id": "bf2f8574-cb0a-4ee8-8c79-ebba58b502e6",
   "metadata": {
    "tags": []
   },
   "outputs": [],
   "source": [
    "print(type(altair))"
   ]
  },
  {
   "cell_type": "code",
   "execution_count": null,
   "id": "6c42a7ce-7440-4e0a-99a0-dc8af1f27724",
   "metadata": {
    "tags": []
   },
   "outputs": [],
   "source": [
    "print(altair.nome)\n",
    "print(altair.idade)"
   ]
  },
  {
   "cell_type": "code",
   "execution_count": null,
   "id": "329a7c43-7fdb-46b4-8de7-f123aa486d69",
   "metadata": {
    "tags": []
   },
   "outputs": [],
   "source": [
    "carla = Person(nome='Carla', idade=28)"
   ]
  },
  {
   "cell_type": "code",
   "execution_count": null,
   "id": "f31d73cf-e450-41fa-9cc2-7a5354d908a1",
   "metadata": {
    "tags": []
   },
   "outputs": [],
   "source": [
    "print(carla.nome)\n",
    "print(carla.idade)"
   ]
  },
  {
   "cell_type": "code",
   "execution_count": null,
   "id": "cc5621a3-2b0e-46d9-8933-6b15e2b46927",
   "metadata": {
    "tags": []
   },
   "outputs": [],
   "source": [
    "# Mesmo definindo outra pessoa, os atributos da primeira não são alterados.\n",
    "print(altair.idade)"
   ]
  },
  {
   "cell_type": "markdown",
   "id": "d3961eaf-0636-4a73-822b-0d4148c49c47",
   "metadata": {},
   "source": [
    "É possível redefinir os valores diretamente"
   ]
  },
  {
   "cell_type": "code",
   "execution_count": null,
   "id": "ac9905a7-85ad-496a-a694-2fd12516e706",
   "metadata": {
    "tags": []
   },
   "outputs": [],
   "source": [
    "altair.idade = 33"
   ]
  },
  {
   "cell_type": "code",
   "execution_count": null,
   "id": "96608ccf-4139-42f0-85c1-efe315aaf854",
   "metadata": {
    "tags": []
   },
   "outputs": [],
   "source": [
    "print(altair.idade)"
   ]
  },
  {
   "cell_type": "markdown",
   "id": "e3aeee07-f0eb-4c53-a9fd-67a7fb8aaa49",
   "metadata": {},
   "source": [
    "### Definindo uma representação em string para uma classe\n",
    "\n",
    "Caso queiramos que o print de um objeto sai um texto mais informativo, é preciso definir qual como transformar o objeto para uma string. Isso é feito através do método especial \"\\_\\_str\\_\\_(self)\""
   ]
  },
  {
   "cell_type": "code",
   "execution_count": null,
   "id": "8491ceef-442b-45c3-b26d-6605301a3b4e",
   "metadata": {
    "tags": []
   },
   "outputs": [],
   "source": [
    "class Person:\n",
    "    def __init__(self, nome, idade):\n",
    "        self.nome = nome\n",
    "        self.idade = idade\n",
    "    \n",
    "    def __str__(self):\n",
    "        string = self.nome + \" tem \" + str(self.idade) + \" anos\"\n",
    "        return string"
   ]
  },
  {
   "cell_type": "code",
   "execution_count": null,
   "id": "3685335d-9bad-4546-985f-5584a61e89ab",
   "metadata": {
    "tags": []
   },
   "outputs": [],
   "source": [
    "altair = Person(nome='Altair', idade=32)"
   ]
  },
  {
   "cell_type": "code",
   "execution_count": null,
   "id": "1c8f6bfb-5609-4b5f-a4bd-5150699dd148",
   "metadata": {
    "tags": []
   },
   "outputs": [],
   "source": [
    "print(altair)"
   ]
  },
  {
   "cell_type": "code",
   "execution_count": null,
   "id": "dd0e526e-686c-4e16-a0ab-c3bf96fb7a57",
   "metadata": {
    "tags": []
   },
   "outputs": [],
   "source": [
    "str(altair)"
   ]
  },
  {
   "cell_type": "markdown",
   "id": "b55603e3-7863-4605-b44c-c5df9edb90db",
   "metadata": {},
   "source": [
    "### Adicionando um método para o aniversário"
   ]
  },
  {
   "cell_type": "code",
   "execution_count": null,
   "id": "c1c4fa9b-5290-4c3e-b6af-c907ba25f0b2",
   "metadata": {
    "tags": []
   },
   "outputs": [],
   "source": [
    "class Person:\n",
    "    def __init__(self, nome, idade):\n",
    "        self.nome = nome\n",
    "        self.idade = idade\n",
    "    \n",
    "    def __str__(self):\n",
    "        string = self.nome + \" tem \" + str(self.idade) + \" anos\"\n",
    "        return string\n",
    "    \n",
    "    def aniversario(self):\n",
    "        print('Parabéns')\n",
    "        self.idade = self.idade + 1"
   ]
  },
  {
   "cell_type": "code",
   "execution_count": null,
   "id": "da421b2f-c21b-4eb5-b1a2-4372413cada7",
   "metadata": {
    "tags": []
   },
   "outputs": [],
   "source": [
    "altair = Person(nome='Altair', idade=32)"
   ]
  },
  {
   "cell_type": "code",
   "execution_count": null,
   "id": "364b9344-95c1-4571-ad5b-03fb59651c53",
   "metadata": {
    "tags": []
   },
   "outputs": [],
   "source": [
    "print(altair)\n",
    "altair.aniversario()\n",
    "print(altair)"
   ]
  },
  {
   "cell_type": "code",
   "execution_count": null,
   "id": "b3757fe8-5449-47fc-9f76-7929f53f14f3",
   "metadata": {},
   "outputs": [],
   "source": []
  }
 ],
 "metadata": {
  "kernelspec": {
   "display_name": "Python 3 (ipykernel)",
   "language": "python",
   "name": "python3"
  },
  "language_info": {
   "codemirror_mode": {
    "name": "ipython",
    "version": 3
   },
   "file_extension": ".py",
   "mimetype": "text/x-python",
   "name": "python",
   "nbconvert_exporter": "python",
   "pygments_lexer": "ipython3",
   "version": "3.10.10"
  }
 },
 "nbformat": 4,
 "nbformat_minor": 5
}
