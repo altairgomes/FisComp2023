{
 "cells": [
  {
   "cell_type": "markdown",
   "id": "00be31bd-0451-45e1-9497-5af4be266b16",
   "metadata": {},
   "source": [
    "# Aula 10\n",
    "\n",
    "## Mínimos Quadrados utilizando multiplicação matricial\n",
    "\n",
    "Suponha um experimento de queda livre onde obtemos a variação de altura em função do tempo ($t_i$, $y_i$). Vamos tentar ajustar uma equação de segundo grau e obter os melhores parâmetros. Com isso, temos uma sequência de equações lineares:\n",
    "\n",
    "\\begin{equation}\n",
    "\\begin{matrix}\n",
    "y_1 = a + bt_1 + at_1^2\\\\\n",
    "y_2 = a + bt_2 + at_2^2\\\\\n",
    "\\cdot\\cdot\\cdot\\\\\n",
    "y_n = a + bt_n + at_n^2\\\\\n",
    "\\end{matrix}\n",
    "\\label{eq:calor_especifico} \\tag{1}\n",
    "\\end{equation}\n",
    "\n",
    "Podemos transformar estas equações em uma multiplicação matricial:\n",
    "\n",
    "\\begin{equation}\n",
    "\\begin{bmatrix}\n",
    "y_1\\\\ y_2 \\\\ \\cdot\\cdot\\cdot \\\\ y_n\n",
    "\\end{bmatrix} = \n",
    "\\begin{bmatrix}\n",
    "1 & t_1 & t_1^2\\\\ 1 & t_2 & t_2^2 \\\\ \\cdot\\cdot\\cdot \\\\ 1 & t_n & t_n^2\n",
    "\\end{bmatrix} \n",
    "\\begin{bmatrix}\n",
    "a\\\\ b \\\\ c\n",
    "\\end{bmatrix} \n",
    "\\end{equation}\n",
    "\n",
    "Simplificamos a equação fazendo:\n",
    "\n",
    "\\begin{equation}\n",
    "Y = \\begin{bmatrix}\n",
    "y_1\\\\ y_2 \\\\ \\cdot\\cdot\\cdot \\\\ y_n\n",
    "\\end{bmatrix}\n",
    "\\end{equation}\n",
    "\n",
    "\\begin{equation}\n",
    "M = \\begin{bmatrix}\n",
    "1 & t_1 & t_1^2\\\\ 1 & t_2 & t_2^2 \\\\ \\cdot\\cdot\\cdot \\\\ 1 & t_n & t_n^2\n",
    "\\end{bmatrix} \n",
    "\\end{equation}\n",
    "\n",
    "\\begin{equation}\n",
    "X = \\begin{bmatrix}\n",
    "a\\\\ b \\\\ c\n",
    "\\end{bmatrix} \n",
    "\\end{equation}\n",
    "\n",
    "Logo: $Y = MX$\n",
    "\n",
    "Como a matriz $M$ não é quadrada não podemos invertê-la para obter X. Para resolver este problema, multiplicamos esta equação pela transposta de $M$. Com isso, a multiplicação de $M$ por sua transposta é quadrada. Se a matriz resultante for invertível, podemos utilizá-la para obter o valor da matrix $X$:\n",
    "\n",
    "$$Y = MX$$\n",
    "$$M^TY = (M^TM)X$$\n",
    "$$(M^TM)^{-1}M^TY = X$$"
   ]
  },
  {
   "cell_type": "markdown",
   "id": "d75177f9-3203-4d76-a203-caff228906e3",
   "metadata": {
    "tags": []
   },
   "source": [
    "## Ler arquivo\n",
    "\n",
    "Vamos primeiramente ler o arquivo de dados do experimento simulado \"dados1.txt\". Este arquivo possui na primeira coluna as variações de altura dos experimentos. Nas colunas restantes temos as diversas tentativas, sendo cada linha os 10 experimentos para cada altura."
   ]
  },
  {
   "cell_type": "code",
   "execution_count": 1,
   "id": "f32c0088-2bf1-43b3-85ec-9b5a8e7eadc3",
   "metadata": {
    "tags": []
   },
   "outputs": [],
   "source": [
    "import numpy as np"
   ]
  },
  {
   "cell_type": "code",
   "execution_count": 2,
   "id": "d1f83a20-4969-4b8c-83c4-c24733bebdb1",
   "metadata": {
    "tags": []
   },
   "outputs": [],
   "source": [
    "# lemos apenas a primeira coluna para a variável de alturas\n",
    "y = np.loadtxt('dados1.txt', usecols=[0])"
   ]
  },
  {
   "cell_type": "code",
   "execution_count": 3,
   "id": "07a4c8c1-1361-4ba3-938a-5a88a589965c",
   "metadata": {
    "tags": []
   },
   "outputs": [
    {
     "data": {
      "text/plain": [
       "array([ 5., 15., 25., 35., 45., 55., 65., 75., 85., 95.])"
      ]
     },
     "execution_count": 3,
     "metadata": {},
     "output_type": "execute_result"
    }
   ],
   "source": [
    "y"
   ]
  },
  {
   "cell_type": "code",
   "execution_count": 4,
   "id": "00e14dcc-e941-4ece-b1f5-4d4977feeeb3",
   "metadata": {
    "tags": []
   },
   "outputs": [],
   "source": [
    "# Lemos todas as colunas restantes para a variável de tempos\n",
    "tempos = np.loadtxt('dados1.txt', usecols=[1,2,3,4,5,6,7,8,9,10])"
   ]
  },
  {
   "cell_type": "code",
   "execution_count": 5,
   "id": "71f76820-7162-4c26-b295-986577689e28",
   "metadata": {
    "tags": []
   },
   "outputs": [
    {
     "name": "stdout",
     "output_type": "stream",
     "text": [
      "[[0.8428 1.1185 0.8814 0.9262 0.6118 0.7292 0.9211 1.0313 1.595  1.0057]\n",
      " [1.6922 1.4831 1.5734 1.3259 2.0035 1.8646 1.9466 1.3935 1.7367 1.6644]\n",
      " [2.3721 1.9264 2.1468 2.0722 1.7667 2.0059 2.3233 2.6035 1.9932 2.0211]\n",
      " [2.4722 2.8972 2.7822 2.9445 2.7215 2.8927 2.6235 2.3068 2.4996 2.7418]\n",
      " [3.4313 2.8026 2.9582 2.9269 3.4173 3.0331 2.7519 3.0659 2.7578 2.9828]\n",
      " [3.1708 3.1326 3.4476 2.9496 3.1892 3.0524 3.1767 3.2052 3.2295 3.3993]\n",
      " [3.5423 3.2576 3.9317 3.822  4.0446 3.7761 3.7495 3.2949 3.9469 3.6903]\n",
      " [4.1976 4.0841 3.7502 3.8618 3.6485 4.3098 3.6746 3.711  3.7216 3.9358]\n",
      " [4.3948 4.1723 4.392  4.2884 3.8712 4.1123 4.002  3.9301 4.5328 4.3038]\n",
      " [4.2845 4.6927 4.3984 4.7557 4.1916 4.2151 4.4894 4.7436 4.5183 4.4202]]\n"
     ]
    }
   ],
   "source": [
    "# Esta variável de tempos é uma matriz de 10 linhas por 10 colunas\n",
    "print(tempos)"
   ]
  },
  {
   "cell_type": "code",
   "execution_count": 6,
   "id": "63b8fb62-bbdc-4f25-9f61-019caccf2643",
   "metadata": {
    "tags": []
   },
   "outputs": [],
   "source": [
    "# Obtemos os valores médios do tempo para cada altura fazendo\n",
    "t_mean = tempos.mean(axis=1)"
   ]
  },
  {
   "cell_type": "code",
   "execution_count": 7,
   "id": "1d696ed0-c738-44ef-8f57-7084dc963bf5",
   "metadata": {
    "tags": []
   },
   "outputs": [
    {
     "data": {
      "text/plain": [
       "array([0.9663 , 1.66839, 2.12312, 2.6882 , 3.01278, 3.19529, 3.70559,\n",
       "       3.8895 , 4.19997, 4.47095])"
      ]
     },
     "execution_count": 7,
     "metadata": {},
     "output_type": "execute_result"
    }
   ],
   "source": [
    "t_mean"
   ]
  },
  {
   "cell_type": "code",
   "execution_count": 8,
   "id": "65732acb-1759-43e1-8c2e-ca3ab9a66ea9",
   "metadata": {
    "tags": []
   },
   "outputs": [],
   "source": [
    "# Para obter o desvio padrão, utilizamos o método 'std' do numpy.\n",
    "# Não podemos esquecer de definir o 'delta degrees of freedom'\n",
    "# que diz por qual valor deve-se diminuir o valor de N na equação do desvio padrão.\n",
    "# N - ddof\n",
    "t_std = tempos.std(axis=1, ddof=1)"
   ]
  },
  {
   "cell_type": "code",
   "execution_count": 9,
   "id": "64e37775-f042-4bfd-bbd1-a5fa1e0871e5",
   "metadata": {
    "tags": []
   },
   "outputs": [
    {
     "data": {
      "text/plain": [
       "[<matplotlib.lines.Line2D at 0x7f8508362710>]"
      ]
     },
     "execution_count": 9,
     "metadata": {},
     "output_type": "execute_result"
    },
    {
     "data": {
      "image/png": "[encoded data removed]",
      "text/plain": [
       "<Figure size 640x480 with 1 Axes>"
      ]
     },
     "metadata": {},
     "output_type": "display_data"
    }
   ],
   "source": [
    "# Visualizamos os dados\n",
    "import matplotlib.pyplot as plt\n",
    "plt.plot(t_mean, y, 'o')"
   ]
  },
  {
   "cell_type": "code",
   "execution_count": 10,
   "id": "d43d1add-124f-4ac5-88aa-012eafab60f6",
   "metadata": {
    "tags": []
   },
   "outputs": [
    {
     "data": {
      "text/plain": [
       "<ErrorbarContainer object of 3 artists>"
      ]
     },
     "execution_count": 10,
     "metadata": {},
     "output_type": "execute_result"
    },
    {
     "data": {
      "image/png": "[encoded data removed]",
      "text/plain": [
       "<Figure size 640x480 with 1 Axes>"
      ]
     },
     "metadata": {},
     "output_type": "display_data"
    }
   ],
   "source": [
    "# Agora visualizamos utilizando o desvio padrão como a barra de erro.\n",
    "plt.errorbar(t_mean, y, xerr=t_std, fmt='o')"
   ]
  },
  {
   "cell_type": "markdown",
   "id": "2cb06236-4228-4f00-8b6a-1609f51fede3",
   "metadata": {},
   "source": [
    "## Mínimos Quadrados"
   ]
  },
  {
   "cell_type": "code",
   "execution_count": 11,
   "id": "7a54e22d-9682-4a16-9b6a-af3e1aa89f96",
   "metadata": {
    "tags": []
   },
   "outputs": [],
   "source": [
    "# Definimos uma função para gerar a matriz identidade\n",
    "def gera_identidade(n):\n",
    "    identidade = np.zeros((n, n))\n",
    "    for i in range(n):\n",
    "        identidade[i, i] = 1\n",
    "    return identidade"
   ]
  },
  {
   "cell_type": "code",
   "execution_count": 12,
   "id": "18c1052f-5cdd-438c-bb9a-dfd889811c84",
   "metadata": {
    "tags": []
   },
   "outputs": [],
   "source": [
    "# Definimos uma função que inverte uma matriz\n",
    "# Note que esta função ainda não é completa.\n",
    "# Falta ainda a troca de linhas quando necessário.\n",
    "def inverte_matriz(matriz):\n",
    "    \"\"\" Inverte matriz quadrada\n",
    "    \n",
    "    Parameters\n",
    "    ----------\n",
    "    matrix: numpy.array\n",
    "        Matriz de tamanho nxn\n",
    "    \"\"\"\n",
    "    matriz = matriz.copy()\n",
    "    x, y = matriz.shape\n",
    "    if x != y:\n",
    "        raise ValueError('Matriz não é quadrada')\n",
    "    inversa = gera_identidade(x)\n",
    "    for i in range(x):\n",
    "        pivo = matriz[i, i]\n",
    "        matriz[i] = matriz[i] / pivo\n",
    "        inversa[i] = inversa[i] / pivo\n",
    "        for j in range(i+1,x):\n",
    "            val = matriz[j,i]\n",
    "            matriz[j] = matriz[j] - val*matriz[i]\n",
    "            inversa[j] = inversa[j] - val*inversa[i]\n",
    "    \n",
    "    for i in range(x):\n",
    "        for j in range(i+1, x):\n",
    "            val = matriz[i,j]\n",
    "            matriz[i] = matriz[i] - val*matriz[j]\n",
    "            inversa[i] = inversa[i] - val*inversa[j]\n",
    "            \n",
    "    return matriz, inversa"
   ]
  },
  {
   "cell_type": "code",
   "execution_count": 13,
   "id": "d885b991-012f-4d0f-be4f-1d2b25a01958",
   "metadata": {
    "tags": []
   },
   "outputs": [],
   "source": [
    "# Definimos a função para a multiplicação matricial\n",
    "def matmul(matriz1, matriz2):\n",
    "    x1, y1 = matriz1.shape\n",
    "    x2, y2 = matriz2.shape\n",
    "    if y1 != x2:\n",
    "        raise ValueError('Matrizes não possuem dimensões compatíveis')\n",
    "    resultado = np.zeros((x1, y2))\n",
    "    for i in range(x1):\n",
    "        for j in range(y2):\n",
    "            resultado[i, j] = np.sum(matriz1[i]*matriz2[:, j])\n",
    "    return resultado"
   ]
  },
  {
   "cell_type": "markdown",
   "id": "ba170f44-4e53-4ca1-9150-a7192689fb6a",
   "metadata": {},
   "source": [
    "Agora vamos montar a matriz $M$ que contem a primeira coluna como 1, a segunda coluna com os valores do tempo médio e a última coluna com os valores do tempo médio ao quadrado."
   ]
  },
  {
   "cell_type": "code",
   "execution_count": 14,
   "id": "f0d70d08-6980-41e7-a105-41c1d5b1762d",
   "metadata": {
    "tags": []
   },
   "outputs": [],
   "source": [
    "matriz = np.ones((10, 3))\n",
    "matriz[:, 1] = t_mean\n",
    "matriz[:, 2] = t_mean**2"
   ]
  },
  {
   "cell_type": "code",
   "execution_count": 15,
   "id": "82c956c2-4cbf-419c-a7db-db79253f0b0f",
   "metadata": {
    "tags": []
   },
   "outputs": [
    {
     "data": {
      "text/plain": [
       "array([[ 1.        ,  0.9663    ,  0.93373569],\n",
       "       [ 1.        ,  1.66839   ,  2.78352519],\n",
       "       [ 1.        ,  2.12312   ,  4.50763853],\n",
       "       [ 1.        ,  2.6882    ,  7.22641924],\n",
       "       [ 1.        ,  3.01278   ,  9.07684333],\n",
       "       [ 1.        ,  3.19529   , 10.20987818],\n",
       "       [ 1.        ,  3.70559   , 13.73139725],\n",
       "       [ 1.        ,  3.8895    , 15.12821025],\n",
       "       [ 1.        ,  4.19997   , 17.639748  ],\n",
       "       [ 1.        ,  4.47095   , 19.9893939 ]])"
      ]
     },
     "execution_count": 15,
     "metadata": {},
     "output_type": "execute_result"
    }
   ],
   "source": [
    "matriz"
   ]
  },
  {
   "cell_type": "code",
   "execution_count": 16,
   "id": "ef7d9634-e236-4170-a94b-cedda39c5576",
   "metadata": {
    "tags": []
   },
   "outputs": [],
   "source": [
    "# A transposta de uma matriz pode ser obtida utilizando o atributo 'T' como mostrado abaixo.\n",
    "matrizT = matriz.T"
   ]
  },
  {
   "cell_type": "code",
   "execution_count": 17,
   "id": "42a2bb1f-1e89-4179-9f3f-0c72f5452d04",
   "metadata": {
    "tags": []
   },
   "outputs": [],
   "source": [
    "# Realizamos a multiplicação matricial da matriz transposta com a própria matriz\n",
    "mm = matmul(matrizT, matriz)"
   ]
  },
  {
   "cell_type": "code",
   "execution_count": 18,
   "id": "5b9ad8c0-4dba-4706-a73a-ad1cbb6f084b",
   "metadata": {
    "tags": []
   },
   "outputs": [
    {
     "data": {
      "text/plain": [
       "array([[  10.        ,   29.92009   ,  101.22678957],\n",
       "       [  29.92009   ,  101.22678957,  367.694741  ],\n",
       "       [ 101.22678957,  367.694741  , 1395.94110624]])"
      ]
     },
     "execution_count": 18,
     "metadata": {},
     "output_type": "execute_result"
    }
   ],
   "source": [
    "mm"
   ]
  },
  {
   "cell_type": "code",
   "execution_count": 19,
   "id": "e96a4619-98e7-4049-a198-01f1a6b01a1f",
   "metadata": {
    "tags": []
   },
   "outputs": [],
   "source": [
    "# Invertemos o resultado desta matriz\n",
    "mmi = inverte_matriz(mm)[1]"
   ]
  },
  {
   "cell_type": "code",
   "execution_count": 20,
   "id": "1931b740-63fb-4cdb-b92c-8c08abaa783e",
   "metadata": {
    "tags": []
   },
   "outputs": [
    {
     "data": {
      "text/plain": [
       "array([[ 4.24975678, -3.16345995,  0.52509261],\n",
       "       [-3.16345995,  2.58340816, -0.45107827],\n",
       "       [ 0.52509261, -0.45107827,  0.08145449]])"
      ]
     },
     "execution_count": 20,
     "metadata": {},
     "output_type": "execute_result"
    }
   ],
   "source": [
    "mmi"
   ]
  },
  {
   "cell_type": "markdown",
   "id": "de8531b8-5ada-492e-9d7a-5f607485c597",
   "metadata": {},
   "source": [
    "Por fim, para obter o valor de $X$ utilizamos a equação apresentada no começo:\n",
    "\n",
    "$$X = (M^TM)^{-1}M^TY$$"
   ]
  },
  {
   "cell_type": "code",
   "execution_count": 21,
   "id": "23bce773-f16a-4f47-bc45-a50f4c049a04",
   "metadata": {
    "tags": []
   },
   "outputs": [],
   "source": [
    "mmit = matmul(mmi,matrizT)"
   ]
  },
  {
   "cell_type": "code",
   "execution_count": 22,
   "id": "335e478e-9892-42af-b233-cffdc6c7cd93",
   "metadata": {
    "tags": []
   },
   "outputs": [
    {
     "data": {
      "text/plain": [
       "array([[ 1.68320314e+00,  4.33480328e-01, -9.97206497e-02,\n",
       "        -4.59716956e-01, -5.14868782e-01, -4.97283633e-01,\n",
       "        -2.62473627e-01, -1.10809369e-01,  2.25821121e-01,\n",
       "         6.02368431e-01],\n",
       "       [-1.08830053e+00, -1.08915341e-01,  2.88127787e-01,\n",
       "         5.21577173e-01,  5.25413697e-01,  4.85824118e-01,\n",
       "         2.15656574e-01,  6.06991766e-02, -2.70130196e-01,\n",
       "        -6.29952461e-01],\n",
       "       [ 1.65272636e-01, -7.51248372e-04, -6.54332994e-02,\n",
       "        -9.88717161e-02, -9.45573531e-02, -8.45928734e-02,\n",
       "        -2.79345799e-02,  2.88430426e-03,  6.74140570e-02,\n",
       "         1.36570073e-01]])"
      ]
     },
     "execution_count": 22,
     "metadata": {},
     "output_type": "execute_result"
    }
   ],
   "source": [
    "mmit"
   ]
  },
  {
   "cell_type": "markdown",
   "id": "03502cea-553c-4041-8785-ad9d849b54fd",
   "metadata": {},
   "source": [
    "Porém, a multiplicação matricial por Y não pode ser realizada porque o numpy não vê a variável 'y' como uma matriz coluna, mas como uma lista. Precisamos colocar 'y' como uma matriz coluna."
   ]
  },
  {
   "cell_type": "code",
   "execution_count": 23,
   "id": "01b49511-ac16-4195-9d98-c09cb44e8d9d",
   "metadata": {
    "tags": []
   },
   "outputs": [],
   "source": [
    "y2 = np.array(y, ndmin=2).T"
   ]
  },
  {
   "cell_type": "code",
   "execution_count": 24,
   "id": "08222f58-f259-4732-a9e3-5fd55137dda0",
   "metadata": {
    "tags": []
   },
   "outputs": [
    {
     "data": {
      "text/plain": [
       "array([[ 5.],\n",
       "       [15.],\n",
       "       [25.],\n",
       "       [35.],\n",
       "       [45.],\n",
       "       [55.],\n",
       "       [65.],\n",
       "       [75.],\n",
       "       [85.],\n",
       "       [95.]])"
      ]
     },
     "execution_count": 24,
     "metadata": {},
     "output_type": "execute_result"
    }
   ],
   "source": [
    "y2"
   ]
  },
  {
   "cell_type": "code",
   "execution_count": 25,
   "id": "c8b01022-3059-42fc-8dd8-af5dafa2dee3",
   "metadata": {
    "tags": []
   },
   "outputs": [],
   "source": [
    "x = matmul(mmit, y2)"
   ]
  },
  {
   "cell_type": "code",
   "execution_count": 26,
   "id": "f10fe038-ccaa-43d0-8939-c96eb163c6ec",
   "metadata": {
    "tags": []
   },
   "outputs": [
    {
     "data": {
      "text/plain": [
       "array([[-3.13627635],\n",
       "       [ 4.51067096],\n",
       "       [ 3.91598987]])"
      ]
     },
     "execution_count": 26,
     "metadata": {},
     "output_type": "execute_result"
    }
   ],
   "source": [
    "x"
   ]
  },
  {
   "cell_type": "code",
   "execution_count": 27,
   "id": "ffde261f-d9b5-4200-9a35-d9ddc76b831f",
   "metadata": {
    "tags": []
   },
   "outputs": [
    {
     "name": "stdout",
     "output_type": "stream",
     "text": [
      "[-3.13627635  4.51067096  3.91598987]\n"
     ]
    }
   ],
   "source": [
    "# Para retirar a matriz X de uma matriz coluna e colocar como lista.\n",
    "x = x.flatten()\n",
    "print(x)"
   ]
  },
  {
   "cell_type": "markdown",
   "id": "2a53883c-1c49-46f3-bc9a-5ce2d9ce24d0",
   "metadata": {},
   "source": [
    "Para finallizar, vamos vizualizar os dados e a curva de melhor ajuste."
   ]
  },
  {
   "cell_type": "code",
   "execution_count": 28,
   "id": "277d401d-14d1-4e40-a935-45e1d6828d46",
   "metadata": {
    "tags": []
   },
   "outputs": [],
   "source": [
    "# Geramos uma lista de tempos para utilizar no polinômio ajustado.\n",
    "t = np.linspace(0, 5, 100)\n",
    "ny = x[0] + x[1]*t + x[2]*(t**2)"
   ]
  },
  {
   "cell_type": "code",
   "execution_count": 29,
   "id": "abe5700a-7bcc-4c03-8f73-7817d5b4a748",
   "metadata": {
    "tags": []
   },
   "outputs": [
    {
     "data": {
      "text/plain": [
       "[<matplotlib.lines.Line2D at 0x7f85080d21a0>]"
      ]
     },
     "execution_count": 29,
     "metadata": {},
     "output_type": "execute_result"
    },
    {
     "data": {
      "image/png": "[encoded data removed]",
      "text/plain": [
       "<Figure size 640x480 with 1 Axes>"
      ]
     },
     "metadata": {},
     "output_type": "display_data"
    }
   ],
   "source": [
    "plt.errorbar(t_mean, y, xerr=t_std, fmt='o') # dados com barra de erro\n",
    "plt.plot(t, ny) # curva de melhor ajuste"
   ]
  },
  {
   "cell_type": "code",
   "execution_count": 30,
   "id": "b2fbbb87-9aea-4c02-a490-b7c465fc1c42",
   "metadata": {
    "tags": []
   },
   "outputs": [
    {
     "name": "stdout",
     "output_type": "stream",
     "text": [
      "x0 = -3.136276351146279 m\n",
      "v0 = 4.510670964525623 m/s\n",
      "a = 7.831979735293199 m/s^2\n"
     ]
    }
   ],
   "source": [
    "# Resultado do ajuste '\\n' é comando para quebra de linha.\n",
    "print('x0 = {} m\\nv0 = {} m/s\\na = {} m/s^2'.format(x[0], x[1], x[2]*2))"
   ]
  },
  {
   "cell_type": "code",
   "execution_count": null,
   "id": "c1d757c9-4c95-41ae-b619-0f9ef6811232",
   "metadata": {},
   "outputs": [],
   "source": []
  }
 ],
 "metadata": {
  "kernelspec": {
   "display_name": "Python 3 (ipykernel)",
   "language": "python",
   "name": "python3"
  },
  "language_info": {
   "codemirror_mode": {
    "name": "ipython",
    "version": 3
   },
   "file_extension": ".py",
   "mimetype": "text/x-python",
   "name": "python",
   "nbconvert_exporter": "python",
   "pygments_lexer": "ipython3",
   "version": "3.10.10"
  }
 },
 "nbformat": 4,
 "nbformat_minor": 5
}
