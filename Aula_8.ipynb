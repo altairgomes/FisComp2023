{
 "cells": [
  {
   "cell_type": "markdown",
   "id": "323e3575-62c3-4da6-be71-156236d44e60",
   "metadata": {},
   "source": [
    "# Aula 8\n",
    "\n",
    "Nesta aula aprenderemos sobre métodos mágicos e manuseio de erros em python"
   ]
  },
  {
   "cell_type": "markdown",
   "id": "7aa9c8ba-575a-4cec-ab2c-1161869fcddf",
   "metadata": {
    "tags": []
   },
   "source": [
    "## Métodos Mágicos\n",
    "\n",
    "Métodos mágicos são métodos especiais que começam e terminam com 2 underscores. Esses métodos não tem a intenção de serem usados diretamente pelo usuário, mas são chamados automaticamente em ocasiões especiais. Normalmente, eles determinam o funcionamento do objeto.\n",
    "\n",
    "Nós já vimos dois métodos mágicos:\n",
    "- **\\_\\_init\\_\\_()** Define o comportamento da classe ao instanciar um objeto.\n",
    "- **\\_\\_str\\_\\_()** Define o comportamento do objeto ao ser convertido para uma string.\n",
    "\n",
    "A descrição de muito métodos mágicos podem ser encontrados no link abaixo.\n",
    "\n",
    "https://www.tutorialsteacher.com/python/magic-methods-in-python"
   ]
  },
  {
   "cell_type": "markdown",
   "id": "6eb17fc8-50fc-451f-b540-17267a4f3c09",
   "metadata": {},
   "source": [
    "Para entender melhor esses métodos, vamos criar uma classe chamada **Vetor**, que represente o mesmo princípio físico de um vetor aprendido em Física 1."
   ]
  },
  {
   "cell_type": "code",
   "execution_count": 1,
   "id": "cefef606-f851-4ff9-9d5c-b23a682346e2",
   "metadata": {
    "tags": []
   },
   "outputs": [],
   "source": [
    "import numpy as np"
   ]
  },
  {
   "cell_type": "code",
   "execution_count": 2,
   "id": "de2a805a-dc0c-4479-bd42-6ae399651f2e",
   "metadata": {
    "tags": []
   },
   "outputs": [],
   "source": [
    "class Vetor:\n",
    "    \"\"\" Classe que define o comportamento de um vetor\n",
    "    \n",
    "    Parameters\n",
    "    ----------\n",
    "    x, y, z : float, float, float\n",
    "        Coordenadas x, y e z do vetor.\n",
    "    \"\"\"\n",
    "    \n",
    "    def __init__(self, x=0, y=0, z=0):\n",
    "        \"\"\" Esse método é executado quando o objeto é criado\n",
    "        \"\"\"\n",
    "        self.x = x\n",
    "        self.y = y\n",
    "        self.z = z\n",
    "        \n",
    "    def __str__(self):\n",
    "        \"\"\" Esse método é executado quando o objeto é transformado para string\n",
    "        \"\"\"\n",
    "        string = '({}, {}, {})'.format(self.x, self.y, self.z)\n",
    "        return string\n",
    "    \n",
    "    def __repr__(self):\n",
    "        \"\"\" Esse método é executado para ter uma representação em string do objeto.\n",
    "        Normalmente, neste método é colocado mais detalhes.\n",
    "        \"\"\"\n",
    "        return self.__str__()\n",
    "    \n",
    "    def __add__(self, other):\n",
    "        \"\"\" Esse método é chamado em uma operação aritmética de soma\n",
    "        self + other\n",
    "        \"\"\"\n",
    "        if type(other) != Vetor:\n",
    "            raise TypeError('Vetor só pode ser somado a vetor')\n",
    "        x = self.x + other.x\n",
    "        y = self.y + other.y\n",
    "        z = self.z + other.z\n",
    "        return Vetor(x=x, y=y, z=z)\n",
    "    \n",
    "    def __sub__(self, other):\n",
    "        \"\"\" Esse método é chamado em uma operação aritmética de subtração\n",
    "        self - other\n",
    "        \"\"\"\n",
    "        if type(other) != Vetor:\n",
    "            raise TypeError('Vetor só pode ser subtraído a outro vetor')\n",
    "        x = self.x - other.x\n",
    "        y = self.y - other.y\n",
    "        z = self.z - other.z\n",
    "        return Vetor(x=x, y=y, z=z)\n",
    "    \n",
    "    def __mul__(self, other):\n",
    "        \"\"\" Esse método é chamado em uma operação aritmética de multiplicação\n",
    "        self * other\n",
    "        \"\"\"\n",
    "        x = self.x*other\n",
    "        y = self.y*other\n",
    "        z = self.z*other\n",
    "        return Vetor(x=x, y=y, z=z)\n",
    "    \n",
    "    def __truediv__(self, other):\n",
    "        \"\"\" Esse método é chamado em uma operação aritmética de divisão\n",
    "        self / other\n",
    "        \"\"\"\n",
    "        x = self.x/other\n",
    "        y = self.y/other\n",
    "        z = self.z/other\n",
    "        return Vetor(x=x, y=y, z=z)\n",
    "    \n",
    "    def __neg__(self):\n",
    "        \"\"\" Esse método é chamado em uma operação aritmética de inversão de sinal\n",
    "        - self\n",
    "        \"\"\"\n",
    "        return Vetor(x=-self.x, y=-self.y, z=-self.z)\n",
    "    \n",
    "    def dot(self, vetor):\n",
    "        \"\"\" Realiza multiplicação escalar de um vetor por outro\n",
    "        \n",
    "        Parameters\n",
    "        ----------\n",
    "        vetor : Vetor\n",
    "            Vetor a ser multiplicado escalarmente\n",
    "            \n",
    "        Returns\n",
    "        -------\n",
    "        : float\n",
    "            Resultado da multiplicação escalar\n",
    "        \"\"\"\n",
    "        if type(vetor) != Vetor:\n",
    "            raise TypeError('Vetor só pode ser pode ser multiplicado escalarmente por outro vetor')\n",
    "        resultado = self.x*vetor.x + self.y*vetor.y + self.z*vetor.z\n",
    "        return resultado\n",
    "    \n",
    "    def cross(self, vetor):\n",
    "        \"\"\" Realiza multiplicação vetorial de um vetor por outro\n",
    "        \n",
    "        Parameters\n",
    "        ----------\n",
    "        vetor : Vetor\n",
    "            Vetor a ser multiplicado vetorialmente\n",
    "            \n",
    "        Returns\n",
    "        -------\n",
    "        : Vetor\n",
    "            Resultado da multiplicação vetorial\n",
    "        \"\"\"\n",
    "        if type(vetor) != Vetor:\n",
    "            raise TypeError('Vetor só pode ser pode ser multiplicado vetorialmente por outro vetor')\n",
    "        x = self.y*vetor.z - self.z*vetor.y\n",
    "        y = self.z*vetor.x - self.x*vetor.z\n",
    "        z = self.x*vetor.y - self.y*vetor.x\n",
    "        return Vetor(x=x, y=y, z=z)\n",
    "    \n",
    "    @property # significa que o método abaixo dele será transformado em atributo.\n",
    "    def size(self):\n",
    "        return np.sqrt(self.dot(self))"
   ]
  },
  {
   "cell_type": "code",
   "execution_count": 3,
   "id": "ef4b5284-6d53-422b-a4f3-2e3b1b16a5cb",
   "metadata": {
    "tags": []
   },
   "outputs": [],
   "source": [
    "# Defino dois vetores diferentes\n",
    "a = Vetor(1, 2, 3)\n",
    "b = Vetor(5, 3, 4)"
   ]
  },
  {
   "cell_type": "code",
   "execution_count": 4,
   "id": "6c908c92-8ec3-48e3-a2ab-28b2c3e652c5",
   "metadata": {
    "tags": []
   },
   "outputs": [
    {
     "name": "stdout",
     "output_type": "stream",
     "text": [
      "(1, 2, 3)\n",
      "(5, 3, 4)\n"
     ]
    }
   ],
   "source": [
    "print(a)\n",
    "print(b)"
   ]
  },
  {
   "cell_type": "code",
   "execution_count": 5,
   "id": "4b5fe564-aca7-48e6-a658-d376f1cee779",
   "metadata": {
    "tags": []
   },
   "outputs": [
    {
     "name": "stdout",
     "output_type": "stream",
     "text": [
      "(6, 5, 7)\n"
     ]
    }
   ],
   "source": [
    "# A operação de soma executa o método mágico __add__()\n",
    "print(a+b)"
   ]
  },
  {
   "cell_type": "code",
   "execution_count": 6,
   "id": "aec29fc9-5200-474b-90d1-d50d2f15f531",
   "metadata": {
    "tags": []
   },
   "outputs": [
    {
     "name": "stdout",
     "output_type": "stream",
     "text": [
      "(-4, -1, -1)\n"
     ]
    }
   ],
   "source": [
    "# A operação de subtração executa o método mágico __sub__()\n",
    "print(a-b)"
   ]
  },
  {
   "cell_type": "code",
   "execution_count": 7,
   "id": "9c593a39-83e0-4e68-b5f7-d0a2eb650e93",
   "metadata": {
    "tags": []
   },
   "outputs": [
    {
     "data": {
      "text/plain": [
       "(2.5, 5.0, 7.5)"
      ]
     },
     "execution_count": 7,
     "metadata": {},
     "output_type": "execute_result"
    }
   ],
   "source": [
    "# A operação de multiplicação executa o método mágico __mul__()\n",
    "# Nós criamos de forma a ser uma multiplicação por escalar\n",
    "a*2.5"
   ]
  },
  {
   "cell_type": "code",
   "execution_count": 8,
   "id": "be891569-8ee3-4c47-a0d8-320c6ccad2d7",
   "metadata": {
    "tags": []
   },
   "outputs": [
    {
     "data": {
      "text/plain": [
       "(0.5, 0.3, 0.4)"
      ]
     },
     "execution_count": 8,
     "metadata": {},
     "output_type": "execute_result"
    }
   ],
   "source": [
    "# A operação de divisão executa o método mágico __truediv__()\n",
    "# Nós criamos de forma a ser uma divisão por escalar\n",
    "b/10"
   ]
  },
  {
   "cell_type": "code",
   "execution_count": 9,
   "id": "3367024e-1caa-46fa-bad4-7d7620532521",
   "metadata": {
    "tags": []
   },
   "outputs": [
    {
     "data": {
      "text/plain": [
       "(-5, -3, -4)"
      ]
     },
     "execution_count": 9,
     "metadata": {},
     "output_type": "execute_result"
    }
   ],
   "source": [
    "# A operação de negação (inversão de sinal) executa o método mágico __neg__()\n",
    "-b"
   ]
  },
  {
   "cell_type": "code",
   "execution_count": 10,
   "id": "9e34b584-6478-4197-b0a2-aee397ce9121",
   "metadata": {
    "tags": []
   },
   "outputs": [
    {
     "data": {
      "text/plain": [
       "23"
      ]
     },
     "execution_count": 10,
     "metadata": {},
     "output_type": "execute_result"
    }
   ],
   "source": [
    "# Como não existem métodos mágicos para multiplicação escalar entre vetores,\n",
    "# criamos um método específico para isso.\n",
    "# Como não é um método padrão, precisamos documentá-lo\n",
    "a.dot(b)"
   ]
  },
  {
   "cell_type": "code",
   "execution_count": 11,
   "id": "9edd49ef-d8ca-4c4c-b900-9795ae2ef3e9",
   "metadata": {
    "tags": []
   },
   "outputs": [
    {
     "data": {
      "text/plain": [
       "(-1, 11, -7)"
      ]
     },
     "execution_count": 11,
     "metadata": {},
     "output_type": "execute_result"
    }
   ],
   "source": [
    "# Como não existem métodos mágicos para multiplicação vetorial entre vetores,\n",
    "# criamos um método específico para isso.\n",
    "# Como não é um método padrão, precisamos documentá-lo\n",
    "a.cross(b)"
   ]
  },
  {
   "cell_type": "code",
   "execution_count": 12,
   "id": "b6a020bb-c702-4a3b-bceb-95e9b9d699f9",
   "metadata": {
    "tags": []
   },
   "outputs": [
    {
     "data": {
      "text/plain": [
       "3.7416573867739413"
      ]
     },
     "execution_count": 12,
     "metadata": {},
     "output_type": "execute_result"
    }
   ],
   "source": [
    "# Este método foi colocado como \"property\". Logo, não precisamos adicionar os parênteses.\n",
    "a.size"
   ]
  },
  {
   "cell_type": "markdown",
   "id": "a3a02ae5-6fb3-424e-b2e4-45051a080f69",
   "metadata": {},
   "source": [
    "Exemplo físico da utilização do vetor"
   ]
  },
  {
   "cell_type": "code",
   "execution_count": 13,
   "id": "7b40aaf5-53b5-4e4f-9767-87bae03cbf68",
   "metadata": {
    "tags": []
   },
   "outputs": [],
   "source": [
    "x0 = Vetor(x=4, y=1, z=2.5) # vetor posição inicial, em metros\n",
    "v0 = Vetor(x=1, y=2, z=3) # vetor velocidade inicial, em metros por segundo\n",
    "a = Vetor(x=0, y=0, z=-9.8) # vetor aceleração"
   ]
  },
  {
   "cell_type": "code",
   "execution_count": 14,
   "id": "b578e3fd-d3b0-403c-95b6-c4dece3ce681",
   "metadata": {
    "tags": []
   },
   "outputs": [],
   "source": [
    "t = 10 # tempo em segundos"
   ]
  },
  {
   "cell_type": "code",
   "execution_count": 15,
   "id": "51003736-1cc8-4684-af6e-faae470d82fe",
   "metadata": {
    "tags": []
   },
   "outputs": [],
   "source": [
    "# posição final após\n",
    "x = x0 + v0*t + (a/2)*(t**2)"
   ]
  },
  {
   "cell_type": "code",
   "execution_count": 16,
   "id": "f654c9eb-e03d-43fa-ab00-88fd9adcdac4",
   "metadata": {
    "tags": []
   },
   "outputs": [
    {
     "name": "stdout",
     "output_type": "stream",
     "text": [
      "(14.0, 21.0, -457.50000000000006)\n"
     ]
    }
   ],
   "source": [
    "print(x)"
   ]
  },
  {
   "cell_type": "code",
   "execution_count": null,
   "id": "cf5cfe8b-1006-4c53-9f83-b51bc8024486",
   "metadata": {},
   "outputs": [],
   "source": []
  }
 ],
 "metadata": {
  "kernelspec": {
   "display_name": "Python 3 (ipykernel)",
   "language": "python",
   "name": "python3"
  },
  "language_info": {
   "codemirror_mode": {
    "name": "ipython",
    "version": 3
   },
   "file_extension": ".py",
   "mimetype": "text/x-python",
   "name": "python",
   "nbconvert_exporter": "python",
   "pygments_lexer": "ipython3",
   "version": "3.10.10"
  }
 },
 "nbformat": 4,
 "nbformat_minor": 5
}
