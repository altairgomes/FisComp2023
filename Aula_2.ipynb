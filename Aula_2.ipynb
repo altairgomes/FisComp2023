{
 "cells": [
  {
   "cell_type": "markdown",
   "id": "d8a7f88a-1838-40d6-8a3a-cccc4da07fd8",
   "metadata": {},
   "source": [
    "# Aula 2\n",
    "\n",
    "Hoje aprenderemos sobre Jupyter Notebook e Variáveis em Python\n",
    "\n",
    "### Primeiras Funções"
   ]
  },
  {
   "cell_type": "code",
   "execution_count": null,
   "id": "e882c5cb-3c62-4972-84ca-af784301bfd1",
   "metadata": {
    "tags": []
   },
   "outputs": [],
   "source": [
    "# A função print imprime um texto ou número na saída padrão\n",
    "print('Hello World')"
   ]
  },
  {
   "cell_type": "code",
   "execution_count": null,
   "id": "f786438c-e429-438e-85e9-f410ead774b0",
   "metadata": {
    "tags": []
   },
   "outputs": [],
   "source": [
    "user_name = input('Enter you name: ')\n",
    "print('Hello', user_name)"
   ]
  },
  {
   "cell_type": "markdown",
   "id": "8f949168-7dc9-4a9b-8bf9-ead5605d63da",
   "metadata": {},
   "source": [
    "### Variáveis\n",
    "\n",
    "Para definir uma variável, utiliza-se um nome para a variável, o sinal de \"=\" e o valor da variável."
   ]
  },
  {
   "cell_type": "code",
   "execution_count": null,
   "id": "3fe9819d-5373-401c-b102-595561ee079e",
   "metadata": {
    "tags": []
   },
   "outputs": [],
   "source": [
    "# definindo uma string\n",
    "variable = 'Gomes'\n",
    "print(variable)"
   ]
  },
  {
   "cell_type": "code",
   "execution_count": null,
   "id": "83e25685-56b9-4e8d-b724-a79b99ca83fe",
   "metadata": {
    "tags": []
   },
   "outputs": [],
   "source": [
    "# definindo um valor inteiro\n",
    "variable = 42\n",
    "print(variable)"
   ]
  },
  {
   "cell_type": "code",
   "execution_count": null,
   "id": "8542b5bc-0753-4c47-b92b-45ef95ecfc69",
   "metadata": {
    "tags": []
   },
   "outputs": [],
   "source": [
    "# definindo um ponto flutuante\n",
    "variable = 46.5\n",
    "print(variable)"
   ]
  },
  {
   "cell_type": "code",
   "execution_count": null,
   "id": "cd27e4f2-ac8c-4c62-bca0-59b7cfa48577",
   "metadata": {
    "tags": []
   },
   "outputs": [],
   "source": [
    "# definindo um valor Booleano\n",
    "variable = True\n",
    "print(variable)"
   ]
  },
  {
   "cell_type": "markdown",
   "id": "41fb42e5-d8ab-4bf9-a0aa-4deb664057c7",
   "metadata": {},
   "source": [
    "É possível definir duas ou mais variáveis simultaneamente separando os nomes e valores por vírgula"
   ]
  },
  {
   "cell_type": "code",
   "execution_count": null,
   "id": "874ab159-0fc3-4526-abfd-7c01692bcd88",
   "metadata": {
    "tags": []
   },
   "outputs": [],
   "source": [
    "a, b = 1, 2\n",
    "print(a)\n",
    "print(b)"
   ]
  },
  {
   "cell_type": "markdown",
   "id": "1eccb1a0-95e7-4344-ad38-c1d17ae5ad7b",
   "metadata": {},
   "source": [
    "É possível definir várias variáveis ao mesmo tempo com o mesmo valor da seguinte forma"
   ]
  },
  {
   "cell_type": "code",
   "execution_count": null,
   "id": "313a3744-9104-4323-bf0b-2d3e89a40fee",
   "metadata": {
    "tags": []
   },
   "outputs": [],
   "source": [
    "a = b = 500\n",
    "print(a)\n",
    "print(b)"
   ]
  },
  {
   "cell_type": "markdown",
   "id": "deb12ce7-fc2a-4fc2-ae0f-84dfe9ce78a6",
   "metadata": {},
   "source": [
    "**As variáveis em python são dinâmicas. Ou seja, diferentes tipos de variáveis podem ser associadas ao mesmo label (nome)**"
   ]
  },
  {
   "cell_type": "code",
   "execution_count": null,
   "id": "0713031b-e961-4bde-95d1-8cccd883b03f",
   "metadata": {
    "tags": []
   },
   "outputs": [],
   "source": [
    "# para saber o tipo de uma variável, basta chamar a função type()\n",
    "variable = 46.5\n",
    "type(variable)"
   ]
  },
  {
   "cell_type": "markdown",
   "id": "ad8431a2-de60-4335-9dda-a485d7b524e4",
   "metadata": {},
   "source": [
    "### Nomenclatura de variáveis (PEP8)\n",
    "\n",
    "https://peps.python.org/pep-0008/\n",
    "\n",
    "Utilizar sempra para variáveis carcteres em caixa baixa. O caractere undrscore pode ser utilizado para separar nomes."
   ]
  },
  {
   "cell_type": "code",
   "execution_count": null,
   "id": "fd2dc37c-2c52-4de9-a834-01fa5c0db06f",
   "metadata": {
    "tags": []
   },
   "outputs": [],
   "source": [
    "variable = 10\n",
    "my_variable = 10"
   ]
  },
  {
   "cell_type": "markdown",
   "id": "4dc8c2f4-bb89-499f-aab5-1cf21995fcc1",
   "metadata": {},
   "source": [
    "## Strings\n",
    "\n",
    "Para definir uma string, podemos colocar qualquer conjunto de caracteres entre aspas simples ou aspas duplas"
   ]
  },
  {
   "cell_type": "code",
   "execution_count": null,
   "id": "f33acf73-d988-44fc-b626-382fdacca089",
   "metadata": {
    "tags": []
   },
   "outputs": [],
   "source": [
    "var1 = 'Texto'\n",
    "var2 = \"2\"\n",
    "print(var1)\n",
    "print(var2)"
   ]
  },
  {
   "cell_type": "code",
   "execution_count": null,
   "id": "33698839-8918-4bf4-a170-202b2274f227",
   "metadata": {
    "tags": []
   },
   "outputs": [],
   "source": [
    "type(var2)"
   ]
  },
  {
   "cell_type": "code",
   "execution_count": null,
   "id": "796c5306-826c-4ed4-920e-b32f8fbb6c7c",
   "metadata": {
    "tags": []
   },
   "outputs": [],
   "source": [
    "print(type(var2))"
   ]
  },
  {
   "cell_type": "code",
   "execution_count": null,
   "id": "c1419165-4fdb-4633-aece-03014fa9d736",
   "metadata": {
    "tags": []
   },
   "outputs": [],
   "source": [
    "var3 = \"Citação 'fala'\"\n",
    "print(var3)\n",
    "var4 = 'Citação \"fala\"'\n",
    "print(var4)"
   ]
  },
  {
   "cell_type": "code",
   "execution_count": null,
   "id": "f6af3194-1c03-4bb7-84ba-fed68888babc",
   "metadata": {
    "tags": []
   },
   "outputs": [],
   "source": [
    "var3"
   ]
  },
  {
   "cell_type": "markdown",
   "id": "4b771e6d-19c9-45f2-9570-888ce87eb2fa",
   "metadata": {},
   "source": [
    "### Concatenação de strings"
   ]
  },
  {
   "cell_type": "code",
   "execution_count": null,
   "id": "dbc65848-e4d4-463a-91e7-4aca56d06ea4",
   "metadata": {
    "tags": []
   },
   "outputs": [],
   "source": [
    "var5 = var3 + var4\n",
    "print(var5)"
   ]
  },
  {
   "cell_type": "code",
   "execution_count": null,
   "id": "ebaa0ed7-2dae-4f96-8387-f7c1110fef40",
   "metadata": {
    "tags": []
   },
   "outputs": [],
   "source": [
    "var5 - var4"
   ]
  },
  {
   "cell_type": "code",
   "execution_count": null,
   "id": "357d8726-9112-426a-be81-96677c943fee",
   "metadata": {
    "tags": []
   },
   "outputs": [],
   "source": [
    "### Tamanho de uma string\n",
    "len(var5)"
   ]
  },
  {
   "cell_type": "code",
   "execution_count": null,
   "id": "cb1845fd-ba36-4473-bf76-bb11d9e402a1",
   "metadata": {
    "tags": []
   },
   "outputs": [],
   "source": [
    "# Para acessar um caracter espcífico, devemos fornecer o índice correspondente, lembrando que em python o primeiro índice é o zero.\n",
    "var5[4]"
   ]
  },
  {
   "cell_type": "code",
   "execution_count": null,
   "id": "d35a61de-b304-44f0-bf48-35762b51607a",
   "metadata": {
    "tags": []
   },
   "outputs": [],
   "source": [
    "# Para acessar uma sequencia de caracteres, devemos fazer da seguinte forma:\n",
    "var5[4:10]"
   ]
  },
  {
   "cell_type": "code",
   "execution_count": null,
   "id": "78c99f20-ed8e-46d6-8c76-059de11eb620",
   "metadata": {
    "tags": []
   },
   "outputs": [],
   "source": [
    "# Para repetir strings basta multiplicar por um número\n",
    "var6 = 'Hi'\n",
    "print(var6*10)"
   ]
  },
  {
   "cell_type": "markdown",
   "id": "074727c1-c1c2-4b11-bf73-2fed24614ce1",
   "metadata": {},
   "source": [
    "### Substituindo strings"
   ]
  },
  {
   "cell_type": "code",
   "execution_count": null,
   "id": "f969f200-8b24-40ad-8cfb-467eefa52d32",
   "metadata": {
    "tags": []
   },
   "outputs": [],
   "source": [
    "# Para substituir caracteres utilizamos o método replace\n",
    "print(var5.replace('fala', 'texto'))"
   ]
  },
  {
   "cell_type": "markdown",
   "id": "7adc948c-1750-45f2-823c-483858daceaf",
   "metadata": {
    "tags": []
   },
   "source": [
    "## Números\n"
   ]
  },
  {
   "cell_type": "code",
   "execution_count": null,
   "id": "006dc896-6807-4150-8816-574388e79464",
   "metadata": {
    "tags": []
   },
   "outputs": [],
   "source": [
    "# Inteiros\n",
    "x = 1\n",
    "type(x)"
   ]
  },
  {
   "cell_type": "markdown",
   "id": "8b39a58b-42bd-41c4-8b33-8f2352bfecb2",
   "metadata": {},
   "source": [
    "Python gerencia a memória de números inteiros automaticamente."
   ]
  },
  {
   "cell_type": "code",
   "execution_count": null,
   "id": "79dc0dd0-ae74-40d6-b048-bd38bfc76857",
   "metadata": {
    "tags": []
   },
   "outputs": [],
   "source": [
    "x = 10_000_000_000_000_000_000_000\n",
    "type(x)"
   ]
  },
  {
   "cell_type": "code",
   "execution_count": null,
   "id": "6d2808be-5699-4069-a57e-0b7d598de76a",
   "metadata": {
    "tags": []
   },
   "outputs": [],
   "source": [
    "# Números reais ou pontos flutuantes\n",
    "x = 1.0\n",
    "type(x)"
   ]
  },
  {
   "cell_type": "code",
   "execution_count": null,
   "id": "0abf1f28-6c85-4fe0-8710-f8e81e02b2a3",
   "metadata": {
    "tags": []
   },
   "outputs": [],
   "source": [
    "# Números complexos\n",
    "y = 1+3j\n",
    "print(y)\n",
    "print(type(y))"
   ]
  },
  {
   "cell_type": "code",
   "execution_count": null,
   "id": "944e4999-d38b-4ae2-810f-4c9b41637c2f",
   "metadata": {
    "tags": []
   },
   "outputs": [],
   "source": [
    "print(y.real)\n",
    "print(y.imag)"
   ]
  },
  {
   "cell_type": "code",
   "execution_count": null,
   "id": "092b982c-f181-4878-9076-20e948ddf671",
   "metadata": {
    "tags": []
   },
   "outputs": [],
   "source": [
    "# Valores Booleanos\n",
    "a = True\n",
    "b = False\n",
    "print(type(a))\n",
    "print(type(b))"
   ]
  },
  {
   "cell_type": "code",
   "execution_count": null,
   "id": "96a6d6a0-3dbd-4703-a7b1-58b983ba0763",
   "metadata": {
    "tags": []
   },
   "outputs": [],
   "source": [
    "# Typo None, usado para representar algo vazio.\n",
    "a = None\n",
    "type(a)"
   ]
  },
  {
   "cell_type": "markdown",
   "id": "1949c609-da8f-4447-8edf-4ace624a8cb0",
   "metadata": {},
   "source": [
    "## Operadores aritméticos"
   ]
  },
  {
   "cell_type": "code",
   "execution_count": null,
   "id": "d3dc1d3f-dcb9-4e16-864e-47869cb05978",
   "metadata": {
    "tags": []
   },
   "outputs": [],
   "source": [
    "a = 3\n",
    "b = 5\n",
    "print('soma', a+b)\n",
    "print('subtração', b-a)\n",
    "print('multiplicação', b*a)\n",
    "print('divisão', b/a)\n",
    "print('divisão inteira', b//a)\n",
    "print('resto de divisão', b%a)\n",
    "print('expoente', b**a)"
   ]
  },
  {
   "cell_type": "code",
   "execution_count": null,
   "id": "33e48773-50e7-4a66-8f28-5e88462487ab",
   "metadata": {
    "tags": []
   },
   "outputs": [],
   "source": [
    "print(3*0.1)"
   ]
  },
  {
   "cell_type": "code",
   "execution_count": null,
   "id": "8353ff6b-998e-45a9-a606-9798980f5cfb",
   "metadata": {
    "tags": []
   },
   "outputs": [],
   "source": [
    "a = (1/3)**10\n",
    "b = 3**10\n",
    "print(a*b)"
   ]
  },
  {
   "cell_type": "markdown",
   "id": "13c473a8-ccf8-45e6-b9db-d73b3c866c86",
   "metadata": {},
   "source": [
    "## Tuplas, Listas e Dicionários"
   ]
  },
  {
   "cell_type": "code",
   "execution_count": null,
   "id": "64e6b57e-9d57-48ee-a67b-95c2e1029cb9",
   "metadata": {
    "tags": []
   },
   "outputs": [],
   "source": [
    "# Tuplas são sequências de valores ordenados e imutáveis. Permite repetição\n",
    "a = (1, 2, 'carro', 1+3j)\n",
    "type(a)"
   ]
  },
  {
   "cell_type": "code",
   "execution_count": null,
   "id": "d2f69d28-1a91-4421-8af0-8a44436da65e",
   "metadata": {
    "tags": []
   },
   "outputs": [],
   "source": [
    "a[0]"
   ]
  },
  {
   "cell_type": "code",
   "execution_count": null,
   "id": "b9c36041-3b60-4932-8e96-4f83491d71ff",
   "metadata": {
    "tags": []
   },
   "outputs": [],
   "source": [
    "a[2]"
   ]
  },
  {
   "cell_type": "code",
   "execution_count": null,
   "id": "450002b8-2408-4c60-8d90-c74a3b839ca3",
   "metadata": {
    "tags": []
   },
   "outputs": [],
   "source": [
    "a[3]"
   ]
  },
  {
   "cell_type": "code",
   "execution_count": null,
   "id": "117e3cb6-f0c5-4dba-8379-cf3db8b71207",
   "metadata": {
    "tags": []
   },
   "outputs": [],
   "source": [
    "a[1] = 4"
   ]
  },
  {
   "cell_type": "code",
   "execution_count": null,
   "id": "120d2b37-f91c-4980-b211-445dab94b760",
   "metadata": {
    "tags": []
   },
   "outputs": [],
   "source": [
    "# Listas são sequências de valores ordenados e mutáveis. Permite repetição\n",
    "b = [1, 2, 'carro', 1+3j]\n",
    "type(b)"
   ]
  },
  {
   "cell_type": "code",
   "execution_count": null,
   "id": "d02b23a6-06c8-4861-9152-31a30e709ce3",
   "metadata": {
    "tags": []
   },
   "outputs": [],
   "source": [
    "b[2]"
   ]
  },
  {
   "cell_type": "code",
   "execution_count": null,
   "id": "30eceb75-e05f-4780-93b8-d8afd6cb57e3",
   "metadata": {
    "tags": []
   },
   "outputs": [],
   "source": [
    "b[1] = 4\n",
    "print(b)"
   ]
  },
  {
   "cell_type": "code",
   "execution_count": null,
   "id": "8e153148-77e8-46e5-aacc-fa5ade07fd6f",
   "metadata": {
    "tags": []
   },
   "outputs": [],
   "source": [
    "# É possível concatenar duas listas\n",
    "b+b"
   ]
  },
  {
   "cell_type": "code",
   "execution_count": null,
   "id": "bbbcf6dc-e2b5-49b4-8e42-a71b2f29e63b",
   "metadata": {
    "tags": []
   },
   "outputs": [],
   "source": [
    "# Sets são coleções de valores não ordenados e não indexados. Não permite repetição e é mutável.\n",
    "c = {1, 2, 5, 1, 'carro'}\n",
    "print(c)\n",
    "type(c)"
   ]
  },
  {
   "cell_type": "code",
   "execution_count": null,
   "id": "5e327b80-4940-4d8b-9103-3b3213a743ae",
   "metadata": {
    "tags": []
   },
   "outputs": [],
   "source": [
    "# Dicionários são coleções de valores não ordenados e indexados por uma chave. Não permite chaves repetidas, e são mutáveis.\n",
    "a = {\"nome\": \"Altair\", \"idade\": 32, \"gatos\": 3}\n",
    "type(a)"
   ]
  },
  {
   "cell_type": "code",
   "execution_count": null,
   "id": "03e56f70-3016-4548-b4c5-e5cbde877cf3",
   "metadata": {
    "tags": []
   },
   "outputs": [],
   "source": [
    "print(a)"
   ]
  },
  {
   "cell_type": "code",
   "execution_count": null,
   "id": "0830ac63-0e21-4d3a-89fe-02d317409f1e",
   "metadata": {
    "tags": []
   },
   "outputs": [],
   "source": [
    "a['gatos'] = 4\n",
    "print(a)"
   ]
  },
  {
   "cell_type": "markdown",
   "id": "6c84dfed-cc59-4881-8468-ce1ff8e0dc7c",
   "metadata": {},
   "source": [
    "## A identificação de uma variável"
   ]
  },
  {
   "cell_type": "code",
   "execution_count": null,
   "id": "c14f660b-f86c-485e-b32a-cd8b895f38e4",
   "metadata": {
    "tags": []
   },
   "outputs": [],
   "source": [
    "# Função que mostra a identificação única de um objeto\n",
    "id(user_name)"
   ]
  },
  {
   "cell_type": "code",
   "execution_count": null,
   "id": "bf38b6db-8ef1-425e-8fce-e84f75f45fa6",
   "metadata": {
    "tags": []
   },
   "outputs": [],
   "source": [
    "user_name = 'text'"
   ]
  },
  {
   "cell_type": "code",
   "execution_count": null,
   "id": "594d6874-0bef-47a0-96df-978404d31c46",
   "metadata": {
    "tags": []
   },
   "outputs": [],
   "source": [
    "id(user_name)"
   ]
  },
  {
   "cell_type": "code",
   "execution_count": null,
   "id": "06a6a5ed-c981-4ce0-a879-9f7dd9d1bfa2",
   "metadata": {
    "tags": []
   },
   "outputs": [],
   "source": [
    "a = 5\n",
    "b = 5\n",
    "print(id(a), id(b))"
   ]
  },
  {
   "cell_type": "code",
   "execution_count": null,
   "id": "0018521c-cae8-4577-b50d-096ec794d89c",
   "metadata": {
    "tags": []
   },
   "outputs": [],
   "source": [
    "a = 500\n",
    "b = 500\n",
    "print(id(a), id(b))"
   ]
  },
  {
   "cell_type": "code",
   "execution_count": null,
   "id": "1867c66e-7775-4bf1-b7d5-275e7242c4a9",
   "metadata": {
    "tags": []
   },
   "outputs": [],
   "source": [
    "a = b = 500\n",
    "print(id(a), id(b))"
   ]
  },
  {
   "cell_type": "code",
   "execution_count": null,
   "id": "8a0f2b2c-b613-4d86-87e7-edfcd20d0fe8",
   "metadata": {},
   "outputs": [],
   "source": [
    "a = b = [1, 2]"
   ]
  },
  {
   "cell_type": "code",
   "execution_count": null,
   "id": "16c440b0-1935-41f4-aca3-f5704d449b0f",
   "metadata": {
    "tags": []
   },
   "outputs": [],
   "source": [
    "b[0] = 4\n",
    "print(b)"
   ]
  },
  {
   "cell_type": "code",
   "execution_count": null,
   "id": "bde6e700-b6f9-4f3e-8525-0ad312e456f0",
   "metadata": {
    "tags": []
   },
   "outputs": [],
   "source": [
    "print(a)"
   ]
  },
  {
   "cell_type": "code",
   "execution_count": null,
   "id": "3dd032b2-2f5f-4168-bafb-c882278abe47",
   "metadata": {},
   "outputs": [],
   "source": []
  }
 ],
 "metadata": {
  "kernelspec": {
   "display_name": "Python 3 (ipykernel)",
   "language": "python",
   "name": "python3"
  },
  "language_info": {
   "codemirror_mode": {
    "name": "ipython",
    "version": 3
   },
   "file_extension": ".py",
   "mimetype": "text/x-python",
   "name": "python",
   "nbconvert_exporter": "python",
   "pygments_lexer": "ipython3",
   "version": "3.10.10"
  }
 },
 "nbformat": 4,
 "nbformat_minor": 5
}
