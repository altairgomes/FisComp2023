{
 "cells": [
  {
   "cell_type": "markdown",
   "id": "611fd14d-c6d4-4480-8302-20948e3387c7",
   "metadata": {},
   "source": [
    "# Aula 7\n",
    "\n",
    "Nesta aula continuaremos a ver sobre Programação Orientada a Objetos"
   ]
  },
  {
   "cell_type": "markdown",
   "id": "9731d0ad-5aec-47b2-9acd-b428e2431873",
   "metadata": {},
   "source": [
    "## Atributos de Classes e Atributos de objetos (ou instâncias)\n",
    "\n",
    "Na aula passada vimos que se quisermos definir um atributo para um objeto, devemos definir este atributo dentro da função \"\\_\\_init\\_\\_()\" passando para o \"self\".\n",
    "\n",
    "Este \"self\" é como se fosse um placeholder para o objeto que será definido utilizando esta classe. Portanto, esses atributos pertencem ao objeto, e não à classe. Por isso, é possível definir diferentes objetos a partir da mesma classe, onde cada dado será independente.\n",
    "\n",
    "```python\n",
    "class Person:\n",
    "    def __init__(self, nome):\n",
    "        self.nome = nome\n",
    "```\n",
    "\n",
    "Porém, é possível definir um atributo para a classe. Quando isso é feito, esse atributo pode ser acessado pelo objeto, mas como pertence à classe, ele será compartilhado por todos os objetos que foram criados a partir desta classe. Por exemplo:"
   ]
  },
  {
   "cell_type": "code",
   "execution_count": null,
   "id": "a54760c6-95e4-4192-b569-a94aceff79b8",
   "metadata": {
    "tags": []
   },
   "outputs": [],
   "source": [
    "class Person:\n",
    "    \n",
    "    number_of_persons = 0\n",
    "    \n",
    "    def __init__(self, nome):\n",
    "        self.nome = nome\n",
    "        Person.number_of_persons = Person.number_of_persons + 1"
   ]
  },
  {
   "cell_type": "code",
   "execution_count": null,
   "id": "aceec376-e13c-449d-a6cc-e88618141fee",
   "metadata": {
    "tags": []
   },
   "outputs": [],
   "source": [
    "altair = Person(nome='Altair')"
   ]
  },
  {
   "cell_type": "code",
   "execution_count": null,
   "id": "5f2118d5-de85-43aa-a835-13f55149c445",
   "metadata": {
    "tags": []
   },
   "outputs": [],
   "source": [
    "altair.number_of_persons"
   ]
  },
  {
   "cell_type": "code",
   "execution_count": null,
   "id": "baf5bea6-8006-4b34-bf65-0e747e88f873",
   "metadata": {
    "tags": []
   },
   "outputs": [],
   "source": [
    "carla = Person(nome='Carla')"
   ]
  },
  {
   "cell_type": "code",
   "execution_count": null,
   "id": "67c86dd6-aac5-46e3-a4de-841c00d2f875",
   "metadata": {
    "tags": []
   },
   "outputs": [],
   "source": [
    "carla.number_of_persons"
   ]
  },
  {
   "cell_type": "code",
   "execution_count": null,
   "id": "06539d11-e829-48d7-900e-2fe880683d26",
   "metadata": {
    "tags": []
   },
   "outputs": [],
   "source": [
    "altair.number_of_persons"
   ]
  },
  {
   "cell_type": "code",
   "execution_count": null,
   "id": "a697e177-30dd-4bac-b160-7a8a39f2a78d",
   "metadata": {
    "tags": []
   },
   "outputs": [],
   "source": [
    "class Person:\n",
    "    \n",
    "    number_of_persons = 0\n",
    "    \n",
    "    def __init__(self, nome):\n",
    "        if Person.number_of_persons == 2:\n",
    "            raise ValueError('Número máximo de pessoas atingido (max=2)')\n",
    "        self.nome = nome\n",
    "        Person.number_of_persons = Person.number_of_persons + 1"
   ]
  },
  {
   "cell_type": "code",
   "execution_count": null,
   "id": "160b8ab9-8f9d-44e9-8a54-67f995653c14",
   "metadata": {
    "tags": []
   },
   "outputs": [],
   "source": [
    "altair = Person(nome='Altair')"
   ]
  },
  {
   "cell_type": "code",
   "execution_count": null,
   "id": "fca1d8cf-e0a1-451b-9b11-32865e1e6815",
   "metadata": {
    "tags": []
   },
   "outputs": [],
   "source": [
    "carla = Person(nome='Carla')"
   ]
  },
  {
   "cell_type": "code",
   "execution_count": null,
   "id": "50302b2b-dd4c-44fe-ad9e-95379bdbac25",
   "metadata": {
    "tags": []
   },
   "outputs": [],
   "source": [
    "brad = Person(nome='Brad Pitt')"
   ]
  },
  {
   "cell_type": "markdown",
   "id": "d1aa4840-7ce0-4b30-a096-3a26c95dd12a",
   "metadata": {},
   "source": [
    "## Herança\n",
    "\n",
    "Em alguns casos, precisamos criar classes muito semelhantes entre si, mas com algumas diferenças, de forma que não podem ser a mesma classe. Neste caso, pode ser interessante reaproveitar as semelhanças e focar apenas nos fatores diferentes. Pra isso existe a herança de uma classe. Vamos partir da classe pessoa criada na aula anterior"
   ]
  },
  {
   "cell_type": "code",
   "execution_count": null,
   "id": "24f361c7-dd9e-4d10-821d-f228d9ff95a0",
   "metadata": {
    "tags": []
   },
   "outputs": [],
   "source": [
    "class Person:\n",
    "    def __init__(self, nome, idade):\n",
    "        self.nome = nome\n",
    "        self.idade = idade\n",
    "        \n",
    "    def __str__(self):\n",
    "        string = self.nome + ' tem ' + str(self.idade) + ' anos'\n",
    "        return string\n",
    "    \n",
    "    def aniversario(self):\n",
    "        print('Parabéns')\n",
    "        self.idade = self.idade + 1"
   ]
  },
  {
   "cell_type": "markdown",
   "id": "02825c01-6e92-4525-85d6-966b06f7c876",
   "metadata": {},
   "source": [
    "A classe \"Person\" possui informações básicas que estão relacionadas a uma pessoa: nome e idade. Agora, vamos supor que queremos criar uma classe que represente Alunos. Os alunos possuem um atributo chamado \"matrícula\" que nem toda pessoa possui e, portanto, deve ser uma classe separada, mas possui nome e idade. Poderíamos simplesmente fazer uma cópia da classe \"Person\" e modificar o que for preciso, mas isso adiciona muitas linhas de código. Se a classe \"Person\" for alterada, precisaríamos alterar o do aluno também.\n",
    "\n",
    "Logo, para reaproveitar o que já foi criado em \"Person\", criamos a classe \"Aluno\" que herda os parâmetros já definidos em \"Person\".\n",
    "\n",
    "Para herdar de outra classe, é preciso seguir a estrutura abaixo:\n",
    "\n",
    "```python\n",
    "class ClasseFilho(ClassePai):\n",
    "    \"\"\" Colocar aqui o corpo da classe filho, se necessário\"\n",
    "```"
   ]
  },
  {
   "cell_type": "code",
   "execution_count": null,
   "id": "2f3a3d3a-4c7d-4a84-ab67-8b98da56bfcd",
   "metadata": {
    "tags": []
   },
   "outputs": [],
   "source": [
    "class Aluno(Person):\n",
    "    pass # pass é um comando de placeholder. Ele não faz absolutamente nada, mas quando se é criado uma classe, é preciso passar alguma coisa pra ela."
   ]
  },
  {
   "cell_type": "code",
   "execution_count": null,
   "id": "aa300e32-dc24-4887-b1a6-a734f8068001",
   "metadata": {
    "tags": []
   },
   "outputs": [],
   "source": [
    "brad_pitt = Aluno(nome='Brad Pitt', idade=50)"
   ]
  },
  {
   "cell_type": "code",
   "execution_count": null,
   "id": "ad1b6a01-bc15-4ea0-aa80-ce235a33144d",
   "metadata": {
    "tags": []
   },
   "outputs": [],
   "source": [
    "brad_pitt.nome"
   ]
  },
  {
   "cell_type": "code",
   "execution_count": null,
   "id": "8ceabec9-8237-490f-b005-1eb8404acb95",
   "metadata": {
    "tags": []
   },
   "outputs": [],
   "source": [
    "brad_pitt.aniversario()"
   ]
  },
  {
   "cell_type": "markdown",
   "id": "3598f1f2-fd1b-4855-ad88-8af9f723a9a3",
   "metadata": {},
   "source": [
    "Qualquer outro método criado que tenha um nome diferente dos existentes será adicionado. Ele não existirá na classe pai."
   ]
  },
  {
   "cell_type": "code",
   "execution_count": null,
   "id": "af142d47-0b5d-4ed5-a571-819eaf828eb6",
   "metadata": {
    "tags": []
   },
   "outputs": [],
   "source": [
    "class Aluno(Person):\n",
    "    def estudar(self):\n",
    "        print('Vai cair na prova?')"
   ]
  },
  {
   "cell_type": "code",
   "execution_count": null,
   "id": "3ba3f7f0-2569-4f58-9839-5f35cdb6e7a6",
   "metadata": {
    "tags": []
   },
   "outputs": [],
   "source": [
    "brad_pitt = Aluno(nome='Brad Pitt', idade=50)"
   ]
  },
  {
   "cell_type": "code",
   "execution_count": null,
   "id": "acd21529-e995-4be1-a702-991b29f14f4f",
   "metadata": {
    "tags": []
   },
   "outputs": [],
   "source": [
    "brad_pitt.aniversario()"
   ]
  },
  {
   "cell_type": "code",
   "execution_count": null,
   "id": "920db7be-a61f-4a63-a0e7-bb2761ee41d1",
   "metadata": {
    "tags": []
   },
   "outputs": [],
   "source": [
    "brad_pitt.estudar()"
   ]
  },
  {
   "cell_type": "markdown",
   "id": "9606e94e-60eb-47f4-b550-d240a1e5010b",
   "metadata": {},
   "source": [
    "Se criarmos um método com o mesmo nome da classe pai, esse método será substituído."
   ]
  },
  {
   "cell_type": "code",
   "execution_count": null,
   "id": "2fb3bdb2-db3b-4ad9-b079-7cdec89e20eb",
   "metadata": {
    "tags": []
   },
   "outputs": [],
   "source": [
    "class Aluno(Person):\n",
    "    def estudar(self):\n",
    "        print('Vai cair na prova?')\n",
    "        \n",
    "    def aniversario(self):\n",
    "        print('Parabéns!! Agora vai estudar!')"
   ]
  },
  {
   "cell_type": "code",
   "execution_count": null,
   "id": "5b11f80c-723c-41ef-8e9c-208e3ee6afdd",
   "metadata": {
    "tags": []
   },
   "outputs": [],
   "source": [
    "brad_pitt = Aluno(nome='Brad Pitt', idade=50)"
   ]
  },
  {
   "cell_type": "code",
   "execution_count": null,
   "id": "74a55473-5e2f-4f96-b988-d2eafa745757",
   "metadata": {
    "tags": []
   },
   "outputs": [],
   "source": [
    "brad_pitt.aniversario()"
   ]
  },
  {
   "cell_type": "markdown",
   "id": "b7c3cec8-cde8-48a3-95fb-dbc865c4e7be",
   "metadata": {},
   "source": [
    "Para adicionar mais atributos à classe que não existem na classe pai, devemos adicioná-la no método \"\\_\\_init\\_\\_\". Porém, se criamos este método, ele sobrescreverá o método da classe pai. Para resolvermos este problema, criamos a função init, mas chamamos a função init da classe pai no ínício, utilizando a referência \"super()\""
   ]
  },
  {
   "cell_type": "code",
   "execution_count": null,
   "id": "f776c028-2dd7-43c0-a3b9-b4a03c9e3212",
   "metadata": {
    "tags": []
   },
   "outputs": [],
   "source": [
    "class Aluno(Person):\n",
    "    def __init__(self, matricula, **kwargs):\n",
    "        super().__init__(**kwargs)\n",
    "        self.matricula = matricula\n",
    "    \n",
    "    def estudar(self):\n",
    "        print('Vai cair na prova?')\n",
    "        \n",
    "    def aniversario(self):\n",
    "        print('Parabéns!! Agora vai estudar!')"
   ]
  },
  {
   "cell_type": "code",
   "execution_count": null,
   "id": "6feee1af-4a8b-4b58-abbc-8fdc44d511f7",
   "metadata": {
    "tags": []
   },
   "outputs": [],
   "source": [
    "brad_pitt = Aluno(nome='Brad Pitt', idade=50, matricula='11111FIS900')"
   ]
  },
  {
   "cell_type": "code",
   "execution_count": null,
   "id": "2fdeb549-b2a7-42eb-becf-f8fa58ca01e2",
   "metadata": {
    "tags": []
   },
   "outputs": [],
   "source": [
    "brad_pitt.nome"
   ]
  },
  {
   "cell_type": "code",
   "execution_count": null,
   "id": "85c6925b-981e-42b7-ae08-43640b2c8865",
   "metadata": {
    "tags": []
   },
   "outputs": [],
   "source": [
    "brad_pitt.matricula"
   ]
  },
  {
   "cell_type": "markdown",
   "id": "5807a908-d572-4ce6-a358-ba301d8e0125",
   "metadata": {},
   "source": [
    "Exemplo de herança de classes\n",
    "\n",
    "![Herança de classe](figuras/heranca.png)"
   ]
  },
  {
   "cell_type": "markdown",
   "id": "79a6e089-3d2e-4004-9bb6-8df5dc27c56f",
   "metadata": {},
   "source": [
    "## Properties\n",
    "\n",
    "Vamos supor que um objeto tenha atributos que dependam de outros atributos, neste caso, quando um é atualizado, precisaríamos atualizar o outro na sequência. Por exemplo:"
   ]
  },
  {
   "cell_type": "code",
   "execution_count": null,
   "id": "d2946c29-51ce-4131-8e6f-a76b82c5fa47",
   "metadata": {
    "tags": []
   },
   "outputs": [],
   "source": [
    "import numpy as np"
   ]
  },
  {
   "cell_type": "code",
   "execution_count": null,
   "id": "e6573b2a-0cb7-42b0-bee6-0da9044c0ea9",
   "metadata": {
    "tags": []
   },
   "outputs": [],
   "source": [
    "class Esfera:\n",
    "    \n",
    "    def __init__(self, raio):\n",
    "        self.raio = raio\n",
    "        self.volume = (4/3)*np.pi*(self.raio**3)"
   ]
  },
  {
   "cell_type": "code",
   "execution_count": null,
   "id": "2e237389-af1a-45b5-b951-a8049e080cbc",
   "metadata": {
    "tags": []
   },
   "outputs": [],
   "source": [
    "e1 = Esfera(raio=1)"
   ]
  },
  {
   "cell_type": "code",
   "execution_count": null,
   "id": "b8fc06ac-aec7-4368-847f-67889f603df3",
   "metadata": {
    "tags": []
   },
   "outputs": [],
   "source": [
    "e1.raio"
   ]
  },
  {
   "cell_type": "code",
   "execution_count": null,
   "id": "8723799b-88e4-4357-a9fa-e4a6369a99e8",
   "metadata": {
    "tags": []
   },
   "outputs": [],
   "source": [
    "e1.volume"
   ]
  },
  {
   "cell_type": "code",
   "execution_count": null,
   "id": "c05b8d32-6a7c-4903-b8cc-94188b562c43",
   "metadata": {
    "tags": []
   },
   "outputs": [],
   "source": [
    "e1.raio = 2"
   ]
  },
  {
   "cell_type": "code",
   "execution_count": null,
   "id": "e7f5836e-cd3f-4513-b154-7c859bb5faac",
   "metadata": {
    "tags": []
   },
   "outputs": [],
   "source": [
    "e1.volume"
   ]
  },
  {
   "cell_type": "markdown",
   "id": "d314e627-e862-43b2-ad07-4916b0ebf82a",
   "metadata": {},
   "source": [
    "Podemos resolver esse problema criando um método chamado \"volume\" que sempre calcular o valor do volume dependendo do valor do raio."
   ]
  },
  {
   "cell_type": "code",
   "execution_count": null,
   "id": "99ea5f13-f2ba-4782-ae96-5e317cb7203b",
   "metadata": {
    "tags": []
   },
   "outputs": [],
   "source": [
    "class Esfera:\n",
    "    \n",
    "    def __init__(self, raio):\n",
    "        self.raio = raio\n",
    "        \n",
    "    def volume(self):\n",
    "        vol = (4/3)*np.pi*(self.raio**3)\n",
    "        return vol"
   ]
  },
  {
   "cell_type": "code",
   "execution_count": null,
   "id": "ae4d8db0-2367-44d1-b68e-4ceae35776c8",
   "metadata": {
    "tags": []
   },
   "outputs": [],
   "source": [
    "e2 = Esfera(1)"
   ]
  },
  {
   "cell_type": "code",
   "execution_count": null,
   "id": "a5c60134-74d8-4bac-b839-9b64bd44c0e9",
   "metadata": {
    "tags": []
   },
   "outputs": [],
   "source": [
    "print(e2.raio)\n",
    "print(e2.volume())"
   ]
  },
  {
   "cell_type": "code",
   "execution_count": null,
   "id": "e621159d-19c2-448d-ba35-431d22497ba4",
   "metadata": {
    "tags": []
   },
   "outputs": [],
   "source": [
    "e2.raio = 2"
   ]
  },
  {
   "cell_type": "code",
   "execution_count": null,
   "id": "aedcc1ba-ac4b-4849-9e9a-85998c0c82f8",
   "metadata": {
    "tags": []
   },
   "outputs": [],
   "source": [
    "e2.volume()"
   ]
  },
  {
   "cell_type": "markdown",
   "id": "11935974-a785-4226-a90a-b39f76da4fdb",
   "metadata": {},
   "source": [
    "Porém, o volume não é um método da esfera, não é uma ação que a esfera pode fazer, mas é um atributo que depende de outro atributo. Para que o código fique mais intuitivo de usar, tendo essa característica variável, mas sendo um atributo, podemos utilizar o decorador \"property\"\n",
    "\n",
    "**Nota: Não se preocupem com decoradores no momento.**"
   ]
  },
  {
   "cell_type": "code",
   "execution_count": null,
   "id": "f8f97201-eee9-490a-8816-2825d26b3bda",
   "metadata": {
    "tags": []
   },
   "outputs": [],
   "source": [
    "class Esfera:\n",
    "    \n",
    "    def __init__(self, raio):\n",
    "        self.raio = raio\n",
    "        \n",
    "    @property\n",
    "    def volume(self):\n",
    "        vol = (4/3)*np.pi*(self.raio**3)\n",
    "        return vol"
   ]
  },
  {
   "cell_type": "code",
   "execution_count": null,
   "id": "384ca604-ac4f-461a-8a54-29d598c7761b",
   "metadata": {
    "tags": []
   },
   "outputs": [],
   "source": [
    "e3 = Esfera(1)"
   ]
  },
  {
   "cell_type": "code",
   "execution_count": null,
   "id": "4bf4a742-cb52-4bc7-93f2-be27c06cea06",
   "metadata": {
    "tags": []
   },
   "outputs": [],
   "source": [
    "e3.raio"
   ]
  },
  {
   "cell_type": "code",
   "execution_count": null,
   "id": "1f20b679-852c-4c7a-982e-ee91cac09a2a",
   "metadata": {
    "tags": []
   },
   "outputs": [],
   "source": [
    "e3.volume"
   ]
  },
  {
   "cell_type": "code",
   "execution_count": null,
   "id": "1e2de117-8c15-4baa-8e93-018e141d2b89",
   "metadata": {
    "tags": []
   },
   "outputs": [],
   "source": [
    "e3.raio = 2"
   ]
  },
  {
   "cell_type": "code",
   "execution_count": null,
   "id": "1dd4fe47-114c-49ad-98bd-225d94b20b14",
   "metadata": {
    "tags": []
   },
   "outputs": [],
   "source": [
    "e3.volume"
   ]
  },
  {
   "cell_type": "markdown",
   "id": "9d601023-16c5-4d18-8dd8-35d8c07d2c90",
   "metadata": {},
   "source": [
    "## Exemplo\n",
    "\n",
    "Vamos criar uma classe chamada \"Position2D\" que mantém um atributo \"x\" e outro atributo \"y\". Nela, vamos criar uma função chamada \"mover\" que adiciona uma variação de posição. Em seguida, vamos criar uma classe chamada \"Position3D\" que herda de \"Position2D\", mas tem um atributo \"z\" a mais."
   ]
  },
  {
   "cell_type": "code",
   "execution_count": null,
   "id": "a82f3c8b-8d20-49c7-a2e6-5ca2e9699004",
   "metadata": {
    "tags": []
   },
   "outputs": [],
   "source": [
    "class Position2D:\n",
    "    \"\"\" Classe que possui duas coordenadas (x, y)\n",
    "    \"\"\"\n",
    "    \n",
    "    def __init__(self, x, y):\n",
    "        self.x = x\n",
    "        self.y = y\n",
    "        \n",
    "    def mover(self, dx, dy):\n",
    "        self.x = self.x + dx\n",
    "        self.y = self.y + dy\n",
    "        \n",
    "    def __str__(self):\n",
    "        string = '({}, {})'.format(self.x, self.y)\n",
    "        return string"
   ]
  },
  {
   "cell_type": "code",
   "execution_count": null,
   "id": "a8bfa307-e153-4151-8c31-4edb8acbc66b",
   "metadata": {
    "tags": []
   },
   "outputs": [],
   "source": [
    "p1 = Position2D(x=3, y=4)"
   ]
  },
  {
   "cell_type": "code",
   "execution_count": null,
   "id": "466d0844-33ec-41fa-a15f-3316beea39f3",
   "metadata": {
    "tags": []
   },
   "outputs": [],
   "source": [
    "print(p1)"
   ]
  },
  {
   "cell_type": "code",
   "execution_count": null,
   "id": "0fedafe2-2e30-488b-b02d-698726a549e7",
   "metadata": {
    "tags": []
   },
   "outputs": [],
   "source": [
    "p1.mover(dx=5, dy=7)"
   ]
  },
  {
   "cell_type": "code",
   "execution_count": null,
   "id": "b6b86a78-226e-4b19-b779-bfef6fa91287",
   "metadata": {
    "tags": []
   },
   "outputs": [],
   "source": [
    "print(p1)"
   ]
  },
  {
   "cell_type": "code",
   "execution_count": null,
   "id": "c7971866-58a3-433b-81b9-049d863df45a",
   "metadata": {
    "tags": []
   },
   "outputs": [],
   "source": [
    "class Position3D(Position2D):\n",
    "    \"\"\" Classe que possui três coordenadas (x, y, z)\n",
    "    \"\"\"\n",
    "    \n",
    "    def __init__(self, z, **kwargs):\n",
    "        super().__init__(**kwargs)\n",
    "        self.z = z\n",
    "        \n",
    "    def __str__(self):\n",
    "        string = super().__str__()[:-1] + ', {})'.format(self.z)\n",
    "        return string\n",
    "        \n",
    "    def mover(self, dz, **kwargs):\n",
    "        super().mover(**kwargs)\n",
    "        self.z = self.z + dz"
   ]
  },
  {
   "cell_type": "code",
   "execution_count": null,
   "id": "160c8465-760b-4e4c-bd6e-56e0fc4231d6",
   "metadata": {
    "tags": []
   },
   "outputs": [],
   "source": [
    "p2 = Position3D(x=1, y=2, z=3)"
   ]
  },
  {
   "cell_type": "code",
   "execution_count": null,
   "id": "66f88fca-ce34-4cca-84e9-bf8771b6e597",
   "metadata": {
    "tags": []
   },
   "outputs": [],
   "source": [
    "print(p2)"
   ]
  },
  {
   "cell_type": "code",
   "execution_count": null,
   "id": "1f567664-0619-4b7b-a745-59b963c8cd1c",
   "metadata": {
    "tags": []
   },
   "outputs": [],
   "source": [
    "p2.mover(dx=30, dy=25, dz=-40)"
   ]
  },
  {
   "cell_type": "code",
   "execution_count": null,
   "id": "098a9fa6-b5d2-45aa-83ef-8c3d21fe0030",
   "metadata": {
    "tags": []
   },
   "outputs": [],
   "source": [
    "print(p2)"
   ]
  },
  {
   "cell_type": "code",
   "execution_count": null,
   "id": "c1ba0bb4-c6c3-4853-b4e7-2076e98cdc7a",
   "metadata": {},
   "outputs": [],
   "source": []
  }
 ],
 "metadata": {
  "kernelspec": {
   "display_name": "Python 3 (ipykernel)",
   "language": "python",
   "name": "python3"
  },
  "language_info": {
   "codemirror_mode": {
    "name": "ipython",
    "version": 3
   },
   "file_extension": ".py",
   "mimetype": "text/x-python",
   "name": "python",
   "nbconvert_exporter": "python",
   "pygments_lexer": "ipython3",
   "version": "3.10.10"
  }
 },
 "nbformat": 4,
 "nbformat_minor": 5
}
