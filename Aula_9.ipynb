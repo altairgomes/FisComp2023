{
 "cells": [
  {
   "cell_type": "markdown",
   "id": "323e3575-62c3-4da6-be71-156236d44e60",
   "metadata": {},
   "source": [
    "# Aula 9\n",
    "\n",
    "Nesta aula aprenderemos sobre métodos mágicos e manuseio de erros em python"
   ]
  },
  {
   "cell_type": "markdown",
   "id": "6c0e3dd3-d776-4be3-ad58-cb3518a7215e",
   "metadata": {},
   "source": [
    "## Error and Exception Handling\n",
    "\n",
    "Toda vez que um código é rodado e há erros aritméticos ou de programação, normalmente desejamos que o código pare, consigamos entender o que deu errado e consertar se necessário.\n",
    "\n",
    "Em python, isso é feito através da classe Exception, que é a classe pai de todas as classes de erro que aparecem.\n",
    "\n",
    "![Classes de Erros e Exceptions](figuras/Erros.png)"
   ]
  },
  {
   "cell_type": "code",
   "execution_count": null,
   "id": "2f959376-d441-445e-8bad-41674e178497",
   "metadata": {
    "tags": []
   },
   "outputs": [],
   "source": [
    "# Esse comando vai gerar ZeroDivisionError porque está tentando dividir por zero.\n",
    "1/0"
   ]
  },
  {
   "cell_type": "code",
   "execution_count": null,
   "id": "4143438b-a6d1-4452-858f-be6cec45b0e8",
   "metadata": {
    "tags": []
   },
   "outputs": [],
   "source": [
    "v = 1\n",
    "# O comando abaixo vai gerar AttributeError porque está tentando acessar um atributo que não foi definido.\n",
    "v.a"
   ]
  },
  {
   "cell_type": "code",
   "execution_count": null,
   "id": "3045c59b-b861-456c-a6d4-9be40ff9dcbe",
   "metadata": {
    "tags": []
   },
   "outputs": [],
   "source": [
    "# O comando abaixo vai gerar NameError porque está tentando acessar uma variável que não foi definida\n",
    "print(b)"
   ]
  },
  {
   "cell_type": "code",
   "execution_count": null,
   "id": "bdcabb9e-ff42-40ca-b096-e0066cb199e2",
   "metadata": {
    "tags": []
   },
   "outputs": [],
   "source": [
    "# O comando abaixo vai gerar TypeError porque está tentando fazer uma operação com variáveis de tipos diferentes.\n",
    "1 + 'text'"
   ]
  },
  {
   "cell_type": "code",
   "execution_count": null,
   "id": "c4da82f3-020a-4cb7-a479-921fdda3aad3",
   "metadata": {
    "tags": []
   },
   "outputs": [],
   "source": [
    "a = {'key1': 1}\n",
    "# O comando abaixo vai gerar um KeyError porque está tentando acessar uma chave que não existe no dicionário.\n",
    "a['key2']"
   ]
  },
  {
   "cell_type": "markdown",
   "id": "8cbccacf-8a18-40d9-88c4-0b26baa78cf8",
   "metadata": {},
   "source": [
    "Porém, às vezes queremos contornar uma mensagem de erro, de forma que o código não trave por causa de um erro que você consiga lidar. Para isso existe a estrutura \"try - except\" que pode ser vista da seguinte forma:\n",
    "\n",
    "```python\n",
    "try:\n",
    "    código a ser monitorado por erros\n",
    "except ErrorClass:\n",
    "    código do que fazer quando um erro previsto acontecer\n",
    "```"
   ]
  },
  {
   "cell_type": "code",
   "execution_count": null,
   "id": "aaf9ad23-944f-4271-9da7-113ed8332b61",
   "metadata": {
    "tags": []
   },
   "outputs": [],
   "source": [
    "# Essa é uma  função de teste que pode gerar um erro se y=0.\n",
    "def divisao(x, y):\n",
    "    return x/y"
   ]
  },
  {
   "cell_type": "code",
   "execution_count": null,
   "id": "6a4df7ea-e2dd-45fe-bdbd-8d228491eb1a",
   "metadata": {
    "tags": []
   },
   "outputs": [],
   "source": [
    "divisao(1, 0)\n",
    "# os comandos após a linha que gera o erro não são executados\n",
    "print('texto após erro')"
   ]
  },
  {
   "cell_type": "code",
   "execution_count": null,
   "id": "d7cc8107-1082-4f75-93ec-d6e0d74854c0",
   "metadata": {
    "tags": []
   },
   "outputs": [],
   "source": [
    "divisao(1, 1)\n",
    "# se não há erro, o comando seguinte é executado\n",
    "print('texto após erro')"
   ]
  },
  {
   "cell_type": "code",
   "execution_count": null,
   "id": "276f8991-05a2-46a2-95f2-8a384d3286b4",
   "metadata": {
    "tags": []
   },
   "outputs": [],
   "source": [
    "try:\n",
    "    divisao(1, 0)\n",
    "except ZeroDivisionError:\n",
    "    print('Deu erro')\n",
    "# Desta vez será gerado um erro, mas como pegamos esse erro e geramos uma exceção, o código irá continuar após o erro.\n",
    "print('texto após erro')"
   ]
  },
  {
   "cell_type": "markdown",
   "id": "584ddf7c-3a07-4371-b234-9c6cf8d45314",
   "metadata": {},
   "source": [
    "## Raise Exception\n",
    "\n",
    "O comando **raise** faz com que um erro ocorra no código. Esse comando é importante para que possamos informar o usuário que houve alguma coisa que impede os comandos seguintes."
   ]
  },
  {
   "cell_type": "code",
   "execution_count": null,
   "id": "cf5cfe8b-1006-4c53-9f83-b51bc8024486",
   "metadata": {},
   "outputs": [],
   "source": [
    "def divisao(a, b):\n",
    "    if b == 0:\n",
    "        # a mensagem dentro da classe irá aparecer para o usuário quando o erro ocorrer.\n",
    "        raise ZeroDivisionError('Não é possível realizar uma divisão quando o denominador é igual a zero')\n",
    "    print(a/b)"
   ]
  },
  {
   "cell_type": "code",
   "execution_count": null,
   "id": "8d3a1ba5-7dfc-4a24-beab-55a2e95eccc6",
   "metadata": {
    "tags": []
   },
   "outputs": [],
   "source": [
    "divisao(2, 0)"
   ]
  },
  {
   "cell_type": "code",
   "execution_count": null,
   "id": "44313b1b-0708-4f0f-8a41-2448f4b9122e",
   "metadata": {},
   "outputs": [],
   "source": []
  }
 ],
 "metadata": {
  "kernelspec": {
   "display_name": "Python 3 (ipykernel)",
   "language": "python",
   "name": "python3"
  },
  "language_info": {
   "codemirror_mode": {
    "name": "ipython",
    "version": 3
   },
   "file_extension": ".py",
   "mimetype": "text/x-python",
   "name": "python",
   "nbconvert_exporter": "python",
   "pygments_lexer": "ipython3",
   "version": "3.10.10"
  }
 },
 "nbformat": 4,
 "nbformat_minor": 5
}
