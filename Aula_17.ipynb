{
 "cells": [
  {
   "cell_type": "markdown",
   "id": "d0737543-d059-4b5d-90eb-23b45ba95632",
   "metadata": {},
   "source": [
    "# Correlação\n",
    "\n",
    "O conteúdo desta aula está presente nos slides que estão juntos com o jupyter notebook.\n",
    "\n",
    "Aqui iremos criar uma função para calcular o Coeficiente de Correlação de Pearson.\n",
    "\n",
    "$$\\rho = \\frac{\\sum_i(x_i - \\bar{x})(y_i - \\bar{y})}{\\sqrt{\\sum_i(x_i - \\bar{x})^2}\\cdot\\sqrt{\\sum_i(y_i - \\bar{y})^2}}$$"
   ]
  },
  {
   "cell_type": "code",
   "execution_count": 1,
   "id": "4b3e9046-a7e0-46d7-b797-89e067f1b6de",
   "metadata": {
    "tags": []
   },
   "outputs": [],
   "source": [
    "import numpy as np\n",
    "import matplotlib.pyplot as plt"
   ]
  },
  {
   "cell_type": "code",
   "execution_count": 2,
   "id": "e120ab5c-cf4d-4e0a-87e8-d4560c3d5736",
   "metadata": {
    "tags": []
   },
   "outputs": [],
   "source": [
    "def pearson(x, y):\n",
    "    \"\"\" Calcula o Coeficiente de Correlação de Pearson\n",
    "    \n",
    "    x : list\n",
    "        List of values for the independent coordinates\n",
    "    y : list\n",
    "        List of values for the dependent coordinates\n",
    "    \"\"\"\n",
    "    # Convete todos os valores para array do numpy para facilitar os cálculos\n",
    "    x = np.array(x)\n",
    "    y = np.array(y)\n",
    "    \n",
    "    # Calcular valores médios\n",
    "    xm = x.mean()\n",
    "    ym = y.mean()\n",
    "    \n",
    "    numerator = np.sum((x - xm)*(y - ym))\n",
    "    denominator = np.sqrt(np.sum((x-xm)**2))*np.sqrt(np.sum((y-ym)**2))\n",
    "    \n",
    "    rho = numerator/denominator\n",
    "    \n",
    "    return rho"
   ]
  },
  {
   "cell_type": "markdown",
   "id": "2582522d-a55c-40ce-8d43-641cae169959",
   "metadata": {},
   "source": [
    "Vamos testar com um conjunto de números lineares"
   ]
  },
  {
   "cell_type": "code",
   "execution_count": 3,
   "id": "f44100f1-3f78-4fe8-97c9-6d18cb7cf321",
   "metadata": {
    "tags": []
   },
   "outputs": [],
   "source": [
    "a = np.arange(20)\n",
    "b = np.arange(20)+10"
   ]
  },
  {
   "cell_type": "code",
   "execution_count": 4,
   "id": "8c6c63b7-06a4-4f0c-ad84-6ac4a9b1abc1",
   "metadata": {
    "tags": []
   },
   "outputs": [
    {
     "name": "stdout",
     "output_type": "stream",
     "text": [
      "[ 0  1  2  3  4  5  6  7  8  9 10 11 12 13 14 15 16 17 18 19]\n",
      "[10 11 12 13 14 15 16 17 18 19 20 21 22 23 24 25 26 27 28 29]\n"
     ]
    }
   ],
   "source": [
    "print(a)\n",
    "print(b)"
   ]
  },
  {
   "cell_type": "code",
   "execution_count": 5,
   "id": "737be19d-49de-4050-a5c5-d27046f0c1d7",
   "metadata": {
    "tags": []
   },
   "outputs": [
    {
     "data": {
      "text/plain": [
       "1.0"
      ]
     },
     "execution_count": 5,
     "metadata": {},
     "output_type": "execute_result"
    }
   ],
   "source": [
    "pearson(a, b)"
   ]
  },
  {
   "cell_type": "code",
   "execution_count": 6,
   "id": "15905b8a-0418-4dc1-9a7d-4ce620d03e45",
   "metadata": {
    "tags": []
   },
   "outputs": [
    {
     "data": {
      "text/plain": [
       "-1.0"
      ]
     },
     "execution_count": 6,
     "metadata": {},
     "output_type": "execute_result"
    }
   ],
   "source": [
    "# Invertendo a lista de b para ter uma correlação negativa\n",
    "pearson(a, b[::-1])"
   ]
  },
  {
   "cell_type": "code",
   "execution_count": 7,
   "id": "375a6656-fa59-4b6c-82ac-59157d5edd7b",
   "metadata": {
    "tags": []
   },
   "outputs": [
    {
     "data": {
      "text/plain": [
       "0.9914328639355028"
      ]
     },
     "execution_count": 7,
     "metadata": {},
     "output_type": "execute_result"
    }
   ],
   "source": [
    "# Testando se a correlação permite obter correlação com uma variável ao quadrado\n",
    "pearson(a, b**2)"
   ]
  },
  {
   "cell_type": "markdown",
   "id": "2a8b26cd-a4b9-4003-a1fd-478ab22dda27",
   "metadata": {},
   "source": [
    "## Aplicação a dados reais\n",
    "\n",
    "Agora vamos aplicar para um banco de dados de Exoplanetas"
   ]
  },
  {
   "cell_type": "code",
   "execution_count": 8,
   "id": "e73eea0b-200e-478a-a38e-166d35250f21",
   "metadata": {
    "tags": []
   },
   "outputs": [],
   "source": [
    "from astroquery.ipac.nexsci.nasa_exoplanet_archive import NasaExoplanetArchive"
   ]
  },
  {
   "cell_type": "code",
   "execution_count": 9,
   "id": "e73ada2b-2a03-47c9-a56d-145fef066b04",
   "metadata": {
    "tags": []
   },
   "outputs": [],
   "source": [
    "# Obtemos os dados das colunas 'pl_bmasse' e 'pl_rade' tabela \"pscomppars\".\n",
    "# Estas colunas dão a massa e raio dos exoplanetas em massas e raios terrestres\n",
    "data = NasaExoplanetArchive.query_criteria(table='pscomppars', select='pl_bmasse, pl_rade')"
   ]
  },
  {
   "cell_type": "code",
   "execution_count": 10,
   "id": "2f95c5ee-ae92-46f8-b5df-3a2a111e4768",
   "metadata": {
    "tags": []
   },
   "outputs": [
    {
     "data": {
      "text/html": [
       "<div><i>QTable masked=True length=5528</i>\n",
       "<table id=\"table139982246521312\" class=\"table-striped table-bordered table-condensed\">\n",
       "<thead><tr><th>pl_bmasse</th><th>pl_rade</th></tr></thead>\n",
       "<thead><tr><th>earthMass</th><th>earthRad</th></tr></thead>\n",
       "<thead><tr><th>float64</th><th>float64</th></tr></thead>\n",
       "<tr><td>250.0</td><td>13.9</td></tr>\n",
       "<tr><td>16.6</td><td>2.9</td></tr>\n",
       "<tr><td>5.1</td><td>2.11</td></tr>\n",
       "<tr><td>12.2</td><td>3.52</td></tr>\n",
       "<tr><td>4.94</td><td>2.07</td></tr>\n",
       "<tr><td>13.2</td><td>2.76</td></tr>\n",
       "<tr><td>422.7139</td><td>13.6</td></tr>\n",
       "<tr><td>1131.1513</td><td>13.1</td></tr>\n",
       "<tr><td>2926.24614</td><td>12.5</td></tr>\n",
       "<tr><td>...</td><td>...</td></tr>\n",
       "<tr><td>29.87587</td><td>5.98</td></tr>\n",
       "<tr><td>26.1</td><td>5.44</td></tr>\n",
       "<tr><td>15.4</td><td>4.05</td></tr>\n",
       "<tr><td>9.03</td><td>2.953</td></tr>\n",
       "<tr><td>581.62598</td><td>13.4</td></tr>\n",
       "<tr><td>10.7</td><td>3.273</td></tr>\n",
       "<tr><td>3.02</td><td>1.55</td></tr>\n",
       "<tr><td>34.62</td><td>6.06</td></tr>\n",
       "<tr><td>13.0</td><td>3.662</td></tr>\n",
       "<tr><td>24.1</td><td>5.26</td></tr>\n",
       "</table></div>"
      ],
      "text/plain": [
       "<QTable masked=True length=5528>\n",
       "pl_bmasse  pl_rade \n",
       "earthMass  earthRad\n",
       " float64   float64 \n",
       "---------- --------\n",
       "     250.0     13.9\n",
       "      16.6      2.9\n",
       "       5.1     2.11\n",
       "      12.2     3.52\n",
       "      4.94     2.07\n",
       "      13.2     2.76\n",
       "  422.7139     13.6\n",
       " 1131.1513     13.1\n",
       "2926.24614     12.5\n",
       "       ...      ...\n",
       "  29.87587     5.98\n",
       "      26.1     5.44\n",
       "      15.4     4.05\n",
       "      9.03    2.953\n",
       " 581.62598     13.4\n",
       "      10.7    3.273\n",
       "      3.02     1.55\n",
       "     34.62     6.06\n",
       "      13.0    3.662\n",
       "      24.1     5.26"
      ]
     },
     "execution_count": 10,
     "metadata": {},
     "output_type": "execute_result"
    }
   ],
   "source": [
    "data"
   ]
  },
  {
   "cell_type": "code",
   "execution_count": 11,
   "id": "9fa50c76-cb10-4c71-9edd-ec365d7eef2c",
   "metadata": {
    "tags": []
   },
   "outputs": [],
   "source": [
    "m = data['pl_bmasse']\n",
    "r = data['pl_rade']"
   ]
  },
  {
   "cell_type": "code",
   "execution_count": 12,
   "id": "936b9b69-cac4-43a4-b61c-f758ae4e0816",
   "metadata": {
    "tags": []
   },
   "outputs": [],
   "source": [
    "# Criamos uma máscara para remover as linhas onde o raio ou a massa não estão determinados\n",
    "mask = np.where((r.value > 0) & (m.value > 0))"
   ]
  },
  {
   "cell_type": "code",
   "execution_count": 13,
   "id": "6ed1c550-e094-4d4d-bafc-7baeaaf12409",
   "metadata": {
    "tags": []
   },
   "outputs": [
    {
     "data": {
      "text/plain": [
       "0.3244269076955163"
      ]
     },
     "execution_count": 13,
     "metadata": {},
     "output_type": "execute_result"
    }
   ],
   "source": [
    "pearson(m[mask],r[mask])"
   ]
  },
  {
   "cell_type": "code",
   "execution_count": 14,
   "id": "c733f388-11ae-4d2f-ba49-227e8aa08442",
   "metadata": {
    "tags": []
   },
   "outputs": [
    {
     "data": {
      "text/plain": [
       "(0.0, 20000.0)"
      ]
     },
     "execution_count": 14,
     "metadata": {},
     "output_type": "execute_result"
    },
    {
     "data": {
      "image/png": "[encoded data removed]",
      "text/plain": [
       "<Figure size 640x480 with 1 Axes>"
      ]
     },
     "metadata": {},
     "output_type": "display_data"
    }
   ],
   "source": [
    "import matplotlib.pyplot as plt\n",
    "plt.plot(m[mask], r[mask], 'o')\n",
    "plt.xlim(0, 20000)"
   ]
  },
  {
   "cell_type": "markdown",
   "id": "d8ff149c-5453-4350-8009-df1cd6bc9386",
   "metadata": {},
   "source": [
    "Visualmente, realmente parece que não há correlação entre a massa e o raio dos exoplanetas. Porém, se o raio de um planeta aumenta, a não ser que a densidade diminua de forma considerável, então a massa também deveria aumentar.\n",
    "\n",
    "Vamos dar uma olhada se plotarmos os logaritmos dos valores, invés dos próprios valores."
   ]
  },
  {
   "cell_type": "code",
   "execution_count": 15,
   "id": "07797b2e-8156-4acf-8558-de7aa54f87b2",
   "metadata": {
    "tags": []
   },
   "outputs": [
    {
     "data": {
      "text/plain": [
       "[<matplotlib.lines.Line2D at 0x7f4fe0a79930>]"
      ]
     },
     "execution_count": 15,
     "metadata": {},
     "output_type": "execute_result"
    },
    {
     "data": {
      "image/png": "[encoded data removed]",
      "text/plain": [
       "<Figure size 640x480 with 1 Axes>"
      ]
     },
     "metadata": {},
     "output_type": "display_data"
    }
   ],
   "source": [
    "plt.plot(np.log10(m[mask].value), np.log10(r[mask].value), 'o')"
   ]
  },
  {
   "cell_type": "markdown",
   "id": "01fa9da5-bb2c-49d9-a8cd-a98c5ceb58b3",
   "metadata": {},
   "source": [
    "Vendo o gráfico do logaritmo, eu esperaria que tivesse realmente uma correlação entre a massa e o raio. Vamos calcular o coeficiente de correlação para esses valores"
   ]
  },
  {
   "cell_type": "code",
   "execution_count": 16,
   "id": "ad7a3a99-bf45-43c6-aa65-78492e46add7",
   "metadata": {
    "tags": []
   },
   "outputs": [
    {
     "data": {
      "text/plain": [
       "0.927426012067645"
      ]
     },
     "execution_count": 16,
     "metadata": {},
     "output_type": "execute_result"
    }
   ],
   "source": [
    "pearson(np.log10(m[mask].value), np.log10(r[mask].value))"
   ]
  },
  {
   "cell_type": "markdown",
   "id": "992e8e1d-6157-49c4-88d0-26e6c6e050a3",
   "metadata": {},
   "source": [
    "Então realmente existe uma correlação entre esses dois valores, mas a correlação não é linear como esperado pelo método de Pearson. Para obter outros coeficientes de correlação, vamos utilizar as ferramentas do scipy."
   ]
  },
  {
   "cell_type": "code",
   "execution_count": 17,
   "id": "729e06ff-c272-4f99-a970-126130a5f19e",
   "metadata": {
    "tags": []
   },
   "outputs": [],
   "source": [
    "from scipy import stats"
   ]
  },
  {
   "cell_type": "code",
   "execution_count": 18,
   "id": "2dd64cd1-55c3-4a95-8441-c368323b5bf6",
   "metadata": {
    "tags": []
   },
   "outputs": [
    {
     "data": {
      "text/plain": [
       "PearsonRResult(statistic=0.3244269076955162, pvalue=9.686275152151309e-135)"
      ]
     },
     "execution_count": 18,
     "metadata": {},
     "output_type": "execute_result"
    }
   ],
   "source": [
    "stats.pearsonr(m[mask], r[mask])"
   ]
  },
  {
   "cell_type": "markdown",
   "id": "49c9e413-932e-44c8-8dc8-82ffdb675dbb",
   "metadata": {},
   "source": [
    "Note que a correlação de Pearson dá o mesmo valor que obtivemos anteriormente"
   ]
  },
  {
   "cell_type": "code",
   "execution_count": 19,
   "id": "7ffaae93-4564-405b-85a7-27623be3fcf9",
   "metadata": {
    "tags": []
   },
   "outputs": [
    {
     "data": {
      "text/plain": [
       "SignificanceResult(statistic=0.9396778062640588, pvalue=0.0)"
      ]
     },
     "execution_count": 19,
     "metadata": {},
     "output_type": "execute_result"
    }
   ],
   "source": [
    "stats.spearmanr(m[mask], r[mask])"
   ]
  },
  {
   "cell_type": "markdown",
   "id": "c567b474-7b1a-4bb8-a96c-f446213171f6",
   "metadata": {},
   "source": [
    "Já o coeficiente de correlação de Spearman consegue recuperar a informação que existe correlação entre as duas grandezas, mas não é possível dizer de que maneira essa correlação se apresenta."
   ]
  },
  {
   "cell_type": "code",
   "execution_count": null,
   "id": "d6a8e951-6bb7-4c67-9b22-e56ab7317f94",
   "metadata": {},
   "outputs": [],
   "source": []
  }
 ],
 "metadata": {
  "kernelspec": {
   "display_name": "Python 3 (ipykernel)",
   "language": "python",
   "name": "python3"
  },
  "language_info": {
   "codemirror_mode": {
    "name": "ipython",
    "version": 3
   },
   "file_extension": ".py",
   "mimetype": "text/x-python",
   "name": "python",
   "nbconvert_exporter": "python",
   "pygments_lexer": "ipython3",
   "version": "3.10.10"
  }
 },
 "nbformat": 4,
 "nbformat_minor": 5
}
